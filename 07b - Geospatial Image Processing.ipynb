{
 "cells": [
  {
   "cell_type": "markdown",
   "id": "0b102023",
   "metadata": {},
   "source": [
    "https://github.com/thomaspingel/intro_to_geospatial_python/blob/master/10.%20Open%20Source%20Geospatial%20Tools%20for%20Python.ipynb"
   ]
  },
  {
   "cell_type": "markdown",
   "id": "777d575c",
   "metadata": {},
   "source": [
    "So far we've used a number of packages for image input and output, with imageio and matplotlib likely to be most commonly used.  For image processing, we've looked at scipy's ndimage and scikit-image, both of which can apply filters to perform neighborhood calculations.  Now we'll look at geospatial-specific libraries to do similar things."
   ]
  },
  {
   "cell_type": "markdown",
   "id": "33351cd9",
   "metadata": {},
   "source": [
    "# GDAL"
   ]
  },
  {
   "cell_type": "markdown",
   "id": "41ba1668",
   "metadata": {},
   "source": [
    "[GDAL](https://en.wikipedia.org/wiki/GDAL) ([gdal.org](https://gdal.org/)) is the Geospatial Data abstraction library, and it's the core engine for reading raster geospatial data.  GDAL is used in many applications: ArcGIS and QGIS both include distributions, as do many Python packages.  You might try to do a search for GDAL.exe in your program files and see what comes up.\n",
    "\n",
    "GDAL is written in C, but includes Python bindings.  The Python Bindings for GDAL are [here](https://gdal.org/api/python_bindings.html).\n",
    "\n",
    "Installation is usually done with conda (or with conda-forge), but [Chrisoph Gohlke's Unofficial Precompiled Python Libraries](https://www.lfd.uci.edu/~gohlke/pythonlibs/#gdal) still come in handy once in a while.  I usually use Rasterio these days for geospatial image manipulation and that installs gdal as a dependency.\n",
    "\n",
    "It's nice to know a little GDAL, though, because it has fewer dependencies and will likely be a part of the geospatial computing landscape for decades to come.  \n",
    "\n",
    "Remember that GDAL is a nice collection of commandline tools as well, [each of which can be run with Python](https://stackoverflow.com/questions/89228/how-do-i-execute-a-program-or-call-a-system-command).  Two very valuable ones are [GDALWARP](https://gdal.org/programs/gdalwarp.html), which can project rasters, and [GDALDEM](https://gdal.org/programs/gdaldem.html) which can calculate many morphometric variables.  "
   ]
  },
  {
   "cell_type": "code",
   "execution_count": null,
   "id": "ae09ece1",
   "metadata": {},
   "outputs": [],
   "source": [
    "import numpy as np\n",
    "import matplotlib.pyplot as plt\n",
    "import imageio\n",
    "\n",
    "from osgeo import gdal    # This used to be a simple import gdal"
   ]
  },
  {
   "cell_type": "code",
   "execution_count": null,
   "id": "3797c1b5",
   "metadata": {},
   "outputs": [],
   "source": [
    "I = imageio.v2.imread('data/nasadem_blacksburg_area.tif')"
   ]
  },
  {
   "cell_type": "code",
   "execution_count": null,
   "id": "564115e4",
   "metadata": {},
   "outputs": [],
   "source": [
    "I"
   ]
  },
  {
   "cell_type": "code",
   "execution_count": 23,
   "id": "cfd1329a",
   "metadata": {},
   "outputs": [],
   "source": [
    "# This is one way to read through a GeoTIFF using GDAL.\n",
    "# The data is read, but also the geotransform and the projection.  Other metadata is available as well.\n",
    "# At the end, the object (src) can be deleted to close it.  This is safer than the .close() command.\n",
    "\n",
    "src = gdal.Open('data/nasadem_blacksburg_area.tif')\n",
    "image_array = src.ReadAsArray()\n",
    "gt = src.GetGeoTransform()\n",
    "projection = src.GetProjection()\n",
    "del src"
   ]
  },
  {
   "cell_type": "code",
   "execution_count": 26,
   "id": "0615c53e",
   "metadata": {},
   "outputs": [
    {
     "ename": "AttributeError",
     "evalue": "__enter__",
     "output_type": "error",
     "traceback": [
      "\u001b[1;31m---------------------------------------------------------------------------\u001b[0m",
      "\u001b[1;31mAttributeError\u001b[0m                            Traceback (most recent call last)",
      "\u001b[1;32m~\\AppData\\Local\\Temp\\ipykernel_17712\\332665329.py\u001b[0m in \u001b[0;36m<cell line: 3>\u001b[1;34m()\u001b[0m\n\u001b[0;32m      1\u001b[0m \u001b[1;31m# It would be better to use a \"with\" command, but this doesn't seem to work\u001b[0m\u001b[1;33m\u001b[0m\u001b[1;33m\u001b[0m\u001b[1;33m\u001b[0m\u001b[0m\n\u001b[0;32m      2\u001b[0m \u001b[1;33m\u001b[0m\u001b[0m\n\u001b[1;32m----> 3\u001b[1;33m \u001b[1;32mwith\u001b[0m \u001b[0mgdal\u001b[0m\u001b[1;33m.\u001b[0m\u001b[0mOpen\u001b[0m\u001b[1;33m(\u001b[0m\u001b[1;34m'data/nasadem_blacksburg_area.tif'\u001b[0m\u001b[1;33m)\u001b[0m \u001b[1;32mas\u001b[0m \u001b[0msrc\u001b[0m\u001b[1;33m:\u001b[0m\u001b[1;33m\u001b[0m\u001b[1;33m\u001b[0m\u001b[0m\n\u001b[0m\u001b[0;32m      4\u001b[0m     \u001b[0mimage_array\u001b[0m \u001b[1;33m=\u001b[0m \u001b[0msrc\u001b[0m\u001b[1;33m.\u001b[0m\u001b[0mReadAsArray\u001b[0m\u001b[1;33m(\u001b[0m\u001b[1;33m)\u001b[0m\u001b[1;33m\u001b[0m\u001b[1;33m\u001b[0m\u001b[0m\n\u001b[0;32m      5\u001b[0m     \u001b[0mgt\u001b[0m \u001b[1;33m=\u001b[0m \u001b[0msrc\u001b[0m\u001b[1;33m.\u001b[0m\u001b[0mGetGeoTransform\u001b[0m\u001b[1;33m(\u001b[0m\u001b[1;33m)\u001b[0m\u001b[1;33m\u001b[0m\u001b[1;33m\u001b[0m\u001b[0m\n",
      "\u001b[1;31mAttributeError\u001b[0m: __enter__"
     ]
    }
   ],
   "source": [
    "# It would be better to use a \"with\" command, but this doesn't seem to work\n",
    "\n",
    "with gdal.Open('data/nasadem_blacksburg_area.tif') as src:\n",
    "    image_array = src.ReadAsArray()\n",
    "    gt = src.GetGeoTransform()\n",
    "    projection = src.GetProjection()"
   ]
  },
  {
   "cell_type": "code",
   "execution_count": 24,
   "id": "603d6767",
   "metadata": {},
   "outputs": [
    {
     "data": {
      "text/plain": [
       "array([[607.5784 , 608.8551 , 609.8437 , ..., 641.1217 , 646.8145 ,\n",
       "        652.50726],\n",
       "       [607.0702 , 608.2813 , 609.0966 , ..., 643.54565, 648.70953,\n",
       "        654.4122 ],\n",
       "       [607.4888 , 608.10114, 608.35315, ..., 646.5481 , 650.92975,\n",
       "        656.6323 ],\n",
       "       ...,\n",
       "       [548.7557 , 548.9494 , 548.2284 , ..., 699.3221 , 696.8954 ,\n",
       "        695.38135],\n",
       "       [546.67267, 546.6051 , 545.77203, ..., 696.76276, 692.43494,\n",
       "        689.51666],\n",
       "       [545.5378 , 545.44525, 544.2103 , ..., 695.25116, 689.15027,\n",
       "        684.99023]], dtype=float32)"
      ]
     },
     "execution_count": 24,
     "metadata": {},
     "output_type": "execute_result"
    }
   ],
   "source": [
    "# The image_array is just what you'd expect, and is no different than what you'd get with an imageio read.\n",
    "\n",
    "image_array"
   ]
  },
  {
   "cell_type": "code",
   "execution_count": 25,
   "id": "dd7bd970",
   "metadata": {},
   "outputs": [
    {
     "data": {
      "text/plain": [
       "'PROJCS[\"WGS 84 / UTM zone 17N\",GEOGCS[\"WGS 84\",DATUM[\"WGS_1984\",SPHEROID[\"WGS 84\",6378137,298.257223563,AUTHORITY[\"EPSG\",\"7030\"]],AUTHORITY[\"EPSG\",\"6326\"]],PRIMEM[\"Greenwich\",0],UNIT[\"degree\",0.0174532925199433,AUTHORITY[\"EPSG\",\"9122\"]],AUTHORITY[\"EPSG\",\"4326\"]],PROJECTION[\"Transverse_Mercator\"],PARAMETER[\"latitude_of_origin\",0],PARAMETER[\"central_meridian\",-81],PARAMETER[\"scale_factor\",0.9996],PARAMETER[\"false_easting\",500000],PARAMETER[\"false_northing\",0],UNIT[\"metre\",1,AUTHORITY[\"EPSG\",\"9001\"]],AXIS[\"Easting\",EAST],AXIS[\"Northing\",NORTH],AUTHORITY[\"EPSG\",\"32617\"]]'"
      ]
     },
     "execution_count": 25,
     "metadata": {},
     "output_type": "execute_result"
    }
   ],
   "source": [
    "# The projection data is a standard string:\n",
    "\n",
    "projection"
   ]
  },
  {
   "cell_type": "code",
   "execution_count": 27,
   "id": "3006fcf7",
   "metadata": {},
   "outputs": [
    {
     "data": {
      "text/plain": [
       "(537546.6982884794,\n",
       " 17.48589996167486,\n",
       " 0.0,\n",
       " 4130330.7579188175,\n",
       " 0.0,\n",
       " -17.48589996167495)"
      ]
     },
     "execution_count": 27,
     "metadata": {},
     "output_type": "execute_result"
    }
   ],
   "source": [
    "# The geotransform is a six-digit tuple containing standard coordinate referencing information: \n",
    "# x, resolution_x, rotation_x, y, rotation_y, resolution_y\n",
    "\n",
    "gt"
   ]
  },
  {
   "cell_type": "markdown",
   "id": "6c61afcd",
   "metadata": {},
   "source": [
    "## [Iowa State NEXRAD data](https://mesonet.agron.iastate.edu/docs/nexrad_mosaic/) and [GDAL GeoTransforms](https://gdal.org/tutorials/geotransforms_tut.html)"
   ]
  },
  {
   "cell_type": "code",
   "execution_count": 29,
   "id": "cea7a980",
   "metadata": {},
   "outputs": [],
   "source": [
    "# Here is an example with a PNG and associated world file\n",
    "# https://mesonet.agron.iastate.edu/docs/nexrad_mosaic/\n",
    "# Even though the world file is not a part of the PNG, GDAL knows to look for it due to naming conventions.\n",
    "\n",
    "# Open the image; I is an object, not an array!\n",
    "image_object = gdal.Open('data/n0q_202304190000.png')\n",
    "\n",
    "# Read the array data\n",
    "image_array = image_object.ReadAsArray()\n",
    "\n",
    "# Read the transformation array\n",
    "gt = image_object.GetGeoTransform()\n",
    "\n",
    "# Close the image object when you're done\n",
    "del image_object"
   ]
  },
  {
   "cell_type": "code",
   "execution_count": 30,
   "id": "bb16d615",
   "metadata": {},
   "outputs": [
    {
     "name": "stdout",
     "output_type": "stream",
     "text": [
      "(-126.0025, 0.005, 0.0, 50.0025, 0.0, -0.005)\n"
     ]
    }
   ],
   "source": [
    "# Look at the geotransform; this provides information about grid size and location.  \n",
    "# Compare to World File!\n",
    "# Unlike the world file, the tuple shown here references from the upper left corner (not the center) of the upper left pixel\n",
    "\n",
    "print(gt)"
   ]
  },
  {
   "cell_type": "markdown",
   "id": "8042d6af",
   "metadata": {},
   "source": [
    "Take a moment to review GDAL's [GeoTransform Tutorial](https://gdal.org/tutorials/geotransforms_tut.html) as this affects how pixel coordinates are calculated.  GDAL imagines that 0,0 in pixel space corresponds to the upper left corner of the upper left pixel.  Some conceptions of pixel space imagine that 0,0 is the center of that pixel.  You must be careful when processing raster data to handle this correctly!  For an extended discussion, see [ETOPO1's grid/node vs cell/pixel registration of raster](https://www.ncei.noaa.gov/products/grid-cell-registration). "
   ]
  },
  {
   "cell_type": "markdown",
   "id": "e3e95032",
   "metadata": {},
   "source": [
    "<img src=\"http://www.ncei.noaa.gov/sites/default/files/2020-04/gridregistrationfigure1.PNG\" width=600>"
   ]
  },
  {
   "cell_type": "markdown",
   "id": "62f353cb",
   "metadata": {},
   "source": [
    "So this image is 5400 x 12200, with a cell size of .005 (degrees) and the upper left corner of the upper left pixel is at -126.0025 (longitude) and 50.0025 (latitude)\n",
    "\n",
    "We can do some simple math to get the center of the upper left corner pixel (We'll calculate pixel centers, not edges)"
   ]
  },
  {
   "cell_type": "code",
   "execution_count": 32,
   "id": "79067df2",
   "metadata": {},
   "outputs": [
    {
     "data": {
      "text/plain": [
       "(-126.0025, 0.005, 0.0, 50.0025, 0.0, -0.005)"
      ]
     },
     "execution_count": 32,
     "metadata": {},
     "output_type": "execute_result"
    }
   ],
   "source": [
    "gt"
   ]
  },
  {
   "cell_type": "code",
   "execution_count": 31,
   "id": "5fb60ae0",
   "metadata": {},
   "outputs": [
    {
     "name": "stdout",
     "output_type": "stream",
     "text": [
      "Upper left corner: (-126.0, 50.0)\n"
     ]
    }
   ],
   "source": [
    "ul_corner = gt[0] + gt[1]/2, gt[3] + gt[5]/2\n",
    "print('Upper left corner:',ul_corner)"
   ]
  },
  {
   "cell_type": "code",
   "execution_count": 34,
   "id": "2427920c",
   "metadata": {},
   "outputs": [
    {
     "name": "stdout",
     "output_type": "stream",
     "text": [
      "Lower right corner: (-65.0, 22.999999999999996)\n"
     ]
    }
   ],
   "source": [
    "# Can you calculate the center of the lower right pixel?\n",
    "\n",
    "nrows,ncols = np.shape(image_array)\n",
    "\n",
    "lr_corner = gt[0] + ncols*gt[1] + gt[1]/2, gt[3] + nrows*gt[5] + gt[5]/2\n",
    "print('Lower right corner:',lr_corner)"
   ]
  },
  {
   "cell_type": "code",
   "execution_count": 35,
   "id": "deb32a1c",
   "metadata": {},
   "outputs": [],
   "source": [
    "# We can calculate all pixel centers this way\n",
    "\n",
    "lons = np.linspace(gt[0],lr_corner[0],ncols)\n",
    "lats = np.linspace(gt[3],lr_corner[1],nrows)"
   ]
  },
  {
   "cell_type": "code",
   "execution_count": 36,
   "id": "d013dbe1",
   "metadata": {},
   "outputs": [
    {
     "name": "stdout",
     "output_type": "stream",
     "text": [
      "[50.0025     49.99749861 49.99249722 ... 23.01000278 23.00500139\n",
      " 23.        ]\n"
     ]
    }
   ],
   "source": [
    "print(lats)"
   ]
  },
  {
   "cell_type": "markdown",
   "id": "d9f0011b",
   "metadata": {},
   "source": [
    "## Automatically downloading data"
   ]
  },
  {
   "cell_type": "code",
   "execution_count": 37,
   "id": "82767196",
   "metadata": {},
   "outputs": [],
   "source": [
    "import time\n",
    "import datetime\n",
    "import os\n",
    "import urllib\n",
    "import sys"
   ]
  },
  {
   "cell_type": "code",
   "execution_count": 41,
   "id": "7efa5160",
   "metadata": {},
   "outputs": [
    {
     "data": {
      "text/plain": [
       "('myfile.png', <http.client.HTTPMessage at 0x2a34dfca2e0>)"
      ]
     },
     "execution_count": 41,
     "metadata": {},
     "output_type": "execute_result"
    }
   ],
   "source": [
    "url = 'https://mesonet.agron.iastate.edu/archive/data/2023/04/19/GIS/uscomp/n0q_202304190045.png'\n",
    "urllib.request.urlretrieve(url,'myfile.png')"
   ]
  },
  {
   "cell_type": "code",
   "execution_count": 42,
   "id": "9caf18f9",
   "metadata": {},
   "outputs": [],
   "source": [
    "# We could write a function to download NEXRAD data between some given dates\n",
    "# There's a lot of code here, but most of the work is being done by urllib.request.urlretrieve\n",
    "\n",
    "import time\n",
    "import datetime\n",
    "import os\n",
    "import urllib\n",
    "import sys\n",
    "\n",
    "def fetch_iastate(start_date,end_date,outdir,request_delay=.01,output=False):\n",
    "    if not os.path.exists(outdir):\n",
    "        os.mkdir(outdir)\n",
    "    current_date = start_date  \n",
    "    time_delta = datetime.timedelta(minutes=5)\n",
    "    while current_date < end_date:\n",
    "        image_path = outdir + '/' + current_date.strftime('%Y%m%d%H%M.png')\n",
    "        if output:\n",
    "                print(\"checking for \" + image_path)\n",
    "        if not os.path.exists(image_path):\n",
    "            url = current_date.strftime('http://mesonet.agron.iastate.edu/archive/data/%Y/%m/%d/GIS/uscomp/n0r_%Y%m%d%H%M.png')\n",
    "            if output:\n",
    "                print('Retreiving ' + current_date.strftime('%Y%m%d%H%M.png'))\n",
    "            try:\n",
    "                urllib.request.urlretrieve(url,image_path)\n",
    "            except:\n",
    "                if output:\n",
    "                    print('Failed to retrieve.')\n",
    "        world_path = outdir + '/' + current_date.strftime('%Y%m%d%H%M.wld')\n",
    "        if not os.path.exists(world_path):\n",
    "            url = current_date.strftime('http://mesonet.agron.iastate.edu/archive/data/%Y/%m/%d/GIS/uscomp/n0r_%Y%m%d%H%M.wld')\n",
    "            if output:\n",
    "                print('Retreiving ' + current_date.strftime('%Y%m%d%H%M.wld'))\n",
    "            try:\n",
    "                urllib.request.urlretrieve(url,world_path)\n",
    "            except:\n",
    "                if output:\n",
    "                    print('Failed to retrieve.')\n",
    "        current_date += time_delta\n",
    "        time.sleep(request_delay)\n",
    "    sys.stdout.flush()"
   ]
  },
  {
   "cell_type": "code",
   "execution_count": 44,
   "id": "b5760625",
   "metadata": {},
   "outputs": [
    {
     "name": "stdout",
     "output_type": "stream",
     "text": [
      "checking for nexrad/201710110000.png\n",
      "Retreiving 201710110000.png\n",
      "Retreiving 201710110000.wld\n",
      "checking for nexrad/201710110005.png\n",
      "Retreiving 201710110005.png\n",
      "Retreiving 201710110005.wld\n",
      "checking for nexrad/201710110010.png\n",
      "Retreiving 201710110010.png\n",
      "Retreiving 201710110010.wld\n",
      "checking for nexrad/201710110015.png\n",
      "Retreiving 201710110015.png\n",
      "Retreiving 201710110015.wld\n",
      "checking for nexrad/201710110020.png\n",
      "Retreiving 201710110020.png\n",
      "Retreiving 201710110020.wld\n",
      "checking for nexrad/201710110025.png\n",
      "Retreiving 201710110025.png\n",
      "Retreiving 201710110025.wld\n",
      "checking for nexrad/201710110030.png\n",
      "Retreiving 201710110030.png\n",
      "Retreiving 201710110030.wld\n",
      "checking for nexrad/201710110035.png\n",
      "Retreiving 201710110035.png\n",
      "Retreiving 201710110035.wld\n",
      "checking for nexrad/201710110040.png\n",
      "Retreiving 201710110040.png\n",
      "Retreiving 201710110040.wld\n",
      "checking for nexrad/201710110045.png\n",
      "Retreiving 201710110045.png\n",
      "Retreiving 201710110045.wld\n",
      "checking for nexrad/201710110050.png\n",
      "Retreiving 201710110050.png\n",
      "Retreiving 201710110050.wld\n"
     ]
    },
    {
     "ename": "KeyboardInterrupt",
     "evalue": "",
     "output_type": "error",
     "traceback": [
      "\u001b[1;31m---------------------------------------------------------------------------\u001b[0m",
      "\u001b[1;31mKeyboardInterrupt\u001b[0m                         Traceback (most recent call last)",
      "\u001b[1;32m~\\AppData\\Local\\Temp\\ipykernel_17712\\1152518533.py\u001b[0m in \u001b[0;36m<cell line: 13>\u001b[1;34m()\u001b[0m\n\u001b[0;32m     11\u001b[0m \u001b[0moutdir\u001b[0m \u001b[1;33m=\u001b[0m \u001b[1;34m'nexrad'\u001b[0m\u001b[1;33m\u001b[0m\u001b[1;33m\u001b[0m\u001b[0m\n\u001b[0;32m     12\u001b[0m \u001b[1;33m\u001b[0m\u001b[0m\n\u001b[1;32m---> 13\u001b[1;33m \u001b[0mfetch_iastate\u001b[0m\u001b[1;33m(\u001b[0m\u001b[0mstart_date\u001b[0m\u001b[1;33m,\u001b[0m\u001b[0mend_date\u001b[0m\u001b[1;33m,\u001b[0m\u001b[0moutdir\u001b[0m\u001b[1;33m,\u001b[0m\u001b[0moutput\u001b[0m\u001b[1;33m=\u001b[0m\u001b[1;32mTrue\u001b[0m\u001b[1;33m,\u001b[0m\u001b[0mrequest_delay\u001b[0m\u001b[1;33m=\u001b[0m\u001b[1;36m1\u001b[0m\u001b[1;33m)\u001b[0m\u001b[1;33m\u001b[0m\u001b[1;33m\u001b[0m\u001b[0m\n\u001b[0m\u001b[0;32m     14\u001b[0m \u001b[0mprint\u001b[0m\u001b[1;33m(\u001b[0m\u001b[1;34m'Done.'\u001b[0m\u001b[1;33m)\u001b[0m\u001b[1;33m\u001b[0m\u001b[1;33m\u001b[0m\u001b[0m\n",
      "\u001b[1;32m~\\AppData\\Local\\Temp\\ipykernel_17712\\2377660259.py\u001b[0m in \u001b[0;36mfetch_iastate\u001b[1;34m(start_date, end_date, outdir, request_delay, output)\u001b[0m\n\u001b[0;32m     37\u001b[0m                     \u001b[0mprint\u001b[0m\u001b[1;33m(\u001b[0m\u001b[1;34m'Failed to retrieve.'\u001b[0m\u001b[1;33m)\u001b[0m\u001b[1;33m\u001b[0m\u001b[1;33m\u001b[0m\u001b[0m\n\u001b[0;32m     38\u001b[0m         \u001b[0mcurrent_date\u001b[0m \u001b[1;33m+=\u001b[0m \u001b[0mtime_delta\u001b[0m\u001b[1;33m\u001b[0m\u001b[1;33m\u001b[0m\u001b[0m\n\u001b[1;32m---> 39\u001b[1;33m         \u001b[0mtime\u001b[0m\u001b[1;33m.\u001b[0m\u001b[0msleep\u001b[0m\u001b[1;33m(\u001b[0m\u001b[0mrequest_delay\u001b[0m\u001b[1;33m)\u001b[0m\u001b[1;33m\u001b[0m\u001b[1;33m\u001b[0m\u001b[0m\n\u001b[0m\u001b[0;32m     40\u001b[0m     \u001b[0msys\u001b[0m\u001b[1;33m.\u001b[0m\u001b[0mstdout\u001b[0m\u001b[1;33m.\u001b[0m\u001b[0mflush\u001b[0m\u001b[1;33m(\u001b[0m\u001b[1;33m)\u001b[0m\u001b[1;33m\u001b[0m\u001b[1;33m\u001b[0m\u001b[0m\n",
      "\u001b[1;31mKeyboardInterrupt\u001b[0m: "
     ]
    }
   ],
   "source": [
    "# And then download it.  WARNING: Don't download too much data, unless you've got a good reason!  It's not nice to tie\n",
    "# up resources.  This may also take a while.  We delay some amount of time to get images to avoid swamping the server\n",
    "# and there are a lot of images per day (12 per hour * 24 hours per day = 288 images per day).\n",
    "# \n",
    "# Overall, using an FTP client or wget would be more effective (that's its job, after all) \n",
    "# but it's good to know how it's done.\n",
    "\n",
    "# I'll set it to download a day's work of data.\n",
    "start_date = datetime.datetime(2017,10,11)\n",
    "end_date = datetime.datetime(2017,10,12) \n",
    "outdir = 'nexrad'\n",
    "\n",
    "fetch_iastate(start_date,end_date,outdir,output=True,request_delay=1)\n",
    "print('Done.')"
   ]
  },
  {
   "cell_type": "markdown",
   "id": "820c59c2",
   "metadata": {},
   "source": [
    "# [Rasterio](https://rasterio.readthedocs.io/en/stable/intro.html)"
   ]
  },
  {
   "cell_type": "markdown",
   "id": "4e811e75",
   "metadata": {},
   "source": [
    "I don't often use GDAL to handle rasters.  Why not?  GDAL's documentation is not always spectacular, and it can be difficult to find Python examples.  Mapbox developed Rasterio to \"wrap\" GDAL, and provide a better API.  I typically install Rasterio with conda when I setup an environment."
   ]
  },
  {
   "cell_type": "code",
   "execution_count": 45,
   "id": "4582aed4",
   "metadata": {},
   "outputs": [],
   "source": [
    "import rasterio"
   ]
  },
  {
   "cell_type": "code",
   "execution_count": 46,
   "id": "ce5e6915",
   "metadata": {},
   "outputs": [
    {
     "data": {
      "text/plain": [
       "True"
      ]
     },
     "execution_count": 46,
     "metadata": {},
     "output_type": "execute_result"
    }
   ],
   "source": [
    "# Rasterio follows GDAL syntax (unfortunately!), so you open a file and then read the contents:\n",
    "\n",
    "src = rasterio.open('data/nasadem_blacksburg_area.tif')\n",
    "metadata = src.profile\n",
    "image_array = src.read()\n",
    "src.close()  # Don't forget to close it!\n",
    "\n",
    "# Is it closed?\n",
    "src.closed"
   ]
  },
  {
   "cell_type": "code",
   "execution_count": 47,
   "id": "4be967cb",
   "metadata": {},
   "outputs": [],
   "source": [
    "# Rasterio DOES support with-syntax, so I recommend you use it.\n",
    "\n",
    "with rasterio.open('data/nasadem_blacksburg_area.tif') as src:\n",
    "    metadata = src.profile\n",
    "    image_array = src.read()"
   ]
  },
  {
   "cell_type": "code",
   "execution_count": 48,
   "id": "c6ec4976",
   "metadata": {},
   "outputs": [
    {
     "data": {
      "text/plain": [
       "array([[[607.5784 , 608.8551 , 609.8437 , ..., 641.1217 , 646.8145 ,\n",
       "         652.50726],\n",
       "        [607.0702 , 608.2813 , 609.0966 , ..., 643.54565, 648.70953,\n",
       "         654.4122 ],\n",
       "        [607.4888 , 608.10114, 608.35315, ..., 646.5481 , 650.92975,\n",
       "         656.6323 ],\n",
       "        ...,\n",
       "        [548.7557 , 548.9494 , 548.2284 , ..., 699.3221 , 696.8954 ,\n",
       "         695.38135],\n",
       "        [546.67267, 546.6051 , 545.77203, ..., 696.76276, 692.43494,\n",
       "         689.51666],\n",
       "        [545.5378 , 545.44525, 544.2103 , ..., 695.25116, 689.15027,\n",
       "         684.99023]]], dtype=float32)"
      ]
     },
     "execution_count": 48,
     "metadata": {},
     "output_type": "execute_result"
    }
   ],
   "source": [
    "# The image array is now-familiar\n",
    "\n",
    "image_array"
   ]
  },
  {
   "cell_type": "code",
   "execution_count": 49,
   "id": "5067e749",
   "metadata": {},
   "outputs": [
    {
     "data": {
      "text/plain": [
       "{'driver': 'GTiff', 'dtype': 'float32', 'nodata': 3.3999999521443642e+38, 'width': 2007, 'height': 1438, 'count': 1, 'crs': CRS.from_epsg(32617), 'transform': Affine(17.48589996167486, 0.0, 537546.6982884794,\n",
       "       0.0, -17.48589996167495, 4130330.7579188175), 'blockxsize': 128, 'blockysize': 128, 'tiled': True, 'compress': 'lzw', 'interleave': 'band'}"
      ]
     },
     "execution_count": 49,
     "metadata": {},
     "output_type": "execute_result"
    }
   ],
   "source": [
    "# The metadata dictionary contains many useful pieces as a dictionary.  Note that data type, nodata value, width,\n",
    "# height, band count, CRS, transform* (more in a second), etc.  And because you can load this without loading the image\n",
    "# data, any call here is quite fast since you're just reading header data.\n",
    "\n",
    "metadata"
   ]
  },
  {
   "cell_type": "markdown",
   "id": "14f1f79c",
   "metadata": {},
   "source": [
    "## Transforms are the key to the whole operation"
   ]
  },
  {
   "cell_type": "markdown",
   "id": "5c2b412c",
   "metadata": {},
   "source": [
    "The transform object is actually an [Affine matrix](https://en.wikipedia.org/wiki/Affine_transformation) the governs simple translations, rotations, and scaling.  It is a way to use [linear algebra](https://en.wikipedia.org/wiki/Linear_algebra) to quite efficiently transform coordinates from one space to another.  In this case, from pixel space to geographic coordinates.\n",
    "\n",
    "References:\n",
    "* I have more on [this subject](https://github.com/thomaspingel/geography_single_shot_notebooks/blob/master/2D%20Rigid%20Rotations%2C%20Translations%2C%20and%20Matrix%20Multiplication.ipynb) in one of my [geography_single_shot_notebooks](https://github.com/thomaspingel/geography_single_shot_notebooks).\n",
    "* The Python Affine package gives a [great overview](https://pypi.org/project/affine/).\n",
    "\n",
    "More:\n",
    "* http://www.willamette.edu/~gorr/classes/GeneralGraphics/Transforms/transforms2d.htm\n",
    "* https://subscription.packtpub.com/book/data/9781789537147/1/ch01lvl1sec04/applying-affine-transformation"
   ]
  },
  {
   "cell_type": "markdown",
   "id": "1f037b57",
   "metadata": {},
   "source": [
    "To transform in 2D space, we need a 3x3 matrix, but the bottom row is not needed, so we really only need six parameters.  This is where the Affine matrix comes from.  For 3D coordinate transforms, we need a 4x4 matrix (but again the bottom row is not really needed).  The crux of the structure looks like this:\n",
    "\n",
    "<img src=\"https://static.packt-cdn.com/products/9781789537147/graphics/assets/4510565b-9462-4a22-ae17-fbc7b85876d1.png\" width=350>"
   ]
  },
  {
   "cell_type": "code",
   "execution_count": 72,
   "id": "abe616c5",
   "metadata": {},
   "outputs": [],
   "source": [
    "# Let's pull the IAstate data again, since it's very simple and has a worldfile we can inspect:\n",
    "\n",
    "with rasterio.open('data/n0q_202304190000.png') as src:\n",
    "    metadata = src.profile\n",
    "    gt = src.transform          # You can read this directly, or pull metadata['transform']\n",
    "    image_array = src.read()"
   ]
  },
  {
   "cell_type": "code",
   "execution_count": 74,
   "id": "6a28124c",
   "metadata": {},
   "outputs": [],
   "source": [
    "image_array = np.squeeze(image_array)"
   ]
  },
  {
   "cell_type": "code",
   "execution_count": 75,
   "id": "6622325a",
   "metadata": {},
   "outputs": [
    {
     "data": {
      "text/plain": [
       "(5400, 12200)"
      ]
     },
     "execution_count": 75,
     "metadata": {},
     "output_type": "execute_result"
    }
   ],
   "source": [
    "np.shape(image_array)"
   ]
  },
  {
   "cell_type": "code",
   "execution_count": 51,
   "id": "db19ec69",
   "metadata": {},
   "outputs": [
    {
     "data": {
      "text/plain": [
       "Affine(0.005, 0.0, -126.0025,\n",
       "       0.0, -0.005, 50.0025)"
      ]
     },
     "execution_count": 51,
     "metadata": {},
     "output_type": "execute_result"
    }
   ],
   "source": [
    "# Let's pull that transform.  Notice its similarity to the data we got from GDAL.  Same numbers, slightly different\n",
    "# order.  Affine has a .from_gdal() method should you need to convert.\n",
    "\n",
    "# Here's the Affine transform from Rasterio:\n",
    "gt"
   ]
  },
  {
   "cell_type": "code",
   "execution_count": 52,
   "id": "22fbded0",
   "metadata": {},
   "outputs": [
    {
     "name": "stdout",
     "output_type": "stream",
     "text": [
      "| 0.01, 0.00,-126.00|\n",
      "| 0.00,-0.01, 50.00|\n",
      "| 0.00, 0.00, 1.00|\n"
     ]
    }
   ],
   "source": [
    "# You can print (or convert) the geotransform as a matrix, but be careful when units are small, they can hide\n",
    "# the true precision:\n",
    "\n",
    "print(gt)"
   ]
  },
  {
   "cell_type": "markdown",
   "id": "76493a5e",
   "metadata": {},
   "source": [
    " The earlier geotransform from GDAL looked like this:\n",
    "\n",
    "(-126.0025, 0.005, 0.0, 50.0025, 0.0, -0.005)\n",
    "\n",
    "And the world file looks like this:\n",
    "~~~\n",
    "0.005\n",
    "0.0\n",
    "0.0\n",
    "-0.005\n",
    "-126.0\n",
    "50.0\n",
    "~~~"
   ]
  },
  {
   "cell_type": "code",
   "execution_count": 53,
   "id": "23fbacd6",
   "metadata": {},
   "outputs": [
    {
     "data": {
      "text/plain": [
       "Affine(0.005, 0.0, -126.0025,\n",
       "       0.0, -0.005, 50.0025)"
      ]
     },
     "execution_count": 53,
     "metadata": {},
     "output_type": "execute_result"
    }
   ],
   "source": [
    "gt"
   ]
  },
  {
   "cell_type": "code",
   "execution_count": 54,
   "id": "ab790d23",
   "metadata": {},
   "outputs": [
    {
     "data": {
      "text/plain": [
       "(-126.0025, 50.0025)"
      ]
     },
     "execution_count": 54,
     "metadata": {},
     "output_type": "execute_result"
    }
   ],
   "source": [
    "# The affine matrix is a simple mathemetical matrix that allows coordinate transformation like so:\n",
    "\n",
    "# suppose you wanted the coordinate of the upper left pixel (0,0):\n",
    "\n",
    "col, row = 0,0\n",
    "gt * (col,row)\n",
    "\n",
    "# Note carefully that this is the upper left CORNER of the pixel, which you can confirm against the world file.\n",
    "# Just as before, 0,0 starts at the very left-most edge of the raster.  The center is at .5,.5"
   ]
  },
  {
   "cell_type": "code",
   "execution_count": 55,
   "id": "34a1a10b",
   "metadata": {},
   "outputs": [
    {
     "data": {
      "text/plain": [
       "(-126.0, 50.0)"
      ]
     },
     "execution_count": 55,
     "metadata": {},
     "output_type": "execute_result"
    }
   ],
   "source": [
    "# Center of upper left pixel, same as world file specification.\n",
    "\n",
    "col, row = .5, .5\n",
    "gt * (col,row)"
   ]
  },
  {
   "cell_type": "code",
   "execution_count": 56,
   "id": "1874366c",
   "metadata": {},
   "outputs": [
    {
     "data": {
      "text/plain": [
       "(array([-119.9925, -117.2525, -102.2575, -124.6875, -117.1075, -124.9375,\n",
       "         -75.8075,  -96.6525,  -71.4625, -100.8175,  -93.0625,  -83.0475,\n",
       "        -117.5725, -107.4575,  -95.7825,  -85.9725,  -85.7325, -102.5275,\n",
       "        -102.5225, -114.9325]),\n",
       " array([36.5275, 33.0125, 30.2725, 38.9725, 24.7075, 42.1975, 49.7625,\n",
       "        38.5275, 47.0025, 26.8925, 28.2925, 35.5675, 26.0375, 40.4475,\n",
       "        49.4675, 42.6575, 39.0975, 43.0225, 42.9275, 44.5025]))"
      ]
     },
     "execution_count": 56,
     "metadata": {},
     "output_type": "execute_result"
    }
   ],
   "source": [
    "# We can generate 20 random rows, cols, and calculate those geocoords as well.\n",
    "\n",
    "# Note carefully that rows are your Y coord and cols are your X coord.  You must be\n",
    "# mindful of the requested / expected order of inputs and outputs.  They are not \n",
    "# always what you would expect.  In the US, it's often easy to pick out lat from lon\n",
    "# since lon is negative, but for other coord systems and locations you will need\n",
    "# to be careful.\n",
    "\n",
    "k = 20\n",
    "rows, cols = np.random.randint(0,metadata['height']-1,k), np.random.randint(0,metadata['width']-1,k)\n",
    "gt * (cols,rows)"
   ]
  },
  {
   "cell_type": "code",
   "execution_count": 57,
   "id": "c5606d0b",
   "metadata": {},
   "outputs": [
    {
     "data": {
      "text/plain": [
       "Affine(200.0, 0.0, 25200.5,\n",
       "       0.0, -200.0, 10000.5)"
      ]
     },
     "execution_count": 57,
     "metadata": {},
     "output_type": "execute_result"
    }
   ],
   "source": [
    "# Inverse operations are also quite easy.  The tilda operator returns the inverse of a matrix:\n",
    "\n",
    "~gt"
   ]
  },
  {
   "cell_type": "code",
   "execution_count": 58,
   "id": "c3ce47f8",
   "metadata": {},
   "outputs": [
    {
     "data": {
      "text/plain": [
       "(0.5, 0.5)"
      ]
     },
     "execution_count": 58,
     "metadata": {},
     "output_type": "execute_result"
    }
   ],
   "source": [
    "# And this is used to convert geog coords to pixel coords.  This is the center of the upper left pixel\n",
    "# as seen in the world file.\n",
    "\n",
    "~gt * (-126.0,50.0)"
   ]
  },
  {
   "cell_type": "code",
   "execution_count": 59,
   "id": "37db5acf",
   "metadata": {},
   "outputs": [
    {
     "name": "stdout",
     "output_type": "stream",
     "text": [
      "[-119.99249999999999, -117.2525, -102.2575, -124.6875, -117.1075, -124.9375, -75.8075, -96.6525, -71.4625, -100.8175, -93.0625, -83.0475, -117.57249999999999, -107.4575, -95.7825, -85.9725, -85.73249999999999, -102.5275, -102.5225, -114.9325]\n",
      "[36.527499999999996, 33.012499999999996, 30.272499999999997, 38.9725, 24.707499999999996, 42.1975, 49.762499999999996, 38.527499999999996, 47.0025, 26.8925, 28.292499999999997, 35.567499999999995, 26.037499999999998, 40.4475, 49.4675, 42.6575, 39.0975, 43.022499999999994, 42.927499999999995, 44.5025]\n"
     ]
    }
   ],
   "source": [
    "# Apart from this, rasterio has a function to do the conversion for you (although the straight math is so easy!)\n",
    "\n",
    "map_x, map_y = rasterio.transform.xy(gt,rows,cols,offset='ul')\n",
    "print(map_x)\n",
    "print(map_y)"
   ]
  },
  {
   "cell_type": "code",
   "execution_count": 60,
   "id": "c1667f2b",
   "metadata": {},
   "outputs": [
    {
     "data": {
      "text/plain": [
       "(-126.0, 50.0)"
      ]
     },
     "execution_count": 60,
     "metadata": {},
     "output_type": "execute_result"
    }
   ],
   "source": [
    "# Not everyone uses the upper-left corner is zero and the center of that pixel is .5,.5 convention.  So you can \n",
    "# apply an offset with map, or with rasterio.transform.xy:\n",
    "\n",
    "# If you want 0,0 to refer to the CENTER of the upper left pixel (as I often do!), do this:\n",
    "\n",
    "rasterio.transform.xy(gt,0,0,offset='center')"
   ]
  },
  {
   "cell_type": "code",
   "execution_count": 64,
   "id": "b00634d0",
   "metadata": {},
   "outputs": [
    {
     "data": {
      "text/plain": [
       "(1, 5400, 12200)"
      ]
     },
     "execution_count": 64,
     "metadata": {},
     "output_type": "execute_result"
    }
   ],
   "source": [
    "np.shape(image_array)"
   ]
  },
  {
   "cell_type": "code",
   "execution_count": 80,
   "id": "ed6cfa2a",
   "metadata": {},
   "outputs": [
    {
     "data": {
      "text/plain": [
       "array([[45, 11],\n",
       "       [23, 12]])"
      ]
     },
     "execution_count": 80,
     "metadata": {},
     "output_type": "execute_result"
    }
   ],
   "source": [
    "image_array = np.array([[45,11],[23,12]])\n",
    "image_array"
   ]
  },
  {
   "cell_type": "code",
   "execution_count": 81,
   "id": "940d2703",
   "metadata": {},
   "outputs": [
    {
     "data": {
      "text/plain": [
       "45"
      ]
     },
     "execution_count": 81,
     "metadata": {},
     "output_type": "execute_result"
    }
   ],
   "source": [
    "image_array[0,0]"
   ]
  },
  {
   "cell_type": "code",
   "execution_count": null,
   "id": "9b783060",
   "metadata": {},
   "outputs": [],
   "source": []
  },
  {
   "cell_type": "markdown",
   "id": "39701d28",
   "metadata": {},
   "source": [
    "## Writing images with rasterio"
   ]
  },
  {
   "cell_type": "code",
   "execution_count": null,
   "id": "23ce8ddf",
   "metadata": {},
   "outputs": [],
   "source": [
    "# Let's load a DEM\n",
    "\n",
    "with rasterio.open('data/nasadem_blacksburg_area.tif') as src:\n",
    "    metadata = src.profile\n",
    "    Z = src.read()              # You may want to read a specific band!"
   ]
  },
  {
   "cell_type": "code",
   "execution_count": null,
   "id": "1290c366",
   "metadata": {},
   "outputs": [],
   "source": [
    "# The resolution is here, or you could extract from the Affine matrix in the geotransform\n",
    "\n",
    "src.res"
   ]
  },
  {
   "cell_type": "code",
   "execution_count": null,
   "id": "caeec6b1",
   "metadata": {},
   "outputs": [],
   "source": [
    "# Pixels are not always square!  Define the resolution as the average of these:\n",
    "\n",
    "res = np.mean(src.res)\n",
    "res"
   ]
  },
  {
   "cell_type": "code",
   "execution_count": null,
   "id": "4cacb300",
   "metadata": {},
   "outputs": [],
   "source": [
    "# You would think plt.imshow would work.  Why doesn't it?\n",
    "\n",
    "plt.imshow(Z)"
   ]
  },
  {
   "cell_type": "code",
   "execution_count": null,
   "id": "b28a054c",
   "metadata": {},
   "outputs": [],
   "source": [
    "# The problem is the shape.  The shape gets reported as (1,1438,2007).  Why the extra coordinate?\n",
    "# Because this is the first band.  You can fix it by reading in only the bands you want.\n",
    "# Or, better yet, you can get rid of the extra dimension using .squeeze:\n",
    "\n",
    "np.shape(np.squeeze(Z))"
   ]
  },
  {
   "cell_type": "code",
   "execution_count": null,
   "id": "2a9061a4",
   "metadata": {},
   "outputs": [],
   "source": [
    "Z = np.squeeze(Z)"
   ]
  },
  {
   "cell_type": "code",
   "execution_count": null,
   "id": "8b705a71",
   "metadata": {},
   "outputs": [],
   "source": [
    "# Now calculate slope for it:\n",
    "res = np.mean(src.res)\n",
    "\n",
    "gy,gx = np.gradient(Z,res)\n",
    "S = np.sqrt(gx**2 + gy**2)   # Rise over run\n",
    "S = np.arctan(S)             # Radians\n",
    "S = np.rad2deg(S)            # Degrees\n",
    "\n",
    "plt.imshow(S)"
   ]
  },
  {
   "cell_type": "code",
   "execution_count": null,
   "id": "5d16f7dd",
   "metadata": {},
   "outputs": [],
   "source": [
    "# Suppose you want to write this data out.  How would you do it?\n",
    "# Because you're using the same metadata as before, a simple write like this is easy:\n",
    "\n",
    "fn = 'slope.tif'\n",
    "with rasterio.open(fn, 'w', **metadata) as dst:\n",
    "    dst.write(S, 1)                                   # Write to band 1"
   ]
  },
  {
   "cell_type": "code",
   "execution_count": null,
   "id": "e3a68cf3",
   "metadata": {},
   "outputs": [],
   "source": [
    "# If things have changed or you're authoring your own content,\n",
    "# you can control the metadata as individual parameters directly:\n",
    "\n",
    "with rasterio.open(\n",
    "    'slope2',\n",
    "    'w',\n",
    "    driver='GTiff',\n",
    "    height=S.shape[0],\n",
    "    width=S.shape[1],\n",
    "    count=1,\n",
    "    dtype=S.dtype,\n",
    "    crs=metadata['crs']                  ,            # Or whatever this should be\n",
    "    transform=metadata['transform'],                  # or whatever this should be\n",
    ") as dst:\n",
    "    dst.write(S, 1)"
   ]
  },
  {
   "cell_type": "markdown",
   "id": "3ebafe99",
   "metadata": {},
   "source": [
    "# Multiband data"
   ]
  },
  {
   "cell_type": "code",
   "execution_count": null,
   "id": "e13a837a",
   "metadata": {},
   "outputs": [],
   "source": [
    "# Let's download some NAIP imagery\n",
    "\n",
    "url = 'https://prd-tnm.s3.amazonaws.com/StagedProducts/NAIP/va_2016/38078/m_3807808_ne_17_1_20160718_20160928.jp2'\n",
    "\n",
    "with rasterio.open(url) as src:\n",
    "    metadata = src.profile\n",
    "    I = src.read()              # You may want to read a specific band!"
   ]
  },
  {
   "cell_type": "code",
   "execution_count": null,
   "id": "f3f1b39b",
   "metadata": {},
   "outputs": [],
   "source": [
    "# How many bands?\n",
    "\n",
    "src.count"
   ]
  },
  {
   "cell_type": "markdown",
   "id": "eb38c150",
   "metadata": {},
   "source": [
    "<img src=\"https://www.researchgate.net/publication/342413913/figure/fig2/AS:905930921226240@1593002171931/Formula-used-to-calculate-the-normalized-difference-vegetation-index-NDVI_W640.jpg\" width=\"200\">"
   ]
  },
  {
   "cell_type": "code",
   "execution_count": null,
   "id": "5d42a395",
   "metadata": {},
   "outputs": [],
   "source": [
    "# Calculate NDVI:\n",
    "\n",
    "I = I.astype(float)\n",
    "ndvi = (I[3,:,:] - I[0,:,:]) / (I[3,:,:] + I[0,:,:])\n",
    "\n",
    "plt.imshow(ndvi,cmap='turbo')"
   ]
  },
  {
   "cell_type": "markdown",
   "id": "44029282",
   "metadata": {},
   "source": [
    "## Sample some data\n",
    "\n",
    "This requires that the source is open"
   ]
  },
  {
   "cell_type": "code",
   "execution_count": null,
   "id": "2f735308",
   "metadata": {},
   "outputs": [],
   "source": [
    "url = 'https://prd-tnm.s3.amazonaws.com/StagedProducts/NAIP/va_2016/38078/m_3807808_ne_17_1_20160718_20160928.jp2'\n",
    "\n",
    "src = rasterio.open(url)"
   ]
  },
  {
   "cell_type": "code",
   "execution_count": null,
   "id": "cc5a1dc6",
   "metadata": {},
   "outputs": [],
   "source": [
    "# make some random data in map coordinates\n",
    "\n",
    "k = 10\n",
    "x = src.width * np.random.rand(k) + src.bounds.left\n",
    "y = src.height * np.random.rand(k) + src.bounds.bottom\n",
    "\n",
    "print(x,y)"
   ]
  },
  {
   "cell_type": "code",
   "execution_count": null,
   "id": "e77101c2",
   "metadata": {},
   "outputs": [],
   "source": [
    "# Sample the values at those coordinates\n",
    "\n",
    "result = [x for x in src.sample(zip(x,y))]"
   ]
  },
  {
   "cell_type": "code",
   "execution_count": null,
   "id": "d2289d79",
   "metadata": {},
   "outputs": [],
   "source": [
    "# The result is an array of values, one \"column\" for band and \"row\" for each \n",
    "result"
   ]
  },
  {
   "cell_type": "markdown",
   "id": "ccb79b57",
   "metadata": {},
   "source": [
    "# There are ways to do this without the src.sample method.  Ask me how!"
   ]
  },
  {
   "cell_type": "markdown",
   "id": "37869c56",
   "metadata": {},
   "source": [
    "# PyProj"
   ]
  },
  {
   "cell_type": "markdown",
   "id": "478da185",
   "metadata": {},
   "source": [
    "PyProj lets you transform coordinates from one CRS to another, among other things.  It's quite easy to use!"
   ]
  },
  {
   "cell_type": "code",
   "execution_count": null,
   "id": "0788bd50",
   "metadata": {},
   "outputs": [],
   "source": [
    "from pyproj import Transformer\n",
    "\n",
    "def coord_transform(x,y,from_epsg,to_epsg):\n",
    "    transformer = Transformer.from_crs(from_epsg,to_epsg,always_xy=True)\n",
    "    return transformer.transform(x,y)"
   ]
  },
  {
   "cell_type": "code",
   "execution_count": null,
   "id": "8b822977",
   "metadata": {},
   "outputs": [],
   "source": [
    "# These are some random coords within our boundary.  What are the lat/lon of these?\n",
    "\n",
    "x = src.width * np.random.rand(k) + src.bounds.left\n",
    "y = src.height * np.random.rand(k) + src.bounds.bottom"
   ]
  },
  {
   "cell_type": "code",
   "execution_count": null,
   "id": "e673d44b",
   "metadata": {},
   "outputs": [],
   "source": [
    "src.crs"
   ]
  },
  {
   "cell_type": "code",
   "execution_count": null,
   "id": "12247b4b",
   "metadata": {},
   "outputs": [],
   "source": [
    "coord_transform(x,y,src.crs,4326)"
   ]
  },
  {
   "cell_type": "markdown",
   "id": "92a8e441",
   "metadata": {},
   "source": [
    "## What else can I do with Rasterio?"
   ]
  },
  {
   "cell_type": "markdown",
   "id": "31f3edd8",
   "metadata": {},
   "source": [
    "So, so much!  [Look through the documentation](https://rasterio.readthedocs.io/en/stable/) to discover more."
   ]
  },
  {
   "cell_type": "markdown",
   "id": "dffca604",
   "metadata": {},
   "source": [
    "# Assignment"
   ]
  },
  {
   "cell_type": "markdown",
   "id": "2be6cbff",
   "metadata": {},
   "source": [
    "Write a Jupyter notebook with three sections:\n",
    "1. Use rasterio to georeference an image of your choosing (not geospatial) by using rasterio.from_origion to create a transform, an epsg code to define your coordinate system (anything is fine, 4326 is WGS84), and rasterio to write out the image.  Bring the image into ArcGIS Pro and include a screenshot of it overlaid on a map along with the assignment.\n",
    "2. Review the rasterio documentation and explore five functions not discussed in lecture.\n",
    "3. Demonstrate with your own data that you can combine a raster layer of your choice and a geopandas overlay.  It can be simple!  I might for instance choose some data from Natural Earth."
   ]
  }
 ],
 "metadata": {
  "kernelspec": {
   "display_name": "Python 3 (ipykernel)",
   "language": "python",
   "name": "python3"
  },
  "language_info": {
   "codemirror_mode": {
    "name": "ipython",
    "version": 3
   },
   "file_extension": ".py",
   "mimetype": "text/x-python",
   "name": "python",
   "nbconvert_exporter": "python",
   "pygments_lexer": "ipython3",
   "version": "3.9.0"
  }
 },
 "nbformat": 4,
 "nbformat_minor": 5
}
