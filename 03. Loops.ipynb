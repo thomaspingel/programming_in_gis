{
 "cells": [
  {
   "cell_type": "markdown",
   "metadata": {},
   "source": [
    "# Loops"
   ]
  },
  {
   "cell_type": "markdown",
   "metadata": {},
   "source": [
    "Python is a <font color=\"red\">high level programming language</font>, which means (in part) that many of the manual looping we might do in a language like C or Java or FORTRAN we do using functions.  Even so, many programs you write will require at least some looping logic, either using <font color=\"red\">for loops</font> or <font color=\"red\">while loops</font>."
   ]
  },
  {
   "cell_type": "code",
   "execution_count": null,
   "metadata": {
    "collapsed": false
   },
   "outputs": [],
   "source": [
    "# This is a simple while loop that prints out numbers between 0 and 4\n",
    "\n",
    "x = 0\n",
    "while x < 5:\n",
    "    print(x)\n",
    "    x = x + 1"
   ]
  },
  {
   "cell_type": "code",
   "execution_count": null,
   "metadata": {
    "collapsed": false
   },
   "outputs": [],
   "source": [
    "# What does this change do?\n",
    "\n",
    "x = 0\n",
    "while x < 5:\n",
    "    x = x + 1\n",
    "    print(x)"
   ]
  },
  {
   "cell_type": "code",
   "execution_count": null,
   "metadata": {
    "collapsed": true
   },
   "outputs": [],
   "source": [
    "# Play along!  Write three while loops (each in its own code block) to print:\n",
    "# 1) The numbers between 10 and 15\n",
    "# 2) Every other number between 11 and 25\n",
    "# 3) Count backwards from 100 to 0 by fives."
   ]
  },
  {
   "cell_type": "code",
   "execution_count": null,
   "metadata": {
    "collapsed": true
   },
   "outputs": [],
   "source": [
    "# Remember that we can generate lists of numbers using list(range(n)):\n",
    "\n",
    "x = list(range(5))\n",
    "print(x)"
   ]
  },
  {
   "cell_type": "code",
   "execution_count": null,
   "metadata": {
    "collapsed": false
   },
   "outputs": [],
   "source": [
    "# Play along!\n",
    "# Practice your indexing by generating lists of each of the three above.  The first is\n",
    "# done for you:\n",
    "list1 = list(range(10,16))\n",
    "print(list1)\n"
   ]
  },
  {
   "cell_type": "code",
   "execution_count": null,
   "metadata": {
    "collapsed": false
   },
   "outputs": [],
   "source": [
    "# We can use that list to run a FOR LOOP that will behave similarly to the while loop\n",
    "# that we saw earlier:\n",
    "\n",
    "x = list(range(5))\n",
    "for each_number in x:\n",
    "    print(each_number)"
   ]
  },
  {
   "cell_type": "code",
   "execution_count": null,
   "metadata": {
    "collapsed": false
   },
   "outputs": [],
   "source": [
    "# We actually don't need to wrap the range in a list... in fact, it's a bad idea to do this\n",
    "# because that stores all of those numbers in memory!  That's not such a big deal if you want to \n",
    "# count to five, but what if you need to run a loop a billion times?  That would be like writing down\n",
    "# the numbers from 1 to a billion BEFORE you ever count them.  \n",
    "\n",
    "# This is better:\n",
    "x = range(5)\n",
    "for each_number in x:\n",
    "    print(each_number)\n",
    "    \n",
    "# and it works just the same!"
   ]
  },
  {
   "cell_type": "code",
   "execution_count": null,
   "metadata": {
    "collapsed": false
   },
   "outputs": [],
   "source": [
    "# In fact, you don't even need to define that \"x\" variable ahead of time.  This works too:\n",
    "\n",
    "for each_number in range(5):\n",
    "    print(each_number)\n",
    "    \n",
    "# It's generally a good idea to avoid defining variables that you only use once because it's a waste\n",
    "# of memory (to save it after you need it) and clutters your workspace."
   ]
  },
  {
   "cell_type": "code",
   "execution_count": null,
   "metadata": {
    "collapsed": false
   },
   "outputs": [],
   "source": [
    "# ***\n",
    "# The variable name between \"for\" and \"in\" can be anything you want.\n",
    "\n",
    "# Example:\n",
    "for i in range(5):\n",
    "    print(i)"
   ]
  },
  {
   "cell_type": "code",
   "execution_count": null,
   "metadata": {
    "collapsed": false
   },
   "outputs": [],
   "source": [
    "# ***\n",
    "# Another example:\n",
    "\n",
    "for number in range(20,7,-1):\n",
    "    print(number)"
   ]
  },
  {
   "cell_type": "code",
   "execution_count": null,
   "metadata": {
    "collapsed": true
   },
   "outputs": [],
   "source": [
    "# ***\n",
    "# Play along!  \n",
    "# Write three for loops using the syntax you see above.  Practice changing the variable\n",
    "# name, and counting by varying the START, STOP, and STEP that you're plugging into range"
   ]
  },
  {
   "cell_type": "markdown",
   "metadata": {},
   "source": [
    "## Simple performance testing"
   ]
  },
  {
   "cell_type": "markdown",
   "metadata": {},
   "source": [
    "When writing code, you generally want to balance a number of objectives.  The code should run (obviously!) but you also want the code to be efficient in terms of how long it takes to run, or how much memory it uses.  You should also be trying to write code that's easy for others to understand by using indicative variables names that make sense, and writing in a standard \"Pythonic\" way.  You'll get used to the latter as we go."
   ]
  },
  {
   "cell_type": "code",
   "execution_count": null,
   "metadata": {
    "collapsed": false
   },
   "outputs": [],
   "source": [
    "# One way to gauge how long a program takes is to start a \"stopwatch\" when you begin to execute the \n",
    "# code, and stop it when you're done.  You can import the TIME module to access the current\n",
    "# system time.\n",
    "\n",
    "# Remember that to use TIME, you'll need to first import it.  We'll import it here, but if you \n",
    "# try to run code below after first starting up Jupyter, or restarting your KERNEL, you'll need \n",
    "# to execute IMPORT TIME again.\n",
    "\n",
    "import time\n",
    "now = time.time()\n",
    "print(now)\n",
    "\n",
    "# That's a strange number!"
   ]
  },
  {
   "cell_type": "code",
   "execution_count": null,
   "metadata": {
    "collapsed": true
   },
   "outputs": [],
   "source": [
    "# The number you get is the number of seconds after the CURRENT EPOCH, which is Jan 1, 1970.\n",
    "# It's just a standard, arbitrary date that programmers have picked to start our \"clocks\".\n",
    "\n",
    "# Play along!  \n",
    "# Do some simple arithmetic to calculate how many hours has it been since the current epoch."
   ]
  },
  {
   "cell_type": "code",
   "execution_count": null,
   "metadata": {
    "collapsed": false
   },
   "outputs": [],
   "source": [
    "# TIME has a number of different useful methods.  You can explore these by typing \"time.\" and hitting\n",
    "# the TAB key for suggestions.  This tab-hint technique is very useful, and keeps you from having\n",
    "# to Google things quite so often."
   ]
  },
  {
   "cell_type": "code",
   "execution_count": null,
   "metadata": {
    "collapsed": false
   },
   "outputs": [],
   "source": [
    "# Play along!  What do these do?  Run the code each in its own codeblock, and describe \n",
    "# as best you can.\n",
    "# Try: asctime, gmtime, localtime\n"
   ]
  },
  {
   "cell_type": "code",
   "execution_count": null,
   "metadata": {
    "collapsed": false
   },
   "outputs": [],
   "source": [
    "# You can use gmtime to get a time structure of the epoch by feeding it information, in this case,\n",
    "# the zero seconds since (i.e., AT) the current ephoch.\n",
    "\n",
    "print(time.gmtime(0))"
   ]
  },
  {
   "cell_type": "code",
   "execution_count": null,
   "metadata": {
    "collapsed": false
   },
   "outputs": [],
   "source": [
    "# Play along! \n",
    "# What was the date 1 billion seconds after the current epoch?\n"
   ]
  },
  {
   "cell_type": "code",
   "execution_count": null,
   "metadata": {
    "collapsed": false
   },
   "outputs": [],
   "source": [
    "# How can use use this to time code execution?  \n",
    "\n",
    "# Well, we can note the current time:\n",
    "start_time = time.time()\n",
    "\n",
    "# Then run some code\n",
    "running_total = 0.\n",
    "x = list(range(1,10**7))\n",
    "for each_number in x:\n",
    "    running_total = running_total + (1/each_number)\n",
    "    \n",
    "# Then log the time at the end of our code:\n",
    "end_time = time.time()\n",
    "\n",
    "# The total time of execution is the difference of these two numbers:\n",
    "total_time = end_time - start_time\n",
    "print(\"It took \",total_time, \" seconds to run your code!\")\n",
    "print('The answer, BTW, was:',running_total)\n",
    "    "
   ]
  },
  {
   "cell_type": "code",
   "execution_count": null,
   "metadata": {
    "collapsed": false
   },
   "outputs": [],
   "source": [
    "# It's hard to write code yet that takes a long time, but we can simulate this by putting\n",
    "# the computer to sleep, also a function of TIME\n",
    "\n",
    "start_time = time.time()\n",
    "time.sleep(10) # Sleep for 10 seconds\n",
    "end_time = time.time()\n",
    "print(\"It took \",end_time-start_time,\" seconds to run that code.\")\n",
    "\n",
    "# It'll never be precisely 10 seconds!"
   ]
  },
  {
   "cell_type": "code",
   "execution_count": null,
   "metadata": {
    "collapsed": false
   },
   "outputs": [],
   "source": [
    "# To really test our code, we might wrap it in a function, just like CodingBat:\n",
    "\n",
    "# This function does what we want it to, but doesn't return any data.  It just \"wraps\" some code.\n",
    "def my_function1():\n",
    "    a = 0\n",
    "    x = list(range(10**6))\n",
    "    for each_number in x:\n",
    "        a = x\n",
    "\n",
    "# Now that the function is defined, we can test it!\n",
    "then = time.time()\n",
    "my_function1()\n",
    "now = time.time()\n",
    "print(now-then)        "
   ]
  },
  {
   "cell_type": "code",
   "execution_count": null,
   "metadata": {
    "collapsed": false
   },
   "outputs": [],
   "source": [
    "# How long does it take if we don't make x a list, but just a range:\n",
    "\n",
    "# Play along!\n",
    "# Edit to make a new my_function that doesn't make x a list\n",
    "def my_function2():\n",
    "    a = 0\n",
    "    x = range(10**6)\n",
    "    for each_number in x:\n",
    "        a = x\n",
    "\n",
    "then = time.time()\n",
    "my_function2()\n",
    "now = time.time()\n",
    "print(now-then)   \n",
    "\n",
    "# Play along!\n",
    "# Was this one faster or slower than the version that predefined a list?"
   ]
  },
  {
   "cell_type": "code",
   "execution_count": null,
   "metadata": {
    "collapsed": false
   },
   "outputs": [],
   "source": [
    "# Jupyter has some great built in MAGICS, invoked with the \"%\" symbol that can time code:\n",
    "# %TIMEIT will execute the code many times, and report back a summary:\n",
    "\n",
    "%timeit my_function1()"
   ]
  },
  {
   "cell_type": "code",
   "execution_count": null,
   "metadata": {
    "collapsed": false
   },
   "outputs": [],
   "source": [
    "%timeit my_function2()"
   ]
  },
  {
   "cell_type": "code",
   "execution_count": null,
   "metadata": {
    "collapsed": true
   },
   "outputs": [],
   "source": [
    "# Play along!\n",
    "# Were the timeit results the same or different as your tests?\n",
    "\n",
    "# In general, it's better to use these built-in functions to test your code, although\n",
    "# there's always a place for manually timing things!"
   ]
  },
  {
   "cell_type": "code",
   "execution_count": null,
   "metadata": {
    "collapsed": false
   },
   "outputs": [],
   "source": [
    "# You can use the sleep function to see the items being created in turn:\n",
    "\n",
    "for i in range(10):\n",
    "    print(i)\n",
    "    time.sleep(.5)"
   ]
  },
  {
   "cell_type": "code",
   "execution_count": null,
   "metadata": {
    "collapsed": true
   },
   "outputs": [],
   "source": [
    "# ***\n",
    "# Play along!\n",
    "# Write a for loop that counts backwards from 10 to 1, but pauses .75 seconds between each loop.\n"
   ]
  },
  {
   "cell_type": "code",
   "execution_count": null,
   "metadata": {
    "collapsed": false
   },
   "outputs": [],
   "source": [
    "# The real strength of the Python approach is that you can iterate DIRECTLY over any list, no matter\n",
    "# the contents.\n",
    "\n",
    "my_list = ['Tom','Pete','Sally',\"Dorothy\"]\n",
    "for each_name in my_list:\n",
    "    print(each_name)\n",
    "    time.sleep(.5)"
   ]
  },
  {
   "cell_type": "code",
   "execution_count": null,
   "metadata": {
    "collapsed": true
   },
   "outputs": [],
   "source": [
    "# Play along!  \n",
    "# Make a list of mixed items (ints, floats, strings, booleans) and iterate over the list using\n",
    "# a FOR LOOP"
   ]
  },
  {
   "cell_type": "code",
   "execution_count": null,
   "metadata": {
    "collapsed": false
   },
   "outputs": [],
   "source": [
    "# In other languages, you would iterate over an array of integers, and use those integers\n",
    "# as indices to pull from the list you actually care about:\n",
    "\n",
    "my_list = ['Tom','Pete','Sally',\"Dorothy\"]\n",
    "x = len(my_list)\n",
    "for i in range(x):\n",
    "    print(my_list[i])\n",
    "    time.sleep(.5)\n",
    "    \n",
    "# In comparison to the Python way, this is extra work!"
   ]
  },
  {
   "cell_type": "code",
   "execution_count": null,
   "metadata": {
    "collapsed": true
   },
   "outputs": [],
   "source": [
    "# Play along!\n",
    "# Create a list of three random names, and then define a variable \"n\" that is equal to the \n",
    "# length of the list.  Use the example above as a template to make a for loop that pulls \n",
    "# each item out of your list by an index."
   ]
  },
  {
   "cell_type": "code",
   "execution_count": null,
   "metadata": {
    "collapsed": false
   },
   "outputs": [],
   "source": [
    "# Let's see it again, but with strings:\n",
    "\n",
    "# This will print the value:\n",
    "str = \"yellow\"\n",
    "for each_character in str:\n",
    "    print(each_character)\n",
    "    time.sleep(.5)\n",
    "    "
   ]
  },
  {
   "cell_type": "code",
   "execution_count": null,
   "metadata": {
    "collapsed": false
   },
   "outputs": [],
   "source": [
    "# This will print the INDEX\n",
    "str = \"yellow\"\n",
    "for each_index in range(len(str)):\n",
    "    print(each_index)\n",
    "    time.sleep(.5)"
   ]
  },
  {
   "cell_type": "code",
   "execution_count": null,
   "metadata": {
    "collapsed": false
   },
   "outputs": [],
   "source": [
    "# You can get both the value and the index using ENUMERATE\n",
    "\n",
    "my_list = ['Tom','Pete','Sally',\"Dorothy\"]\n",
    "for index,each_name in enumerate(my_list):\n",
    "    print(index,':',each_name)\n",
    "    time.sleep(.5)"
   ]
  },
  {
   "cell_type": "code",
   "execution_count": null,
   "metadata": {
    "collapsed": false
   },
   "outputs": [],
   "source": [
    "# This works because enumerate is actually feeding back TWO pieces of information!\n",
    "#\n",
    "# We haven't seen it before, but this is an exceptionally nice way to define two variables:\n",
    "\n",
    "x,y = 5,9\n",
    "print(x,',',y)"
   ]
  },
  {
   "cell_type": "code",
   "execution_count": null,
   "metadata": {
    "collapsed": true
   },
   "outputs": [],
   "source": [
    "# Play along!\n",
    "# Define three variables a, b, and c using commas to do it all in one line."
   ]
  },
  {
   "cell_type": "code",
   "execution_count": null,
   "metadata": {
    "collapsed": true
   },
   "outputs": [],
   "source": [
    "# Play along!  Make up values that correspond to these variables\n",
    "\n",
    "lucky_number, dog_name, is_sunny, change_in_pocket = "
   ]
  },
  {
   "cell_type": "code",
   "execution_count": null,
   "metadata": {
    "collapsed": false
   },
   "outputs": [],
   "source": [
    "# You can NEST Loops, one inside the other:\n",
    "\n",
    "for i in range(5):\n",
    "    for j in range(3):\n",
    "        print('i is',i,', j is',j)\n",
    "        time.sleep(.5)\n",
    "        \n",
    "# As this program run, \"i\" acts a little like an hour hand, incrementing slowly.  \"j\" acts like a \n",
    "# minute hand, moving relatively quickly."
   ]
  },
  {
   "cell_type": "code",
   "execution_count": null,
   "metadata": {
    "collapsed": false
   },
   "outputs": [],
   "source": [
    "# You could write this another way, to only report \"i\" when the value changes.\n",
    "\n",
    "for i in range(5):\n",
    "    print('I IS NOW: now',i)\n",
    "    for j in range(3):\n",
    "        print('>>> j is now',j)\n",
    "        time.sleep(.5)\n",
    "        "
   ]
  },
  {
   "cell_type": "code",
   "execution_count": null,
   "metadata": {
    "collapsed": false
   },
   "outputs": [],
   "source": [
    "# You can do whatever you like inside any of these loops.\n",
    "# This is some simple code that lists all the month/day combinations in a year\n",
    "# (including some that don't exist!)\n",
    "\n",
    "months = ['jan','feb','mar','apr','may','jun','jul','aug','sep','oct','nov','dec']\n",
    "days = range(1,32)\n",
    "for month in months:\n",
    "    for day in days:\n",
    "        print(month,day)\n",
    "        if month=='sep' and day==18:\n",
    "            print('TODAY IS YOUR BIRTHDAY (if you are Ashley)!')"
   ]
  },
  {
   "cell_type": "code",
   "execution_count": null,
   "metadata": {
    "collapsed": true
   },
   "outputs": [],
   "source": [
    "# ***\n",
    "# Play along!\n",
    "# Write a nested FOR LOOP that iterates over these two lists and prints something that combines\n",
    "# the two pieces of information\n",
    "\n",
    "names = ['Fred','Wilma','Scooby','Shaggy','Daphne']\n",
    "things_they_say = ['JEEPERS!','Gosh','Does Scooby want a Scooby Snack?']"
   ]
  },
  {
   "cell_type": "markdown",
   "metadata": {},
   "source": [
    "## Breaks"
   ]
  },
  {
   "cell_type": "code",
   "execution_count": null,
   "metadata": {
    "collapsed": false
   },
   "outputs": [],
   "source": [
    "# You can also force a loop to stop with a BREAK statement.\n",
    "# This is usually done if a specific condition is met:\n",
    "\n",
    "for i in range(5):\n",
    "    print(i)\n",
    "    time.sleep(.5)\n",
    "    if i==3:\n",
    "        break;"
   ]
  },
  {
   "cell_type": "code",
   "execution_count": null,
   "metadata": {
    "collapsed": true
   },
   "outputs": [],
   "source": [
    "# ***\n",
    "# Play along!\n",
    "# Write a for loop that counts from 1 to 100, but breaks if the number is greater than 33"
   ]
  },
  {
   "cell_type": "code",
   "execution_count": null,
   "metadata": {
    "collapsed": true
   },
   "outputs": [],
   "source": [
    "# ***\n",
    "# Play along!\n",
    "# Write a for loop that prints out numbers from 10 to 1000 by tens, but breaks if the number\n",
    "# is greater than or equal to 393"
   ]
  },
  {
   "cell_type": "code",
   "execution_count": null,
   "metadata": {
    "collapsed": true
   },
   "outputs": [],
   "source": [
    "# ***\n",
    "# Play along! \n",
    "# Make a list that goes from 1000 to 10 by tens"
   ]
  },
  {
   "cell_type": "code",
   "execution_count": null,
   "metadata": {
    "collapsed": true
   },
   "outputs": [],
   "source": [
    "# Play along!\n",
    "# Modify the day/month code above so that it BREAKS out of the inner loop if the day is greater \n",
    "# than 30 and the month is one that only has 30 days (don't worry about FEB yet)"
   ]
  },
  {
   "cell_type": "code",
   "execution_count": null,
   "metadata": {
    "collapsed": true
   },
   "outputs": [],
   "source": [
    "# ***\n",
    "# Play along!\n",
    "# Inspect the output.  Did it work?"
   ]
  },
  {
   "cell_type": "code",
   "execution_count": null,
   "metadata": {
    "collapsed": true
   },
   "outputs": [],
   "source": [
    "# Play along!\n",
    "# Modify the previous code to include the February case!"
   ]
  },
  {
   "cell_type": "markdown",
   "metadata": {},
   "source": [
    "## While Loops"
   ]
  },
  {
   "cell_type": "code",
   "execution_count": null,
   "metadata": {
    "collapsed": false
   },
   "outputs": [],
   "source": [
    "# While loops are like for loops, but are structured differently.  \n",
    "\n",
    "# Compare this with the while loop in the next block\n",
    "\n",
    "for x in range(3):\n",
    "    print(x)"
   ]
  },
  {
   "cell_type": "code",
   "execution_count": null,
   "metadata": {
    "collapsed": false
   },
   "outputs": [],
   "source": [
    "x = 0\n",
    "while x < 3:  # This is the EXIT CONDITION\n",
    "    print(x)\n",
    "    x = x + 1"
   ]
  },
  {
   "cell_type": "code",
   "execution_count": null,
   "metadata": {
    "collapsed": false
   },
   "outputs": [],
   "source": [
    "# Here's a while loop that counts backward from 100 by fives, and stops at 20\n",
    "x = 100\n",
    "while x >= 20:\n",
    "    print(x)\n",
    "    x = x - 5"
   ]
  },
  {
   "cell_type": "code",
   "execution_count": null,
   "metadata": {
    "collapsed": true
   },
   "outputs": [],
   "source": [
    "# Play along!\n",
    "# Write two while loops that do anything you wish."
   ]
  },
  {
   "cell_type": "code",
   "execution_count": null,
   "metadata": {
    "collapsed": false
   },
   "outputs": [],
   "source": [
    "# You have to be careful with a WHILE LOOP, \n",
    "# BECAUSE IT CAN RUN FOREVER IF THAT EXIT CONDITION is not met:\n",
    "\n",
    "# ATTENTION!\n",
    "\n",
    "# THIS CODE WON'T WORK!\n",
    "\n",
    "# IT IS VERY BAD CODE!!!\n",
    "\n",
    "# THIS PROCESS WILL RUN AWAY ENDLESSLY, SO BEFORE YOU RUN IT, SAVE YOUR WORK!\n",
    "\n",
    "# IN FACT, SAVE ANY WORK YOU HAVE OPEN IN ANY OTHER TAB.\n",
    "\n",
    "# YOU MAY CRASH!\n",
    "\n",
    "# ARE YOU READY?\n",
    "\n",
    "import time\n",
    "\n",
    "x = 0\n",
    "while x != -1:\n",
    "    print(x)\n",
    "    x = x + 1\n",
    "    print(\"I know we'll come around to -1 eventually, if I just keep adding 1!!\")\n",
    "    time.sleep(1)\n",
    "    \n",
    "# This code will never stop running.  You'll have to manually stop it!\n",
    "# You can try Kernel -> Interrupt, which may or may not work.\n",
    "# You can try Kernel -> Restart, which is more likely to work.\n",
    "# You can alt-tab over to the server running in the command window, and hit Control-C twice.\n",
    "# If all that fails, you can contrl-alt-del to open task manager, and shut python down that way.\n",
    "\n",
    "# In any event, you could well lose data if this happens.\n",
    "\n",
    "# Aren't WHILE LOOPS fun?  :)"
   ]
  },
  {
   "cell_type": "code",
   "execution_count": null,
   "metadata": {
    "collapsed": false
   },
   "outputs": [],
   "source": [
    "import time\n",
    "\n",
    "x = 0\n",
    "while x != -1:\n",
    "    print(x)\n",
    "    x = x + 1\n",
    "    print(\"I know we'll come around to -1 eventually, if I just keep adding 1!!\")\n",
    "    # time.sleep(1)\n"
   ]
  },
  {
   "cell_type": "code",
   "execution_count": null,
   "metadata": {
    "collapsed": true
   },
   "outputs": [],
   "source": [
    "# Play along!\n",
    "# Should you run this code?  (i.e., will it run away?)\n",
    "\n",
    "# DON'T RUN IT!  Just evaluate it to see if it will ever terminate.\n",
    "\n",
    "while True:\n",
    "    print('Dr. Pingel is great!')"
   ]
  },
  {
   "cell_type": "code",
   "execution_count": null,
   "metadata": {
    "collapsed": true
   },
   "outputs": [],
   "source": [
    "# Play along!\n",
    "# How about this one?  Will it run away?\n",
    "t = 100\n",
    "while t >= 100:\n",
    "    t = t + 1"
   ]
  },
  {
   "cell_type": "code",
   "execution_count": null,
   "metadata": {
    "collapsed": true
   },
   "outputs": [],
   "source": [
    "# Play along\n",
    "# How about this one?\n",
    "\n",
    "t = 2\n",
    "u = 3\n",
    "while t<u:\n",
    "    t = t - 1\n",
    "    u = u + 1"
   ]
  },
  {
   "cell_type": "code",
   "execution_count": null,
   "metadata": {
    "collapsed": true
   },
   "outputs": [],
   "source": [
    "# Play along:\n",
    "# And this?  Will it run away?\n",
    "\n",
    "t = 100\n",
    "while t > 100:\n",
    "    print('Hello!')\n",
    "    t = t + 1"
   ]
  },
  {
   "cell_type": "markdown",
   "metadata": {
    "collapsed": true
   },
   "source": [
    "# Batch Processing Files"
   ]
  },
  {
   "cell_type": "code",
   "execution_count": null,
   "metadata": {
    "collapsed": false
   },
   "outputs": [],
   "source": [
    "# One of the most common tasks in geoprocessing (or processing in general) is Batch Processing, where\n",
    "# we need to do one thing to lots of files.\n",
    "\n",
    "# You can begin to do this using GLOB, a module that will generate lists of files with common syntax\n",
    "\n",
    "# This program loads the module, looks for all files ('*' is a WILDCARD)\n",
    "# so the string '*.*' means look for files with any NAME and any EXTENSION\n",
    "import glob\n",
    "my_files = glob.glob('*.*')\n",
    "print(my_files)"
   ]
  },
  {
   "cell_type": "code",
   "execution_count": null,
   "metadata": {
    "collapsed": true
   },
   "outputs": [],
   "source": [
    "# Play along!\n",
    "# Modify the code above to generate a list of only 'ipynb' files in the current directory."
   ]
  },
  {
   "cell_type": "code",
   "execution_count": null,
   "metadata": {
    "collapsed": false
   },
   "outputs": [],
   "source": [
    "# Next, let's look at how we might operate on some data.  To do that, we'll need some \"fake\" data\n",
    "# to play with.\n",
    "\n",
    "# Go to listofrandomnames.com, and create a list of 20 names, male and female, first and last.\n",
    "# Copy and paste the names to a notepad (or notepad++!) and save it to your current notebook's \n",
    "# directory as 'list0.txt'\n",
    "\n",
    "# Verify it worked!\n",
    "text_files = glob.glob('*.txt')\n",
    "print(text_files)\n",
    "\n",
    "# Was it there?"
   ]
  },
  {
   "cell_type": "markdown",
   "metadata": {},
   "source": [
    "## Reading Text Files"
   ]
  },
  {
   "cell_type": "code",
   "execution_count": null,
   "metadata": {
    "collapsed": false
   },
   "outputs": [],
   "source": [
    "# You can use code like this to open and read the file.  Pretty simple!\n",
    "\n",
    "filename = 'list0.txt'\n",
    "\n",
    "# The next line will open the file for 'r'eading.  You can 'w'rite this way, too.\n",
    "f = open(filename,'r')  \n",
    "# f is now a HANDLE that we can use to work with the file.  It hasn't been read yet, just opened.\n",
    "\n",
    "# Now we use the handle to read the file.  The object 'f' has a method 'read'\n",
    "contents = f.read()\n",
    "\n",
    "# Once we've read the file, we close it up!  Don't forget!\n",
    "f.close()\n",
    "\n",
    "print(contents)"
   ]
  },
  {
   "cell_type": "code",
   "execution_count": null,
   "metadata": {
    "collapsed": true
   },
   "outputs": [],
   "source": [
    "# Play along!\n",
    "# There are some odd characters here.  What are they?"
   ]
  },
  {
   "cell_type": "code",
   "execution_count": null,
   "metadata": {
    "collapsed": false
   },
   "outputs": [],
   "source": [
    "# You can read files in other ways, too.  One nice way is to read each line in as an item in a list.\n",
    "# Play along!  Write a comment before each of these lines, saying what it does.\n",
    "\n",
    "filename = 'list0.txt'\n",
    "f = open(filename)\n",
    "lines = f.readlines()\n",
    "f.close()\n",
    "print(lines)"
   ]
  },
  {
   "cell_type": "code",
   "execution_count": null,
   "metadata": {
    "collapsed": false
   },
   "outputs": [],
   "source": [
    "# Here's another way to do it using a FOR loop\n",
    "# Here, the handle \"f\" can act like a list or range.  The for loop will read a line at a time.\n",
    "# We would generally prefer to use \"readlines\" as we saw above.  This is just an example!\n",
    "\n",
    "filename = 'list0.txt'\n",
    "f = open(filename)\n",
    "for line in f:\n",
    "    print(line)\n",
    "f.close()"
   ]
  },
  {
   "cell_type": "code",
   "execution_count": 1,
   "metadata": {
    "collapsed": false
   },
   "outputs": [
    {
     "name": "stdout",
     "output_type": "stream",
     "text": [
      "['Beaulah Blundell Â\\xa0\\n', 'Allyson Rayborn Â\\xa0\\n', 'Denyse Mcgruder Â\\xa0\\n', 'Enda Kerns Â\\xa0\\n', 'Gracia Farone Â\\xa0\\n', 'Leopoldo Watrous Â\\xa0\\n', 'Alex Hodak Â\\xa0\\n', 'Edna Fragale Â\\xa0\\n', 'Wilhemina Tamura Â\\xa0\\n', 'Ebony Roder Â\\xa0\\n', 'Latoria Hefley Â\\xa0\\n', 'Romaine Reynoso Â\\xa0\\n', 'Bennett Rosenstein Â\\xa0\\n', 'Freda Hershey Â\\xa0\\n', 'Byron Finkelstein Â\\xa0\\n', 'Barbera Starck Â\\xa0\\n', 'Scott Chaput Â\\xa0\\n', 'Jayna Matsuura Â\\xa0\\n', 'Maranda Stillman Â\\xa0\\n', 'Hortensia Hora Â\\xa0']\n"
     ]
    }
   ],
   "source": [
    "# It's considered good form to use a WITH statement these days to read a file.  The syntax is a \n",
    "# little dense, but it adds security, to make sure if there are any errors in reading that the file\n",
    "# is closed down properly.\n",
    "\n",
    "# It works the same as the previous example.  \n",
    "\n",
    "# If you can get used to the syntax, this is the right way to read a file.\n",
    "\n",
    "filename = 'list0.txt'\n",
    "with open(filename) as f:\n",
    "    lines = f.readlines()\n",
    "print(lines)"
   ]
  },
  {
   "cell_type": "code",
   "execution_count": 2,
   "metadata": {
    "collapsed": false
   },
   "outputs": [
    {
     "data": {
      "text/plain": [
       "list"
      ]
     },
     "execution_count": 2,
     "metadata": {},
     "output_type": "execute_result"
    }
   ],
   "source": [
    "type(lines)"
   ]
  },
  {
   "cell_type": "code",
   "execution_count": 3,
   "metadata": {
    "collapsed": false
   },
   "outputs": [
    {
     "data": {
      "text/plain": [
       "20"
      ]
     },
     "execution_count": 3,
     "metadata": {},
     "output_type": "execute_result"
    }
   ],
   "source": [
    "len(lines)"
   ]
  },
  {
   "cell_type": "code",
   "execution_count": null,
   "metadata": {
    "collapsed": true
   },
   "outputs": [],
   "source": []
  },
  {
   "cell_type": "code",
   "execution_count": null,
   "metadata": {
    "collapsed": false
   },
   "outputs": [],
   "source": [
    "# This FOR LOOP iterates over each line in lines (the list output of readlines), and prints it out\n",
    "for line in lines:\n",
    "    print(line)"
   ]
  },
  {
   "cell_type": "code",
   "execution_count": 25,
   "metadata": {
    "collapsed": false
   },
   "outputs": [
    {
     "name": "stdout",
     "output_type": "stream",
     "text": [
      "['Scott', 'Chaput', 'Â\\xa0\\n']\n"
     ]
    },
    {
     "data": {
      "text/plain": [
       "'Scott Chaput, Esq.'"
      ]
     },
     "execution_count": 25,
     "metadata": {},
     "output_type": "execute_result"
    }
   ],
   "source": [
    "this_line = lines[16].split(' ')\n",
    "print(this_line)\n",
    "this_line[0] + ' ' + this_line[1] + ', Esq.'"
   ]
  },
  {
   "cell_type": "code",
   "execution_count": null,
   "metadata": {
    "collapsed": false
   },
   "outputs": [],
   "source": [
    "# There are some annoying special characters here.  Can we remove them?\n",
    "for i in range(len(lines)):\n",
    "    this_item = lines[i]\n",
    "    this_item = this_item.split(' ')\n",
    "    this_item = this_item[0] + ' ' + this_item[1]\n",
    "    print(this_item)\n",
    "\n",
    "# Play along!  Work through each line of code and write a comment indicating what it does.  You\n",
    "# may need to \"sandbox\" this, and run pieces of it in a separate codeblock until you understand\n",
    "# what they do.  Feel free to use online sources to help you!"
   ]
  },
  {
   "cell_type": "code",
   "execution_count": null,
   "metadata": {
    "collapsed": false
   },
   "outputs": [],
   "source": [
    "# Let's write this as a function:\n",
    "\n",
    "def fix_my_names(list_of_names):\n",
    "    for i in range(len(lines)):\n",
    "        this_item = list_of_names[i]\n",
    "        this_item = this_item.split(' ')\n",
    "        this_item = this_item[0] + ' ' + this_item[1]\n",
    "        list_of_names[i] = this_item\n",
    "    return list_of_names"
   ]
  },
  {
   "cell_type": "code",
   "execution_count": null,
   "metadata": {
    "collapsed": false
   },
   "outputs": [],
   "source": [
    "# Now we can do this:\n",
    "\n",
    "filename = 'list0.txt'\n",
    "with open(filename) as f:\n",
    "    list_of_names = f.readlines()\n",
    "fixed_list = fix_my_names(list_of_names)\n",
    "print(fixed_list)"
   ]
  },
  {
   "cell_type": "code",
   "execution_count": null,
   "metadata": {
    "collapsed": true
   },
   "outputs": [],
   "source": [
    "# Play along!  (This is a hard one!)  Tackle these one at a time!\n",
    "\n",
    "# Generate four more lists of names, and name them list1.txt, list2.txt, list3.txt, and list4.txt.\n",
    "\n",
    "# Use GLOB to read all five (including list0.txt) into a LIST called \"filenames\".  \n",
    "# Make sure they're all in there!\n",
    "\n",
    "filenames = \n",
    "\n",
    "# Write a FOR LOOP that loops through each filename in the list, and prints out the filename\n",
    "# Start like this:\n",
    "# for filename in filenames:\n",
    "    \n",
    "# Modify the loop above so that after you print the file name, you open it, and read the contents\n",
    "# (using readlines) and close it.  You can use a WITH statement or not, as you choose.\n",
    "\n",
    "# Modify the loop AGAIN to fix your lists of names using fix_my_names.\n",
    "\n",
    "# Create an empty list \"big_list = []\" BEFORE the loop.  After you read in and fix the names,\n",
    "# EXTEND big_list to add the new names.  \n",
    "\n",
    "# Print the contents of big_list at the end.  The final output for the program should be a merged \n",
    "# list of all 100 names, 20 from each of your five files."
   ]
  },
  {
   "cell_type": "code",
   "execution_count": null,
   "metadata": {
    "collapsed": false
   },
   "outputs": [],
   "source": [
    "# Play along!\n",
    "# Let's write out our data.  \n",
    "# You can run this with these three names as a test, but when you're ready, COMMENT THAT OUT, \n",
    "# and just use the the big_list you generated in your previous example.\n",
    "\n",
    "# For this play along, write comments indicating what's going on in each of the three lines. \n",
    "\n",
    "big_list = ['Sam','George','Pete']\n",
    "with open('all_names.txt','w') as f:\n",
    "    for item in big_list:\n",
    "        f.write(item + '\\n')\n"
   ]
  }
 ],
 "metadata": {
  "anaconda-cloud": {},
  "kernelspec": {
   "display_name": "Python [conda root]",
   "language": "python",
   "name": "conda-root-py"
  },
  "language_info": {
   "codemirror_mode": {
    "name": "ipython",
    "version": 3
   },
   "file_extension": ".py",
   "mimetype": "text/x-python",
   "name": "python",
   "nbconvert_exporter": "python",
   "pygments_lexer": "ipython3",
   "version": "3.5.2"
  }
 },
 "nbformat": 4,
 "nbformat_minor": 1
}
