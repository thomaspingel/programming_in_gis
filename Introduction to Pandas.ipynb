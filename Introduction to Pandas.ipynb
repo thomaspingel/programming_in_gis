{
 "cells": [
  {
   "cell_type": "code",
   "execution_count": 1,
   "metadata": {},
   "outputs": [],
   "source": [
    "import numpy as np\n",
    "import pandas as pd\n",
    "import matplotlib.pyplot as plt"
   ]
  },
  {
   "cell_type": "markdown",
   "metadata": {},
   "source": [
    "Download the Fisher iris data (in both CSV and XLSX form) from the course data repository at https://github.com/thomaspingel/geodata and save it to the folder that you're working in now."
   ]
  },
  {
   "cell_type": "markdown",
   "metadata": {},
   "source": [
    "# Loading Data"
   ]
  },
  {
   "cell_type": "code",
   "execution_count": 2,
   "metadata": {},
   "outputs": [],
   "source": [
    "# CSV files are easy to read:\n",
    "    \n",
    "df = pd.read_csv('data/fisher_iris_data.csv')"
   ]
  },
  {
   "cell_type": "code",
   "execution_count": 3,
   "metadata": {},
   "outputs": [],
   "source": [
    "# Excel files are also easy to read. \n",
    "\n",
    "df = pd.read_excel('data/fisher_iris_data.xlsx')"
   ]
  },
  {
   "cell_type": "code",
   "execution_count": 4,
   "metadata": {},
   "outputs": [],
   "source": [
    "# Pandas can read things data from URLs, too, without needing to separately download:\n",
    "\n",
    "url = 'https://raw.githubusercontent.com/thomaspingel/geodata/master/fisher_iris_data.csv'\n",
    "df = pd.read_csv(url)"
   ]
  },
  {
   "cell_type": "markdown",
   "metadata": {},
   "source": [
    "# Inspecting Data"
   ]
  },
  {
   "cell_type": "markdown",
   "metadata": {},
   "source": [
    "Probably the single most important thing you can do with your data after you load it is to look at it!\n",
    "\n",
    "Maybe even load it in a text editor before you get this far, since many programs will have tried to interpret the data before they show it to you.  Excel, ArcGIS Pro, and even Pandas will do things like try to figure out what your data types are when in reads in a table."
   ]
  },
  {
   "cell_type": "code",
   "execution_count": 5,
   "metadata": {},
   "outputs": [
    {
     "data": {
      "text/html": [
       "<div>\n",
       "<style scoped>\n",
       "    .dataframe tbody tr th:only-of-type {\n",
       "        vertical-align: middle;\n",
       "    }\n",
       "\n",
       "    .dataframe tbody tr th {\n",
       "        vertical-align: top;\n",
       "    }\n",
       "\n",
       "    .dataframe thead th {\n",
       "        text-align: right;\n",
       "    }\n",
       "</style>\n",
       "<table border=\"1\" class=\"dataframe\">\n",
       "  <thead>\n",
       "    <tr style=\"text-align: right;\">\n",
       "      <th></th>\n",
       "      <th>species</th>\n",
       "      <th>petal_width</th>\n",
       "      <th>petal_length</th>\n",
       "      <th>sepal_width</th>\n",
       "      <th>sepal_length</th>\n",
       "    </tr>\n",
       "  </thead>\n",
       "  <tbody>\n",
       "    <tr>\n",
       "      <td>0</td>\n",
       "      <td>setosa</td>\n",
       "      <td>2</td>\n",
       "      <td>14</td>\n",
       "      <td>33</td>\n",
       "      <td>50</td>\n",
       "    </tr>\n",
       "    <tr>\n",
       "      <td>1</td>\n",
       "      <td>setosa</td>\n",
       "      <td>2</td>\n",
       "      <td>10</td>\n",
       "      <td>36</td>\n",
       "      <td>46</td>\n",
       "    </tr>\n",
       "    <tr>\n",
       "      <td>2</td>\n",
       "      <td>setosa</td>\n",
       "      <td>2</td>\n",
       "      <td>16</td>\n",
       "      <td>31</td>\n",
       "      <td>48</td>\n",
       "    </tr>\n",
       "    <tr>\n",
       "      <td>3</td>\n",
       "      <td>setosa</td>\n",
       "      <td>1</td>\n",
       "      <td>14</td>\n",
       "      <td>36</td>\n",
       "      <td>49</td>\n",
       "    </tr>\n",
       "    <tr>\n",
       "      <td>4</td>\n",
       "      <td>setosa</td>\n",
       "      <td>2</td>\n",
       "      <td>13</td>\n",
       "      <td>32</td>\n",
       "      <td>44</td>\n",
       "    </tr>\n",
       "  </tbody>\n",
       "</table>\n",
       "</div>"
      ],
      "text/plain": [
       "  species  petal_width  petal_length  sepal_width  sepal_length\n",
       "0  setosa            2            14           33            50\n",
       "1  setosa            2            10           36            46\n",
       "2  setosa            2            16           31            48\n",
       "3  setosa            1            14           36            49\n",
       "4  setosa            2            13           32            44"
      ]
     },
     "execution_count": 5,
     "metadata": {},
     "output_type": "execute_result"
    }
   ],
   "source": [
    "# Head shows the first five lines by default\n",
    "\n",
    "df.head()"
   ]
  },
  {
   "cell_type": "code",
   "execution_count": 6,
   "metadata": {},
   "outputs": [
    {
     "data": {
      "text/html": [
       "<div>\n",
       "<style scoped>\n",
       "    .dataframe tbody tr th:only-of-type {\n",
       "        vertical-align: middle;\n",
       "    }\n",
       "\n",
       "    .dataframe tbody tr th {\n",
       "        vertical-align: top;\n",
       "    }\n",
       "\n",
       "    .dataframe thead th {\n",
       "        text-align: right;\n",
       "    }\n",
       "</style>\n",
       "<table border=\"1\" class=\"dataframe\">\n",
       "  <thead>\n",
       "    <tr style=\"text-align: right;\">\n",
       "      <th></th>\n",
       "      <th>species</th>\n",
       "      <th>petal_width</th>\n",
       "      <th>petal_length</th>\n",
       "      <th>sepal_width</th>\n",
       "      <th>sepal_length</th>\n",
       "    </tr>\n",
       "  </thead>\n",
       "  <tbody>\n",
       "    <tr>\n",
       "      <td>0</td>\n",
       "      <td>setosa</td>\n",
       "      <td>2</td>\n",
       "      <td>14</td>\n",
       "      <td>33</td>\n",
       "      <td>50</td>\n",
       "    </tr>\n",
       "    <tr>\n",
       "      <td>1</td>\n",
       "      <td>setosa</td>\n",
       "      <td>2</td>\n",
       "      <td>10</td>\n",
       "      <td>36</td>\n",
       "      <td>46</td>\n",
       "    </tr>\n",
       "    <tr>\n",
       "      <td>2</td>\n",
       "      <td>setosa</td>\n",
       "      <td>2</td>\n",
       "      <td>16</td>\n",
       "      <td>31</td>\n",
       "      <td>48</td>\n",
       "    </tr>\n",
       "  </tbody>\n",
       "</table>\n",
       "</div>"
      ],
      "text/plain": [
       "  species  petal_width  petal_length  sepal_width  sepal_length\n",
       "0  setosa            2            14           33            50\n",
       "1  setosa            2            10           36            46\n",
       "2  setosa            2            16           31            48"
      ]
     },
     "execution_count": 6,
     "metadata": {},
     "output_type": "execute_result"
    }
   ],
   "source": [
    "# But you can ask for more or fewer:\n",
    "\n",
    "df.head(3)"
   ]
  },
  {
   "cell_type": "code",
   "execution_count": 7,
   "metadata": {},
   "outputs": [
    {
     "data": {
      "text/html": [
       "<div>\n",
       "<style scoped>\n",
       "    .dataframe tbody tr th:only-of-type {\n",
       "        vertical-align: middle;\n",
       "    }\n",
       "\n",
       "    .dataframe tbody tr th {\n",
       "        vertical-align: top;\n",
       "    }\n",
       "\n",
       "    .dataframe thead th {\n",
       "        text-align: right;\n",
       "    }\n",
       "</style>\n",
       "<table border=\"1\" class=\"dataframe\">\n",
       "  <thead>\n",
       "    <tr style=\"text-align: right;\">\n",
       "      <th></th>\n",
       "      <th>species</th>\n",
       "      <th>petal_width</th>\n",
       "      <th>petal_length</th>\n",
       "      <th>sepal_width</th>\n",
       "      <th>sepal_length</th>\n",
       "    </tr>\n",
       "  </thead>\n",
       "  <tbody>\n",
       "    <tr>\n",
       "      <td>145</td>\n",
       "      <td>virginica</td>\n",
       "      <td>18</td>\n",
       "      <td>63</td>\n",
       "      <td>29</td>\n",
       "      <td>73</td>\n",
       "    </tr>\n",
       "    <tr>\n",
       "      <td>146</td>\n",
       "      <td>virginica</td>\n",
       "      <td>22</td>\n",
       "      <td>58</td>\n",
       "      <td>30</td>\n",
       "      <td>65</td>\n",
       "    </tr>\n",
       "    <tr>\n",
       "      <td>147</td>\n",
       "      <td>virginica</td>\n",
       "      <td>19</td>\n",
       "      <td>53</td>\n",
       "      <td>27</td>\n",
       "      <td>64</td>\n",
       "    </tr>\n",
       "    <tr>\n",
       "      <td>148</td>\n",
       "      <td>virginica</td>\n",
       "      <td>20</td>\n",
       "      <td>50</td>\n",
       "      <td>25</td>\n",
       "      <td>57</td>\n",
       "    </tr>\n",
       "    <tr>\n",
       "      <td>149</td>\n",
       "      <td>virginica</td>\n",
       "      <td>24</td>\n",
       "      <td>51</td>\n",
       "      <td>28</td>\n",
       "      <td>58</td>\n",
       "    </tr>\n",
       "  </tbody>\n",
       "</table>\n",
       "</div>"
      ],
      "text/plain": [
       "       species  petal_width  petal_length  sepal_width  sepal_length\n",
       "145  virginica           18            63           29            73\n",
       "146  virginica           22            58           30            65\n",
       "147  virginica           19            53           27            64\n",
       "148  virginica           20            50           25            57\n",
       "149  virginica           24            51           28            58"
      ]
     },
     "execution_count": 7,
     "metadata": {},
     "output_type": "execute_result"
    }
   ],
   "source": [
    "# Tail does the same thing, but for the end.\n",
    "\n",
    "df.tail()"
   ]
  },
  {
   "cell_type": "markdown",
   "metadata": {},
   "source": [
    "# Simple Plotting Using Matplotlib"
   ]
  },
  {
   "cell_type": "code",
   "execution_count": 8,
   "metadata": {},
   "outputs": [
    {
     "data": {
      "text/plain": [
       "[<matplotlib.lines.Line2D at 0x215146daf88>]"
      ]
     },
     "execution_count": 8,
     "metadata": {},
     "output_type": "execute_result"
    },
    {
     "data": {
      "image/png": "[encoded data removed]",
      "text/plain": [
       "<Figure size 432x288 with 1 Axes>"
      ]
     },
     "metadata": {
      "needs_background": "light"
     },
     "output_type": "display_data"
    }
   ],
   "source": [
    "# A simple scatterplot\n",
    "\n",
    "plt.plot(df.petal_width,df.petal_length,'.')"
   ]
  },
  {
   "cell_type": "code",
   "execution_count": 9,
   "metadata": {},
   "outputs": [
    {
     "data": {
      "image/png": "[encoded data removed]",
      "text/plain": [
       "<Figure size 432x288 with 1 Axes>"
      ]
     },
     "metadata": {
      "needs_background": "light"
     },
     "output_type": "display_data"
    }
   ],
   "source": [
    "# Labeling\n",
    "\n",
    "plt.plot(df.petal_width,df.petal_length,'.')\n",
    "plt.xlabel('Petal Width')\n",
    "plt.ylabel('Petal Length')\n",
    "plt.title('Iris Width vs. Length')\n",
    "plt.savefig('out/iris_width_vs_length.png',dpi=300)"
   ]
  },
  {
   "cell_type": "markdown",
   "metadata": {},
   "source": [
    "### Specifying the appearance with linespec"
   ]
  },
  {
   "cell_type": "code",
   "execution_count": 10,
   "metadata": {},
   "outputs": [
    {
     "data": {
      "text/plain": [
       "[<matplotlib.lines.Line2D at 0x21514a63188>]"
      ]
     },
     "execution_count": 10,
     "metadata": {},
     "output_type": "execute_result"
    },
    {
     "data": {
      "image/png": "[encoded data removed]",
      "text/plain": [
       "<Figure size 432x288 with 1 Axes>"
      ]
     },
     "metadata": {
      "needs_background": "light"
     },
     "output_type": "display_data"
    }
   ],
   "source": [
    "# Plot is very powerful.  The appearance is called linespec, and mirrors Matlab's syntax\n",
    "# See: http://www.mathworks.com/help/matlab/ref/linespec.html\n",
    "\n",
    "# We can add colors this way by adding a letter before the dot. r is red, b is blue, etc.\n",
    "# There are only a few colors, but enough to differentiate most data.\n",
    "\n",
    "plt.plot(df.petal_width,df.petal_length,'r.')"
   ]
  },
  {
   "cell_type": "code",
   "execution_count": 11,
   "metadata": {},
   "outputs": [
    {
     "data": {
      "text/plain": [
       "[<matplotlib.lines.Line2D at 0x21514acbbc8>]"
      ]
     },
     "execution_count": 11,
     "metadata": {},
     "output_type": "execute_result"
    },
    {
     "data": {
      "image/png": "[encoded data removed]",
      "text/plain": [
       "<Figure size 432x288 with 1 Axes>"
      ]
     },
     "metadata": {
      "needs_background": "light"
     },
     "output_type": "display_data"
    }
   ],
   "source": [
    "# We can draw other things too, like Exes and Ohs\n",
    "\n",
    "plt.plot(df.petal_width,df.petal_length,'gx')"
   ]
  },
  {
   "cell_type": "code",
   "execution_count": 12,
   "metadata": {},
   "outputs": [
    {
     "data": {
      "text/plain": [
       "[<matplotlib.lines.Line2D at 0x215146e5a08>]"
      ]
     },
     "execution_count": 12,
     "metadata": {},
     "output_type": "execute_result"
    },
    {
     "data": {
      "image/png": "[encoded data removed]",
      "text/plain": [
       "<Figure size 432x288 with 1 Axes>"
      ]
     },
     "metadata": {
      "needs_background": "light"
     },
     "output_type": "display_data"
    }
   ],
   "source": [
    "# If we need to draw lines, we can do that too.  \n",
    "# The default is a solid lines, but we can do dashes, dots, and more.\n",
    "# Notice that it will change the colors automatically, if you don't specify.\n",
    "\n",
    "t = np.arange(0.0, 2.0, 0.01)\n",
    "s = np.sin(2 * np.pi * t)\n",
    "s2 = -np.sin(2 * np.pi * t)\n",
    "plt.plot(t, s,':')\n",
    "plt.plot(t, s2,'-')"
   ]
  },
  {
   "cell_type": "markdown",
   "metadata": {},
   "source": [
    "### Histograms"
   ]
  },
  {
   "cell_type": "code",
   "execution_count": 13,
   "metadata": {},
   "outputs": [
    {
     "data": {
      "image/png": "[encoded data removed]",
      "text/plain": [
       "<Figure size 432x288 with 1 Axes>"
      ]
     },
     "metadata": {
      "needs_background": "light"
     },
     "output_type": "display_data"
    }
   ],
   "source": [
    "# Plotting histograms.  Here, the annoying extra information is being captured using a garbage\n",
    "# or throwaway variable (the underscore)\n",
    "\n",
    "_ = plt.hist(df.petal_length,bins=20)"
   ]
  },
  {
   "cell_type": "markdown",
   "metadata": {},
   "source": [
    "### Pandas Plotting"
   ]
  },
  {
   "cell_type": "code",
   "execution_count": 14,
   "metadata": {},
   "outputs": [
    {
     "data": {
      "text/plain": [
       "<matplotlib.axes._subplots.AxesSubplot at 0x21514bb2308>"
      ]
     },
     "execution_count": 14,
     "metadata": {},
     "output_type": "execute_result"
    },
    {
     "data": {
      "image/png": "[encoded data removed]",
      "text/plain": [
       "<Figure size 432x288 with 1 Axes>"
      ]
     },
     "metadata": {
      "needs_background": "light"
     },
     "output_type": "display_data"
    }
   ],
   "source": [
    "# Pandas has its own plotting library.  One of my favorites is KDE, or kernel density estimation.  \n",
    "# KDE is like a histogram, but better.\n",
    "\n",
    "df['petal_length'].plot.kde()"
   ]
  },
  {
   "cell_type": "markdown",
   "metadata": {},
   "source": [
    "### Saving Plots"
   ]
  },
  {
   "cell_type": "code",
   "execution_count": 15,
   "metadata": {},
   "outputs": [
    {
     "data": {
      "image/png": "[encoded data removed]",
      "text/plain": [
       "<Figure size 432x288 with 1 Axes>"
      ]
     },
     "metadata": {
      "needs_background": "light"
     },
     "output_type": "display_data"
    }
   ],
   "source": [
    "# When saving, it's easiest to put the savefig command in the same codeblock you use to make the plot\n",
    "\n",
    "_ = plt.hist(df.petal_length,bins=20)\n",
    "plt.savefig('out/histogram.png',dpi=300)"
   ]
  },
  {
   "cell_type": "markdown",
   "metadata": {},
   "source": [
    "### Subplots"
   ]
  },
  {
   "cell_type": "code",
   "execution_count": 16,
   "metadata": {},
   "outputs": [
    {
     "data": {
      "text/plain": [
       "[<matplotlib.lines.Line2D at 0x2151690a748>]"
      ]
     },
     "execution_count": 16,
     "metadata": {},
     "output_type": "execute_result"
    },
    {
     "data": {
      "image/png": "[encoded data removed]",
      "text/plain": [
       "<Figure size 432x288 with 4 Axes>"
      ]
     },
     "metadata": {
      "needs_background": "light"
     },
     "output_type": "display_data"
    }
   ],
   "source": [
    "# Subplots work by specifying how many rows and columns you want in the subplot, and then filling them in by number\n",
    "# 1 to n, from left-to-right, top-to-bottom\n",
    "\n",
    "plt.subplot(2,2,1)\n",
    "plt.plot(np.random.rand(5),'g-')\n",
    "plt.subplot(2,2,2)\n",
    "plt.plot(np.random.rand(25),np.random.rand(25),'b.')\n",
    "plt.subplot(2,2,3)\n",
    "_ = plt.hist(np.random.randn(100),bins=20)\n",
    "plt.subplot(2,2,4)\n",
    "plt.plot(np.random.randn(100),np.random.randn(100),'mx')"
   ]
  },
  {
   "cell_type": "markdown",
   "metadata": {},
   "source": [
    "# Descriptive Statistics"
   ]
  },
  {
   "cell_type": "code",
   "execution_count": 17,
   "metadata": {},
   "outputs": [
    {
     "data": {
      "text/html": [
       "<div>\n",
       "<style scoped>\n",
       "    .dataframe tbody tr th:only-of-type {\n",
       "        vertical-align: middle;\n",
       "    }\n",
       "\n",
       "    .dataframe tbody tr th {\n",
       "        vertical-align: top;\n",
       "    }\n",
       "\n",
       "    .dataframe thead th {\n",
       "        text-align: right;\n",
       "    }\n",
       "</style>\n",
       "<table border=\"1\" class=\"dataframe\">\n",
       "  <thead>\n",
       "    <tr style=\"text-align: right;\">\n",
       "      <th></th>\n",
       "      <th>petal_width</th>\n",
       "      <th>petal_length</th>\n",
       "      <th>sepal_width</th>\n",
       "      <th>sepal_length</th>\n",
       "    </tr>\n",
       "  </thead>\n",
       "  <tbody>\n",
       "    <tr>\n",
       "      <td>count</td>\n",
       "      <td>150.000000</td>\n",
       "      <td>150.000000</td>\n",
       "      <td>150.000000</td>\n",
       "      <td>150.000000</td>\n",
       "    </tr>\n",
       "    <tr>\n",
       "      <td>mean</td>\n",
       "      <td>11.926667</td>\n",
       "      <td>37.786667</td>\n",
       "      <td>30.553333</td>\n",
       "      <td>58.446667</td>\n",
       "    </tr>\n",
       "    <tr>\n",
       "      <td>std</td>\n",
       "      <td>7.569008</td>\n",
       "      <td>17.776233</td>\n",
       "      <td>4.372791</td>\n",
       "      <td>8.268592</td>\n",
       "    </tr>\n",
       "    <tr>\n",
       "      <td>min</td>\n",
       "      <td>1.000000</td>\n",
       "      <td>10.000000</td>\n",
       "      <td>20.000000</td>\n",
       "      <td>43.000000</td>\n",
       "    </tr>\n",
       "    <tr>\n",
       "      <td>25%</td>\n",
       "      <td>3.000000</td>\n",
       "      <td>16.000000</td>\n",
       "      <td>28.000000</td>\n",
       "      <td>51.000000</td>\n",
       "    </tr>\n",
       "    <tr>\n",
       "      <td>50%</td>\n",
       "      <td>13.000000</td>\n",
       "      <td>44.000000</td>\n",
       "      <td>30.000000</td>\n",
       "      <td>58.000000</td>\n",
       "    </tr>\n",
       "    <tr>\n",
       "      <td>75%</td>\n",
       "      <td>18.000000</td>\n",
       "      <td>51.000000</td>\n",
       "      <td>33.000000</td>\n",
       "      <td>64.000000</td>\n",
       "    </tr>\n",
       "    <tr>\n",
       "      <td>max</td>\n",
       "      <td>25.000000</td>\n",
       "      <td>69.000000</td>\n",
       "      <td>44.000000</td>\n",
       "      <td>79.000000</td>\n",
       "    </tr>\n",
       "  </tbody>\n",
       "</table>\n",
       "</div>"
      ],
      "text/plain": [
       "       petal_width  petal_length  sepal_width  sepal_length\n",
       "count   150.000000    150.000000   150.000000    150.000000\n",
       "mean     11.926667     37.786667    30.553333     58.446667\n",
       "std       7.569008     17.776233     4.372791      8.268592\n",
       "min       1.000000     10.000000    20.000000     43.000000\n",
       "25%       3.000000     16.000000    28.000000     51.000000\n",
       "50%      13.000000     44.000000    30.000000     58.000000\n",
       "75%      18.000000     51.000000    33.000000     64.000000\n",
       "max      25.000000     69.000000    44.000000     79.000000"
      ]
     },
     "execution_count": 17,
     "metadata": {},
     "output_type": "execute_result"
    }
   ],
   "source": [
    "# Getting many summary statistics easily for each column\n",
    "\n",
    "df.describe()"
   ]
  },
  {
   "cell_type": "code",
   "execution_count": 18,
   "metadata": {},
   "outputs": [
    {
     "data": {
      "text/plain": [
       "11.926666666666666"
      ]
     },
     "execution_count": 18,
     "metadata": {},
     "output_type": "execute_result"
    }
   ],
   "source": [
    "# Getting particular statistics using numpy functions\n",
    "\n",
    "np.mean(df.petal_width)"
   ]
  },
  {
   "cell_type": "code",
   "execution_count": 19,
   "metadata": {},
   "outputs": [
    {
     "data": {
      "text/plain": [
       "array([23.45, 38.  ])"
      ]
     },
     "execution_count": 19,
     "metadata": {},
     "output_type": "execute_result"
    }
   ],
   "source": [
    "# With percentiles, you can ask for many at one time.  Here I ask for the 5th and 95th percentiles.\n",
    "\n",
    "np.percentile(df.sepal_width,[5,95])"
   ]
  },
  {
   "cell_type": "code",
   "execution_count": 20,
   "metadata": {},
   "outputs": [
    {
     "data": {
      "text/plain": [
       "8.2409842993554"
      ]
     },
     "execution_count": 20,
     "metadata": {},
     "output_type": "execute_result"
    }
   ],
   "source": [
    "# If data are missing (nan values) we need to explicitly ask for these to be excluded.\n",
    "\n",
    "np.nanstd(df.sepal_length)"
   ]
  },
  {
   "cell_type": "code",
   "execution_count": 21,
   "metadata": {},
   "outputs": [
    {
     "data": {
      "text/plain": [
       "array(['setosa', 'versicolor', 'virginica'], dtype=object)"
      ]
     },
     "execution_count": 21,
     "metadata": {},
     "output_type": "execute_result"
    }
   ],
   "source": [
    "# Getting unique values\n",
    "\n",
    "np.unique(df.species)"
   ]
  },
  {
   "cell_type": "markdown",
   "metadata": {},
   "source": [
    "# Sorting data"
   ]
  },
  {
   "cell_type": "code",
   "execution_count": 22,
   "metadata": {},
   "outputs": [
    {
     "data": {
      "text/html": [
       "<div>\n",
       "<style scoped>\n",
       "    .dataframe tbody tr th:only-of-type {\n",
       "        vertical-align: middle;\n",
       "    }\n",
       "\n",
       "    .dataframe tbody tr th {\n",
       "        vertical-align: top;\n",
       "    }\n",
       "\n",
       "    .dataframe thead th {\n",
       "        text-align: right;\n",
       "    }\n",
       "</style>\n",
       "<table border=\"1\" class=\"dataframe\">\n",
       "  <thead>\n",
       "    <tr style=\"text-align: right;\">\n",
       "      <th></th>\n",
       "      <th>species</th>\n",
       "      <th>petal_width</th>\n",
       "      <th>petal_length</th>\n",
       "      <th>sepal_width</th>\n",
       "      <th>sepal_length</th>\n",
       "    </tr>\n",
       "  </thead>\n",
       "  <tbody>\n",
       "    <tr>\n",
       "      <td>20</td>\n",
       "      <td>setosa</td>\n",
       "      <td>1</td>\n",
       "      <td>11</td>\n",
       "      <td>30</td>\n",
       "      <td>43</td>\n",
       "    </tr>\n",
       "    <tr>\n",
       "      <td>23</td>\n",
       "      <td>setosa</td>\n",
       "      <td>1</td>\n",
       "      <td>15</td>\n",
       "      <td>41</td>\n",
       "      <td>52</td>\n",
       "    </tr>\n",
       "    <tr>\n",
       "      <td>3</td>\n",
       "      <td>setosa</td>\n",
       "      <td>1</td>\n",
       "      <td>14</td>\n",
       "      <td>36</td>\n",
       "      <td>49</td>\n",
       "    </tr>\n",
       "    <tr>\n",
       "      <td>13</td>\n",
       "      <td>setosa</td>\n",
       "      <td>1</td>\n",
       "      <td>14</td>\n",
       "      <td>30</td>\n",
       "      <td>48</td>\n",
       "    </tr>\n",
       "    <tr>\n",
       "      <td>28</td>\n",
       "      <td>setosa</td>\n",
       "      <td>1</td>\n",
       "      <td>15</td>\n",
       "      <td>31</td>\n",
       "      <td>49</td>\n",
       "    </tr>\n",
       "  </tbody>\n",
       "</table>\n",
       "</div>"
      ],
      "text/plain": [
       "   species  petal_width  petal_length  sepal_width  sepal_length\n",
       "20  setosa            1            11           30            43\n",
       "23  setosa            1            15           41            52\n",
       "3   setosa            1            14           36            49\n",
       "13  setosa            1            14           30            48\n",
       "28  setosa            1            15           31            49"
      ]
     },
     "execution_count": 22,
     "metadata": {},
     "output_type": "execute_result"
    }
   ],
   "source": [
    "# Use .sort_values on your dataframe to sort by a column.\n",
    "\n",
    "df = df.sort_values(by='petal_width')\n",
    "df.head()"
   ]
  },
  {
   "cell_type": "code",
   "execution_count": 23,
   "metadata": {},
   "outputs": [
    {
     "data": {
      "text/html": [
       "<div>\n",
       "<style scoped>\n",
       "    .dataframe tbody tr th:only-of-type {\n",
       "        vertical-align: middle;\n",
       "    }\n",
       "\n",
       "    .dataframe tbody tr th {\n",
       "        vertical-align: top;\n",
       "    }\n",
       "\n",
       "    .dataframe thead th {\n",
       "        text-align: right;\n",
       "    }\n",
       "</style>\n",
       "<table border=\"1\" class=\"dataframe\">\n",
       "  <thead>\n",
       "    <tr style=\"text-align: right;\">\n",
       "      <th></th>\n",
       "      <th>species</th>\n",
       "      <th>petal_width</th>\n",
       "      <th>petal_length</th>\n",
       "      <th>sepal_width</th>\n",
       "      <th>sepal_length</th>\n",
       "    </tr>\n",
       "  </thead>\n",
       "  <tbody>\n",
       "    <tr>\n",
       "      <td>20</td>\n",
       "      <td>setosa</td>\n",
       "      <td>1</td>\n",
       "      <td>11</td>\n",
       "      <td>30</td>\n",
       "      <td>43</td>\n",
       "    </tr>\n",
       "    <tr>\n",
       "      <td>3</td>\n",
       "      <td>setosa</td>\n",
       "      <td>1</td>\n",
       "      <td>14</td>\n",
       "      <td>36</td>\n",
       "      <td>49</td>\n",
       "    </tr>\n",
       "    <tr>\n",
       "      <td>13</td>\n",
       "      <td>setosa</td>\n",
       "      <td>1</td>\n",
       "      <td>14</td>\n",
       "      <td>30</td>\n",
       "      <td>48</td>\n",
       "    </tr>\n",
       "    <tr>\n",
       "      <td>23</td>\n",
       "      <td>setosa</td>\n",
       "      <td>1</td>\n",
       "      <td>15</td>\n",
       "      <td>41</td>\n",
       "      <td>52</td>\n",
       "    </tr>\n",
       "    <tr>\n",
       "      <td>28</td>\n",
       "      <td>setosa</td>\n",
       "      <td>1</td>\n",
       "      <td>15</td>\n",
       "      <td>31</td>\n",
       "      <td>49</td>\n",
       "    </tr>\n",
       "  </tbody>\n",
       "</table>\n",
       "</div>"
      ],
      "text/plain": [
       "   species  petal_width  petal_length  sepal_width  sepal_length\n",
       "20  setosa            1            11           30            43\n",
       "3   setosa            1            14           36            49\n",
       "13  setosa            1            14           30            48\n",
       "23  setosa            1            15           41            52\n",
       "28  setosa            1            15           31            49"
      ]
     },
     "execution_count": 23,
     "metadata": {},
     "output_type": "execute_result"
    }
   ],
   "source": [
    "# You can sort by more than one column by providing a list of columns, in case there are ties. Use as many columns\n",
    "# as you want.\n",
    "\n",
    "df = df.sort_values(by=['petal_width','petal_length'])\n",
    "df.head()"
   ]
  },
  {
   "cell_type": "markdown",
   "metadata": {},
   "source": [
    "# Selecting data"
   ]
  },
  {
   "cell_type": "code",
   "execution_count": 24,
   "metadata": {},
   "outputs": [
    {
     "data": {
      "text/html": [
       "<div>\n",
       "<style scoped>\n",
       "    .dataframe tbody tr th:only-of-type {\n",
       "        vertical-align: middle;\n",
       "    }\n",
       "\n",
       "    .dataframe tbody tr th {\n",
       "        vertical-align: top;\n",
       "    }\n",
       "\n",
       "    .dataframe thead th {\n",
       "        text-align: right;\n",
       "    }\n",
       "</style>\n",
       "<table border=\"1\" class=\"dataframe\">\n",
       "  <thead>\n",
       "    <tr style=\"text-align: right;\">\n",
       "      <th></th>\n",
       "      <th>species</th>\n",
       "      <th>petal_width</th>\n",
       "      <th>petal_length</th>\n",
       "      <th>sepal_width</th>\n",
       "      <th>sepal_length</th>\n",
       "    </tr>\n",
       "  </thead>\n",
       "  <tbody>\n",
       "    <tr>\n",
       "      <td>20</td>\n",
       "      <td>setosa</td>\n",
       "      <td>1</td>\n",
       "      <td>11</td>\n",
       "      <td>30</td>\n",
       "      <td>43</td>\n",
       "    </tr>\n",
       "    <tr>\n",
       "      <td>3</td>\n",
       "      <td>setosa</td>\n",
       "      <td>1</td>\n",
       "      <td>14</td>\n",
       "      <td>36</td>\n",
       "      <td>49</td>\n",
       "    </tr>\n",
       "    <tr>\n",
       "      <td>13</td>\n",
       "      <td>setosa</td>\n",
       "      <td>1</td>\n",
       "      <td>14</td>\n",
       "      <td>30</td>\n",
       "      <td>48</td>\n",
       "    </tr>\n",
       "    <tr>\n",
       "      <td>23</td>\n",
       "      <td>setosa</td>\n",
       "      <td>1</td>\n",
       "      <td>15</td>\n",
       "      <td>41</td>\n",
       "      <td>52</td>\n",
       "    </tr>\n",
       "    <tr>\n",
       "      <td>28</td>\n",
       "      <td>setosa</td>\n",
       "      <td>1</td>\n",
       "      <td>15</td>\n",
       "      <td>31</td>\n",
       "      <td>49</td>\n",
       "    </tr>\n",
       "    <tr>\n",
       "      <td>1</td>\n",
       "      <td>setosa</td>\n",
       "      <td>2</td>\n",
       "      <td>10</td>\n",
       "      <td>36</td>\n",
       "      <td>46</td>\n",
       "    </tr>\n",
       "    <tr>\n",
       "      <td>40</td>\n",
       "      <td>setosa</td>\n",
       "      <td>2</td>\n",
       "      <td>12</td>\n",
       "      <td>40</td>\n",
       "      <td>58</td>\n",
       "    </tr>\n",
       "    <tr>\n",
       "      <td>19</td>\n",
       "      <td>setosa</td>\n",
       "      <td>2</td>\n",
       "      <td>12</td>\n",
       "      <td>32</td>\n",
       "      <td>50</td>\n",
       "    </tr>\n",
       "    <tr>\n",
       "      <td>26</td>\n",
       "      <td>setosa</td>\n",
       "      <td>2</td>\n",
       "      <td>13</td>\n",
       "      <td>32</td>\n",
       "      <td>47</td>\n",
       "    </tr>\n",
       "    <tr>\n",
       "      <td>4</td>\n",
       "      <td>setosa</td>\n",
       "      <td>2</td>\n",
       "      <td>13</td>\n",
       "      <td>32</td>\n",
       "      <td>44</td>\n",
       "    </tr>\n",
       "    <tr>\n",
       "      <td>17</td>\n",
       "      <td>setosa</td>\n",
       "      <td>2</td>\n",
       "      <td>13</td>\n",
       "      <td>30</td>\n",
       "      <td>44</td>\n",
       "    </tr>\n",
       "    <tr>\n",
       "      <td>16</td>\n",
       "      <td>setosa</td>\n",
       "      <td>2</td>\n",
       "      <td>13</td>\n",
       "      <td>35</td>\n",
       "      <td>55</td>\n",
       "    </tr>\n",
       "    <tr>\n",
       "      <td>0</td>\n",
       "      <td>setosa</td>\n",
       "      <td>2</td>\n",
       "      <td>14</td>\n",
       "      <td>33</td>\n",
       "      <td>50</td>\n",
       "    </tr>\n",
       "    <tr>\n",
       "      <td>36</td>\n",
       "      <td>setosa</td>\n",
       "      <td>2</td>\n",
       "      <td>14</td>\n",
       "      <td>34</td>\n",
       "      <td>52</td>\n",
       "    </tr>\n",
       "    <tr>\n",
       "      <td>41</td>\n",
       "      <td>setosa</td>\n",
       "      <td>2</td>\n",
       "      <td>14</td>\n",
       "      <td>32</td>\n",
       "      <td>46</td>\n",
       "    </tr>\n",
       "    <tr>\n",
       "      <td>21</td>\n",
       "      <td>setosa</td>\n",
       "      <td>2</td>\n",
       "      <td>14</td>\n",
       "      <td>35</td>\n",
       "      <td>51</td>\n",
       "    </tr>\n",
       "    <tr>\n",
       "      <td>8</td>\n",
       "      <td>setosa</td>\n",
       "      <td>2</td>\n",
       "      <td>14</td>\n",
       "      <td>30</td>\n",
       "      <td>49</td>\n",
       "    </tr>\n",
       "    <tr>\n",
       "      <td>9</td>\n",
       "      <td>setosa</td>\n",
       "      <td>2</td>\n",
       "      <td>14</td>\n",
       "      <td>36</td>\n",
       "      <td>50</td>\n",
       "    </tr>\n",
       "    <tr>\n",
       "      <td>11</td>\n",
       "      <td>setosa</td>\n",
       "      <td>2</td>\n",
       "      <td>14</td>\n",
       "      <td>42</td>\n",
       "      <td>55</td>\n",
       "    </tr>\n",
       "    <tr>\n",
       "      <td>12</td>\n",
       "      <td>setosa</td>\n",
       "      <td>2</td>\n",
       "      <td>14</td>\n",
       "      <td>29</td>\n",
       "      <td>44</td>\n",
       "    </tr>\n",
       "    <tr>\n",
       "      <td>27</td>\n",
       "      <td>setosa</td>\n",
       "      <td>2</td>\n",
       "      <td>15</td>\n",
       "      <td>34</td>\n",
       "      <td>51</td>\n",
       "    </tr>\n",
       "    <tr>\n",
       "      <td>29</td>\n",
       "      <td>setosa</td>\n",
       "      <td>2</td>\n",
       "      <td>15</td>\n",
       "      <td>37</td>\n",
       "      <td>54</td>\n",
       "    </tr>\n",
       "    <tr>\n",
       "      <td>49</td>\n",
       "      <td>setosa</td>\n",
       "      <td>2</td>\n",
       "      <td>15</td>\n",
       "      <td>37</td>\n",
       "      <td>53</td>\n",
       "    </tr>\n",
       "    <tr>\n",
       "      <td>43</td>\n",
       "      <td>setosa</td>\n",
       "      <td>2</td>\n",
       "      <td>15</td>\n",
       "      <td>34</td>\n",
       "      <td>52</td>\n",
       "    </tr>\n",
       "    <tr>\n",
       "      <td>44</td>\n",
       "      <td>setosa</td>\n",
       "      <td>2</td>\n",
       "      <td>15</td>\n",
       "      <td>31</td>\n",
       "      <td>46</td>\n",
       "    </tr>\n",
       "    <tr>\n",
       "      <td>33</td>\n",
       "      <td>setosa</td>\n",
       "      <td>2</td>\n",
       "      <td>15</td>\n",
       "      <td>35</td>\n",
       "      <td>52</td>\n",
       "    </tr>\n",
       "    <tr>\n",
       "      <td>24</td>\n",
       "      <td>setosa</td>\n",
       "      <td>2</td>\n",
       "      <td>15</td>\n",
       "      <td>31</td>\n",
       "      <td>49</td>\n",
       "    </tr>\n",
       "    <tr>\n",
       "      <td>47</td>\n",
       "      <td>setosa</td>\n",
       "      <td>2</td>\n",
       "      <td>16</td>\n",
       "      <td>34</td>\n",
       "      <td>48</td>\n",
       "    </tr>\n",
       "    <tr>\n",
       "      <td>18</td>\n",
       "      <td>setosa</td>\n",
       "      <td>2</td>\n",
       "      <td>16</td>\n",
       "      <td>32</td>\n",
       "      <td>47</td>\n",
       "    </tr>\n",
       "    <tr>\n",
       "      <td>2</td>\n",
       "      <td>setosa</td>\n",
       "      <td>2</td>\n",
       "      <td>16</td>\n",
       "      <td>31</td>\n",
       "      <td>48</td>\n",
       "    </tr>\n",
       "    <tr>\n",
       "      <td>5</td>\n",
       "      <td>setosa</td>\n",
       "      <td>2</td>\n",
       "      <td>16</td>\n",
       "      <td>38</td>\n",
       "      <td>51</td>\n",
       "    </tr>\n",
       "    <tr>\n",
       "      <td>6</td>\n",
       "      <td>setosa</td>\n",
       "      <td>2</td>\n",
       "      <td>16</td>\n",
       "      <td>30</td>\n",
       "      <td>50</td>\n",
       "    </tr>\n",
       "    <tr>\n",
       "      <td>48</td>\n",
       "      <td>setosa</td>\n",
       "      <td>2</td>\n",
       "      <td>17</td>\n",
       "      <td>34</td>\n",
       "      <td>54</td>\n",
       "    </tr>\n",
       "    <tr>\n",
       "      <td>39</td>\n",
       "      <td>setosa</td>\n",
       "      <td>2</td>\n",
       "      <td>19</td>\n",
       "      <td>34</td>\n",
       "      <td>48</td>\n",
       "    </tr>\n",
       "    <tr>\n",
       "      <td>31</td>\n",
       "      <td>setosa</td>\n",
       "      <td>3</td>\n",
       "      <td>13</td>\n",
       "      <td>23</td>\n",
       "      <td>45</td>\n",
       "    </tr>\n",
       "    <tr>\n",
       "      <td>45</td>\n",
       "      <td>setosa</td>\n",
       "      <td>3</td>\n",
       "      <td>13</td>\n",
       "      <td>35</td>\n",
       "      <td>50</td>\n",
       "    </tr>\n",
       "    <tr>\n",
       "      <td>34</td>\n",
       "      <td>setosa</td>\n",
       "      <td>3</td>\n",
       "      <td>14</td>\n",
       "      <td>34</td>\n",
       "      <td>46</td>\n",
       "    </tr>\n",
       "    <tr>\n",
       "      <td>46</td>\n",
       "      <td>setosa</td>\n",
       "      <td>3</td>\n",
       "      <td>14</td>\n",
       "      <td>35</td>\n",
       "      <td>51</td>\n",
       "    </tr>\n",
       "    <tr>\n",
       "      <td>38</td>\n",
       "      <td>setosa</td>\n",
       "      <td>3</td>\n",
       "      <td>14</td>\n",
       "      <td>30</td>\n",
       "      <td>48</td>\n",
       "    </tr>\n",
       "    <tr>\n",
       "      <td>32</td>\n",
       "      <td>setosa</td>\n",
       "      <td>3</td>\n",
       "      <td>15</td>\n",
       "      <td>38</td>\n",
       "      <td>51</td>\n",
       "    </tr>\n",
       "    <tr>\n",
       "      <td>14</td>\n",
       "      <td>setosa</td>\n",
       "      <td>3</td>\n",
       "      <td>17</td>\n",
       "      <td>38</td>\n",
       "      <td>57</td>\n",
       "    </tr>\n",
       "    <tr>\n",
       "      <td>30</td>\n",
       "      <td>setosa</td>\n",
       "      <td>4</td>\n",
       "      <td>13</td>\n",
       "      <td>39</td>\n",
       "      <td>54</td>\n",
       "    </tr>\n",
       "    <tr>\n",
       "      <td>15</td>\n",
       "      <td>setosa</td>\n",
       "      <td>4</td>\n",
       "      <td>15</td>\n",
       "      <td>37</td>\n",
       "      <td>51</td>\n",
       "    </tr>\n",
       "    <tr>\n",
       "      <td>10</td>\n",
       "      <td>setosa</td>\n",
       "      <td>4</td>\n",
       "      <td>15</td>\n",
       "      <td>34</td>\n",
       "      <td>54</td>\n",
       "    </tr>\n",
       "    <tr>\n",
       "      <td>42</td>\n",
       "      <td>setosa</td>\n",
       "      <td>4</td>\n",
       "      <td>15</td>\n",
       "      <td>44</td>\n",
       "      <td>57</td>\n",
       "    </tr>\n",
       "    <tr>\n",
       "      <td>22</td>\n",
       "      <td>setosa</td>\n",
       "      <td>4</td>\n",
       "      <td>16</td>\n",
       "      <td>34</td>\n",
       "      <td>50</td>\n",
       "    </tr>\n",
       "    <tr>\n",
       "      <td>25</td>\n",
       "      <td>setosa</td>\n",
       "      <td>4</td>\n",
       "      <td>17</td>\n",
       "      <td>39</td>\n",
       "      <td>54</td>\n",
       "    </tr>\n",
       "    <tr>\n",
       "      <td>7</td>\n",
       "      <td>setosa</td>\n",
       "      <td>4</td>\n",
       "      <td>19</td>\n",
       "      <td>38</td>\n",
       "      <td>51</td>\n",
       "    </tr>\n",
       "    <tr>\n",
       "      <td>35</td>\n",
       "      <td>setosa</td>\n",
       "      <td>5</td>\n",
       "      <td>17</td>\n",
       "      <td>33</td>\n",
       "      <td>51</td>\n",
       "    </tr>\n",
       "    <tr>\n",
       "      <td>37</td>\n",
       "      <td>setosa</td>\n",
       "      <td>6</td>\n",
       "      <td>16</td>\n",
       "      <td>35</td>\n",
       "      <td>50</td>\n",
       "    </tr>\n",
       "  </tbody>\n",
       "</table>\n",
       "</div>"
      ],
      "text/plain": [
       "   species  petal_width  petal_length  sepal_width  sepal_length\n",
       "20  setosa            1            11           30            43\n",
       "3   setosa            1            14           36            49\n",
       "13  setosa            1            14           30            48\n",
       "23  setosa            1            15           41            52\n",
       "28  setosa            1            15           31            49\n",
       "1   setosa            2            10           36            46\n",
       "40  setosa            2            12           40            58\n",
       "19  setosa            2            12           32            50\n",
       "26  setosa            2            13           32            47\n",
       "4   setosa            2            13           32            44\n",
       "17  setosa            2            13           30            44\n",
       "16  setosa            2            13           35            55\n",
       "0   setosa            2            14           33            50\n",
       "36  setosa            2            14           34            52\n",
       "41  setosa            2            14           32            46\n",
       "21  setosa            2            14           35            51\n",
       "8   setosa            2            14           30            49\n",
       "9   setosa            2            14           36            50\n",
       "11  setosa            2            14           42            55\n",
       "12  setosa            2            14           29            44\n",
       "27  setosa            2            15           34            51\n",
       "29  setosa            2            15           37            54\n",
       "49  setosa            2            15           37            53\n",
       "43  setosa            2            15           34            52\n",
       "44  setosa            2            15           31            46\n",
       "33  setosa            2            15           35            52\n",
       "24  setosa            2            15           31            49\n",
       "47  setosa            2            16           34            48\n",
       "18  setosa            2            16           32            47\n",
       "2   setosa            2            16           31            48\n",
       "5   setosa            2            16           38            51\n",
       "6   setosa            2            16           30            50\n",
       "48  setosa            2            17           34            54\n",
       "39  setosa            2            19           34            48\n",
       "31  setosa            3            13           23            45\n",
       "45  setosa            3            13           35            50\n",
       "34  setosa            3            14           34            46\n",
       "46  setosa            3            14           35            51\n",
       "38  setosa            3            14           30            48\n",
       "32  setosa            3            15           38            51\n",
       "14  setosa            3            17           38            57\n",
       "30  setosa            4            13           39            54\n",
       "15  setosa            4            15           37            51\n",
       "10  setosa            4            15           34            54\n",
       "42  setosa            4            15           44            57\n",
       "22  setosa            4            16           34            50\n",
       "25  setosa            4            17           39            54\n",
       "7   setosa            4            19           38            51\n",
       "35  setosa            5            17           33            51\n",
       "37  setosa            6            16           35            50"
      ]
     },
     "execution_count": 24,
     "metadata": {},
     "output_type": "execute_result"
    }
   ],
   "source": [
    "# Selection looks like this:\n",
    "\n",
    "df[df.species=='setosa']"
   ]
  },
  {
   "cell_type": "code",
   "execution_count": 25,
   "metadata": {},
   "outputs": [
    {
     "data": {
      "text/plain": [
       "petal_width      2.46\n",
       "petal_length    14.62\n",
       "sepal_width     34.28\n",
       "sepal_length    50.10\n",
       "dtype: float64"
      ]
     },
     "execution_count": 25,
     "metadata": {},
     "output_type": "execute_result"
    }
   ],
   "source": [
    "# And we might use it like this:\n",
    "\n",
    "np.mean(df[df.species=='setosa'])"
   ]
  },
  {
   "cell_type": "code",
   "execution_count": 26,
   "metadata": {},
   "outputs": [
    {
     "data": {
      "text/plain": [
       "11.926666666666666"
      ]
     },
     "execution_count": 26,
     "metadata": {},
     "output_type": "execute_result"
    }
   ],
   "source": [
    "# We can select columns like this\n",
    "\n",
    "np.mean(df['petal_width'])"
   ]
  },
  {
   "cell_type": "code",
   "execution_count": 27,
   "metadata": {},
   "outputs": [
    {
     "data": {
      "text/plain": [
       "species         setosa\n",
       "petal_width          2\n",
       "petal_length        10\n",
       "sepal_width         36\n",
       "sepal_length        46\n",
       "Name: 1, dtype: object"
      ]
     },
     "execution_count": 27,
     "metadata": {},
     "output_type": "execute_result"
    }
   ],
   "source": [
    "# Or by row number\n",
    "\n",
    "df.iloc[5]"
   ]
  },
  {
   "cell_type": "code",
   "execution_count": 28,
   "metadata": {},
   "outputs": [
    {
     "data": {
      "text/html": [
       "<div>\n",
       "<style scoped>\n",
       "    .dataframe tbody tr th:only-of-type {\n",
       "        vertical-align: middle;\n",
       "    }\n",
       "\n",
       "    .dataframe tbody tr th {\n",
       "        vertical-align: top;\n",
       "    }\n",
       "\n",
       "    .dataframe thead th {\n",
       "        text-align: right;\n",
       "    }\n",
       "</style>\n",
       "<table border=\"1\" class=\"dataframe\">\n",
       "  <thead>\n",
       "    <tr style=\"text-align: right;\">\n",
       "      <th></th>\n",
       "      <th>species</th>\n",
       "      <th>petal_width</th>\n",
       "      <th>petal_length</th>\n",
       "      <th>sepal_width</th>\n",
       "      <th>sepal_length</th>\n",
       "    </tr>\n",
       "  </thead>\n",
       "  <tbody>\n",
       "    <tr>\n",
       "      <td>13</td>\n",
       "      <td>setosa</td>\n",
       "      <td>1</td>\n",
       "      <td>14</td>\n",
       "      <td>30</td>\n",
       "      <td>48</td>\n",
       "    </tr>\n",
       "    <tr>\n",
       "      <td>23</td>\n",
       "      <td>setosa</td>\n",
       "      <td>1</td>\n",
       "      <td>15</td>\n",
       "      <td>41</td>\n",
       "      <td>52</td>\n",
       "    </tr>\n",
       "  </tbody>\n",
       "</table>\n",
       "</div>"
      ],
      "text/plain": [
       "   species  petal_width  petal_length  sepal_width  sepal_length\n",
       "13  setosa            1            14           30            48\n",
       "23  setosa            1            15           41            52"
      ]
     },
     "execution_count": 28,
     "metadata": {},
     "output_type": "execute_result"
    }
   ],
   "source": [
    "# Or a range of numbers, using standard numpy selections where colons specify ranges of values\n",
    "# Remember, Python starts counting from ZERO, and ranges go up to BUT NOT INCLUDING the last value\n",
    "\n",
    "df[2:4]"
   ]
  },
  {
   "cell_type": "code",
   "execution_count": 29,
   "metadata": {},
   "outputs": [
    {
     "data": {
      "text/html": [
       "<div>\n",
       "<style scoped>\n",
       "    .dataframe tbody tr th:only-of-type {\n",
       "        vertical-align: middle;\n",
       "    }\n",
       "\n",
       "    .dataframe tbody tr th {\n",
       "        vertical-align: top;\n",
       "    }\n",
       "\n",
       "    .dataframe thead th {\n",
       "        text-align: right;\n",
       "    }\n",
       "</style>\n",
       "<table border=\"1\" class=\"dataframe\">\n",
       "  <thead>\n",
       "    <tr style=\"text-align: right;\">\n",
       "      <th></th>\n",
       "      <th>species</th>\n",
       "      <th>petal_width</th>\n",
       "      <th>petal_length</th>\n",
       "      <th>sepal_width</th>\n",
       "      <th>sepal_length</th>\n",
       "    </tr>\n",
       "  </thead>\n",
       "  <tbody>\n",
       "    <tr>\n",
       "      <td>20</td>\n",
       "      <td>setosa</td>\n",
       "      <td>1</td>\n",
       "      <td>11</td>\n",
       "      <td>30</td>\n",
       "      <td>43</td>\n",
       "    </tr>\n",
       "    <tr>\n",
       "      <td>3</td>\n",
       "      <td>setosa</td>\n",
       "      <td>1</td>\n",
       "      <td>14</td>\n",
       "      <td>36</td>\n",
       "      <td>49</td>\n",
       "    </tr>\n",
       "    <tr>\n",
       "      <td>13</td>\n",
       "      <td>setosa</td>\n",
       "      <td>1</td>\n",
       "      <td>14</td>\n",
       "      <td>30</td>\n",
       "      <td>48</td>\n",
       "    </tr>\n",
       "    <tr>\n",
       "      <td>23</td>\n",
       "      <td>setosa</td>\n",
       "      <td>1</td>\n",
       "      <td>15</td>\n",
       "      <td>41</td>\n",
       "      <td>52</td>\n",
       "    </tr>\n",
       "    <tr>\n",
       "      <td>28</td>\n",
       "      <td>setosa</td>\n",
       "      <td>1</td>\n",
       "      <td>15</td>\n",
       "      <td>31</td>\n",
       "      <td>49</td>\n",
       "    </tr>\n",
       "    <tr>\n",
       "      <td>1</td>\n",
       "      <td>setosa</td>\n",
       "      <td>2</td>\n",
       "      <td>10</td>\n",
       "      <td>36</td>\n",
       "      <td>46</td>\n",
       "    </tr>\n",
       "    <tr>\n",
       "      <td>40</td>\n",
       "      <td>setosa</td>\n",
       "      <td>2</td>\n",
       "      <td>12</td>\n",
       "      <td>40</td>\n",
       "      <td>58</td>\n",
       "    </tr>\n",
       "  </tbody>\n",
       "</table>\n",
       "</div>"
      ],
      "text/plain": [
       "   species  petal_width  petal_length  sepal_width  sepal_length\n",
       "20  setosa            1            11           30            43\n",
       "3   setosa            1            14           36            49\n",
       "13  setosa            1            14           30            48\n",
       "23  setosa            1            15           41            52\n",
       "28  setosa            1            15           31            49\n",
       "1   setosa            2            10           36            46\n",
       "40  setosa            2            12           40            58"
      ]
     },
     "execution_count": 29,
     "metadata": {},
     "output_type": "execute_result"
    }
   ],
   "source": [
    "# If you omit a number before or after the colon, you go form the beginning or end respectively:\n",
    "\n",
    "df[:7]"
   ]
  },
  {
   "cell_type": "code",
   "execution_count": 30,
   "metadata": {},
   "outputs": [
    {
     "data": {
      "text/html": [
       "<div>\n",
       "<style scoped>\n",
       "    .dataframe tbody tr th:only-of-type {\n",
       "        vertical-align: middle;\n",
       "    }\n",
       "\n",
       "    .dataframe tbody tr th {\n",
       "        vertical-align: top;\n",
       "    }\n",
       "\n",
       "    .dataframe thead th {\n",
       "        text-align: right;\n",
       "    }\n",
       "</style>\n",
       "<table border=\"1\" class=\"dataframe\">\n",
       "  <thead>\n",
       "    <tr style=\"text-align: right;\">\n",
       "      <th></th>\n",
       "      <th>species</th>\n",
       "      <th>petal_width</th>\n",
       "      <th>petal_length</th>\n",
       "      <th>sepal_width</th>\n",
       "      <th>sepal_length</th>\n",
       "    </tr>\n",
       "  </thead>\n",
       "  <tbody>\n",
       "    <tr>\n",
       "      <td>100</td>\n",
       "      <td>virginica</td>\n",
       "      <td>24</td>\n",
       "      <td>56</td>\n",
       "      <td>31</td>\n",
       "      <td>67</td>\n",
       "    </tr>\n",
       "    <tr>\n",
       "      <td>139</td>\n",
       "      <td>virginica</td>\n",
       "      <td>24</td>\n",
       "      <td>56</td>\n",
       "      <td>34</td>\n",
       "      <td>63</td>\n",
       "    </tr>\n",
       "    <tr>\n",
       "      <td>121</td>\n",
       "      <td>virginica</td>\n",
       "      <td>25</td>\n",
       "      <td>57</td>\n",
       "      <td>33</td>\n",
       "      <td>67</td>\n",
       "    </tr>\n",
       "    <tr>\n",
       "      <td>130</td>\n",
       "      <td>virginica</td>\n",
       "      <td>25</td>\n",
       "      <td>60</td>\n",
       "      <td>33</td>\n",
       "      <td>63</td>\n",
       "    </tr>\n",
       "    <tr>\n",
       "      <td>115</td>\n",
       "      <td>virginica</td>\n",
       "      <td>25</td>\n",
       "      <td>61</td>\n",
       "      <td>36</td>\n",
       "      <td>72</td>\n",
       "    </tr>\n",
       "  </tbody>\n",
       "</table>\n",
       "</div>"
      ],
      "text/plain": [
       "       species  petal_width  petal_length  sepal_width  sepal_length\n",
       "100  virginica           24            56           31            67\n",
       "139  virginica           24            56           34            63\n",
       "121  virginica           25            57           33            67\n",
       "130  virginica           25            60           33            63\n",
       "115  virginica           25            61           36            72"
      ]
     },
     "execution_count": 30,
     "metadata": {},
     "output_type": "execute_result"
    }
   ],
   "source": [
    "# And like numpy, you can use negative numbers to count from the back/bottom.  But if you do, remember to use the ILOC selector\n",
    "\n",
    "df.iloc[-5:]"
   ]
  },
  {
   "cell_type": "markdown",
   "metadata": {},
   "source": [
    "### .loc and .iloc"
   ]
  },
  {
   "cell_type": "code",
   "execution_count": 31,
   "metadata": {},
   "outputs": [
    {
     "data": {
      "text/html": [
       "<div>\n",
       "<style scoped>\n",
       "    .dataframe tbody tr th:only-of-type {\n",
       "        vertical-align: middle;\n",
       "    }\n",
       "\n",
       "    .dataframe tbody tr th {\n",
       "        vertical-align: top;\n",
       "    }\n",
       "\n",
       "    .dataframe thead th {\n",
       "        text-align: right;\n",
       "    }\n",
       "</style>\n",
       "<table border=\"1\" class=\"dataframe\">\n",
       "  <thead>\n",
       "    <tr style=\"text-align: right;\">\n",
       "      <th></th>\n",
       "      <th>species</th>\n",
       "      <th>petal_width</th>\n",
       "      <th>petal_length</th>\n",
       "      <th>sepal_width</th>\n",
       "      <th>sepal_length</th>\n",
       "    </tr>\n",
       "  </thead>\n",
       "  <tbody>\n",
       "    <tr>\n",
       "      <td>77</td>\n",
       "      <td>versicolor</td>\n",
       "      <td>10</td>\n",
       "      <td>35</td>\n",
       "      <td>20</td>\n",
       "      <td>50</td>\n",
       "    </tr>\n",
       "    <tr>\n",
       "      <td>67</td>\n",
       "      <td>versicolor</td>\n",
       "      <td>15</td>\n",
       "      <td>45</td>\n",
       "      <td>22</td>\n",
       "      <td>62</td>\n",
       "    </tr>\n",
       "    <tr>\n",
       "      <td>110</td>\n",
       "      <td>virginica</td>\n",
       "      <td>15</td>\n",
       "      <td>50</td>\n",
       "      <td>22</td>\n",
       "      <td>60</td>\n",
       "    </tr>\n",
       "    <tr>\n",
       "      <td>79</td>\n",
       "      <td>versicolor</td>\n",
       "      <td>10</td>\n",
       "      <td>50</td>\n",
       "      <td>22</td>\n",
       "      <td>60</td>\n",
       "    </tr>\n",
       "    <tr>\n",
       "      <td>31</td>\n",
       "      <td>setosa</td>\n",
       "      <td>3</td>\n",
       "      <td>13</td>\n",
       "      <td>23</td>\n",
       "      <td>45</td>\n",
       "    </tr>\n",
       "  </tbody>\n",
       "</table>\n",
       "</div>"
      ],
      "text/plain": [
       "        species  petal_width  petal_length  sepal_width  sepal_length\n",
       "77   versicolor           10            35           20            50\n",
       "67   versicolor           15            45           22            62\n",
       "110   virginica           15            50           22            60\n",
       "79   versicolor           10            50           22            60\n",
       "31       setosa            3            13           23            45"
      ]
     },
     "execution_count": 31,
     "metadata": {},
     "output_type": "execute_result"
    }
   ],
   "source": [
    "# .loc is used to reference from INDEX values (in the above code, the 145, 146, etc., on the left side of the dataframe)\n",
    "\n",
    "# The differences aren't obvious unless the row order is different than the index order, so we'll sort first\n",
    "df = df.sort_values(by='sepal_width')\n",
    "\n",
    "# Since .iloc is by rows, starting from the beginning looks a lot like .head\n",
    "df.iloc[:5]"
   ]
  },
  {
   "cell_type": "markdown",
   "metadata": {},
   "source": [
    "### Selecting columns by integer value with .iloc"
   ]
  },
  {
   "cell_type": "code",
   "execution_count": 32,
   "metadata": {},
   "outputs": [
    {
     "data": {
      "text/html": [
       "<div>\n",
       "<style scoped>\n",
       "    .dataframe tbody tr th:only-of-type {\n",
       "        vertical-align: middle;\n",
       "    }\n",
       "\n",
       "    .dataframe tbody tr th {\n",
       "        vertical-align: top;\n",
       "    }\n",
       "\n",
       "    .dataframe thead th {\n",
       "        text-align: right;\n",
       "    }\n",
       "</style>\n",
       "<table border=\"1\" class=\"dataframe\">\n",
       "  <thead>\n",
       "    <tr style=\"text-align: right;\">\n",
       "      <th></th>\n",
       "      <th>species</th>\n",
       "      <th>petal_width</th>\n",
       "    </tr>\n",
       "  </thead>\n",
       "  <tbody>\n",
       "    <tr>\n",
       "      <td>77</td>\n",
       "      <td>versicolor</td>\n",
       "      <td>10</td>\n",
       "    </tr>\n",
       "    <tr>\n",
       "      <td>67</td>\n",
       "      <td>versicolor</td>\n",
       "      <td>15</td>\n",
       "    </tr>\n",
       "    <tr>\n",
       "      <td>110</td>\n",
       "      <td>virginica</td>\n",
       "      <td>15</td>\n",
       "    </tr>\n",
       "    <tr>\n",
       "      <td>79</td>\n",
       "      <td>versicolor</td>\n",
       "      <td>10</td>\n",
       "    </tr>\n",
       "    <tr>\n",
       "      <td>31</td>\n",
       "      <td>setosa</td>\n",
       "      <td>3</td>\n",
       "    </tr>\n",
       "  </tbody>\n",
       "</table>\n",
       "</div>"
      ],
      "text/plain": [
       "        species  petal_width\n",
       "77   versicolor           10\n",
       "67   versicolor           15\n",
       "110   virginica           15\n",
       "79   versicolor           10\n",
       "31       setosa            3"
      ]
     },
     "execution_count": 32,
     "metadata": {},
     "output_type": "execute_result"
    }
   ],
   "source": [
    "# We can also select columns this way.  Here, we'll use a two part selector rows and columns\n",
    "\n",
    "# Rows zero to five, columns 0 to 2 (again, UP TO BUT NOT INCLUDING the terminal value)\n",
    "df.iloc[0:5,0:2]"
   ]
  },
  {
   "cell_type": "markdown",
   "metadata": {},
   "source": [
    "### .loc for boolean selection and selection by name"
   ]
  },
  {
   "cell_type": "code",
   "execution_count": 33,
   "metadata": {},
   "outputs": [
    {
     "data": {
      "text/html": [
       "<div>\n",
       "<style scoped>\n",
       "    .dataframe tbody tr th:only-of-type {\n",
       "        vertical-align: middle;\n",
       "    }\n",
       "\n",
       "    .dataframe tbody tr th {\n",
       "        vertical-align: top;\n",
       "    }\n",
       "\n",
       "    .dataframe thead th {\n",
       "        text-align: right;\n",
       "    }\n",
       "</style>\n",
       "<table border=\"1\" class=\"dataframe\">\n",
       "  <thead>\n",
       "    <tr style=\"text-align: right;\">\n",
       "      <th></th>\n",
       "      <th>species</th>\n",
       "      <th>petal_width</th>\n",
       "      <th>petal_length</th>\n",
       "      <th>sepal_width</th>\n",
       "      <th>sepal_length</th>\n",
       "    </tr>\n",
       "  </thead>\n",
       "  <tbody>\n",
       "    <tr>\n",
       "      <td>2</td>\n",
       "      <td>setosa</td>\n",
       "      <td>2</td>\n",
       "      <td>16</td>\n",
       "      <td>31</td>\n",
       "      <td>48</td>\n",
       "    </tr>\n",
       "    <tr>\n",
       "      <td>4</td>\n",
       "      <td>setosa</td>\n",
       "      <td>2</td>\n",
       "      <td>13</td>\n",
       "      <td>32</td>\n",
       "      <td>44</td>\n",
       "    </tr>\n",
       "    <tr>\n",
       "      <td>0</td>\n",
       "      <td>setosa</td>\n",
       "      <td>2</td>\n",
       "      <td>14</td>\n",
       "      <td>33</td>\n",
       "      <td>50</td>\n",
       "    </tr>\n",
       "    <tr>\n",
       "      <td>3</td>\n",
       "      <td>setosa</td>\n",
       "      <td>1</td>\n",
       "      <td>14</td>\n",
       "      <td>36</td>\n",
       "      <td>49</td>\n",
       "    </tr>\n",
       "    <tr>\n",
       "      <td>1</td>\n",
       "      <td>setosa</td>\n",
       "      <td>2</td>\n",
       "      <td>10</td>\n",
       "      <td>36</td>\n",
       "      <td>46</td>\n",
       "    </tr>\n",
       "  </tbody>\n",
       "</table>\n",
       "</div>"
      ],
      "text/plain": [
       "  species  petal_width  petal_length  sepal_width  sepal_length\n",
       "2  setosa            2            16           31            48\n",
       "4  setosa            2            13           32            44\n",
       "0  setosa            2            14           33            50\n",
       "3  setosa            1            14           36            49\n",
       "1  setosa            2            10           36            46"
      ]
     },
     "execution_count": 33,
     "metadata": {},
     "output_type": "execute_result"
    }
   ],
   "source": [
    "# .loc uses named values, and is used when doing boolean selection (==, <, >, etc.)\n",
    "\n",
    "df.loc[df.index<5]"
   ]
  },
  {
   "cell_type": "code",
   "execution_count": 34,
   "metadata": {},
   "outputs": [
    {
     "data": {
      "text/html": [
       "<div>\n",
       "<style scoped>\n",
       "    .dataframe tbody tr th:only-of-type {\n",
       "        vertical-align: middle;\n",
       "    }\n",
       "\n",
       "    .dataframe tbody tr th {\n",
       "        vertical-align: top;\n",
       "    }\n",
       "\n",
       "    .dataframe thead th {\n",
       "        text-align: right;\n",
       "    }\n",
       "</style>\n",
       "<table border=\"1\" class=\"dataframe\">\n",
       "  <thead>\n",
       "    <tr style=\"text-align: right;\">\n",
       "      <th></th>\n",
       "      <th>sepal_length</th>\n",
       "      <th>petal_width</th>\n",
       "    </tr>\n",
       "  </thead>\n",
       "  <tbody>\n",
       "    <tr>\n",
       "      <td>77</td>\n",
       "      <td>50</td>\n",
       "      <td>10</td>\n",
       "    </tr>\n",
       "    <tr>\n",
       "      <td>67</td>\n",
       "      <td>62</td>\n",
       "      <td>15</td>\n",
       "    </tr>\n",
       "    <tr>\n",
       "      <td>110</td>\n",
       "      <td>60</td>\n",
       "      <td>15</td>\n",
       "    </tr>\n",
       "    <tr>\n",
       "      <td>79</td>\n",
       "      <td>60</td>\n",
       "      <td>10</td>\n",
       "    </tr>\n",
       "    <tr>\n",
       "      <td>31</td>\n",
       "      <td>45</td>\n",
       "      <td>3</td>\n",
       "    </tr>\n",
       "    <tr>\n",
       "      <td>...</td>\n",
       "      <td>...</td>\n",
       "      <td>...</td>\n",
       "    </tr>\n",
       "    <tr>\n",
       "      <td>25</td>\n",
       "      <td>54</td>\n",
       "      <td>4</td>\n",
       "    </tr>\n",
       "    <tr>\n",
       "      <td>40</td>\n",
       "      <td>58</td>\n",
       "      <td>2</td>\n",
       "    </tr>\n",
       "    <tr>\n",
       "      <td>23</td>\n",
       "      <td>52</td>\n",
       "      <td>1</td>\n",
       "    </tr>\n",
       "    <tr>\n",
       "      <td>11</td>\n",
       "      <td>55</td>\n",
       "      <td>2</td>\n",
       "    </tr>\n",
       "    <tr>\n",
       "      <td>42</td>\n",
       "      <td>57</td>\n",
       "      <td>4</td>\n",
       "    </tr>\n",
       "  </tbody>\n",
       "</table>\n",
       "<p>150 rows × 2 columns</p>\n",
       "</div>"
      ],
      "text/plain": [
       "     sepal_length  petal_width\n",
       "77             50           10\n",
       "67             62           15\n",
       "110            60           15\n",
       "79             60           10\n",
       "31             45            3\n",
       "..            ...          ...\n",
       "25             54            4\n",
       "40             58            2\n",
       "23             52            1\n",
       "11             55            2\n",
       "42             57            4\n",
       "\n",
       "[150 rows x 2 columns]"
      ]
     },
     "execution_count": 34,
     "metadata": {},
     "output_type": "execute_result"
    }
   ],
   "source": [
    "# Selection by multiple columns is done with .loc\n",
    "\n",
    "# All rows, but only columns sepal_length and petal_width\n",
    "df.loc[:,['sepal_length','petal_width']]"
   ]
  },
  {
   "cell_type": "markdown",
   "metadata": {},
   "source": [
    "### Multiple selection"
   ]
  },
  {
   "cell_type": "code",
   "execution_count": 35,
   "metadata": {},
   "outputs": [
    {
     "data": {
      "text/plain": [
       "9"
      ]
     },
     "execution_count": 35,
     "metadata": {},
     "output_type": "execute_result"
    }
   ],
   "source": [
    "# When selecting on multiple selection criteria, they must be wrapped in parentheses\n",
    "\n",
    "idx = (df.species=='setosa') & (df.petal_width > 3)\n",
    "np.sum(idx)"
   ]
  },
  {
   "cell_type": "markdown",
   "metadata": {},
   "source": [
    "# Counting"
   ]
  },
  {
   "cell_type": "code",
   "execution_count": 36,
   "metadata": {},
   "outputs": [
    {
     "data": {
      "text/plain": [
       "50"
      ]
     },
     "execution_count": 36,
     "metadata": {},
     "output_type": "execute_result"
    }
   ],
   "source": [
    "# Or we could count the number of items that matched our query this way, since \"False\" is counted as zero, and \"True\" is \n",
    "# counted as 1.\n",
    "\n",
    "np.sum(df.species=='setosa')"
   ]
  },
  {
   "cell_type": "code",
   "execution_count": 37,
   "metadata": {},
   "outputs": [
    {
     "data": {
      "text/plain": [
       "22"
      ]
     },
     "execution_count": 37,
     "metadata": {},
     "output_type": "execute_result"
    }
   ],
   "source": [
    "# How many have a sepal length less than 50?\n",
    "\n",
    "np.sum(df.sepal_length < 50)"
   ]
  },
  {
   "cell_type": "code",
   "execution_count": 38,
   "metadata": {},
   "outputs": [
    {
     "data": {
      "text/plain": [
       "49.37"
      ]
     },
     "execution_count": 38,
     "metadata": {},
     "output_type": "execute_result"
    }
   ],
   "source": [
    "# Queries can be saved to a variable, and then used\n",
    "\n",
    "idx = df.petal_length > 20\n",
    "np.mean(df.loc[idx,'petal_length'])"
   ]
  },
  {
   "cell_type": "markdown",
   "metadata": {},
   "source": [
    "# Grouping"
   ]
  },
  {
   "cell_type": "markdown",
   "metadata": {},
   "source": [
    "One of the more powerful features of Pandas is grouping, which acts like Pivot Tables in Excel."
   ]
  },
  {
   "cell_type": "code",
   "execution_count": 39,
   "metadata": {},
   "outputs": [
    {
     "data": {
      "text/html": [
       "<div>\n",
       "<style scoped>\n",
       "    .dataframe tbody tr th:only-of-type {\n",
       "        vertical-align: middle;\n",
       "    }\n",
       "\n",
       "    .dataframe tbody tr th {\n",
       "        vertical-align: top;\n",
       "    }\n",
       "\n",
       "    .dataframe thead th {\n",
       "        text-align: right;\n",
       "    }\n",
       "</style>\n",
       "<table border=\"1\" class=\"dataframe\">\n",
       "  <thead>\n",
       "    <tr style=\"text-align: right;\">\n",
       "      <th></th>\n",
       "      <th>petal_width</th>\n",
       "      <th>petal_length</th>\n",
       "      <th>sepal_width</th>\n",
       "      <th>sepal_length</th>\n",
       "    </tr>\n",
       "    <tr>\n",
       "      <th>species</th>\n",
       "      <th></th>\n",
       "      <th></th>\n",
       "      <th></th>\n",
       "      <th></th>\n",
       "    </tr>\n",
       "  </thead>\n",
       "  <tbody>\n",
       "    <tr>\n",
       "      <td>setosa</td>\n",
       "      <td>2.46</td>\n",
       "      <td>14.62</td>\n",
       "      <td>34.28</td>\n",
       "      <td>50.10</td>\n",
       "    </tr>\n",
       "    <tr>\n",
       "      <td>versicolor</td>\n",
       "      <td>13.26</td>\n",
       "      <td>43.22</td>\n",
       "      <td>27.64</td>\n",
       "      <td>59.36</td>\n",
       "    </tr>\n",
       "    <tr>\n",
       "      <td>virginica</td>\n",
       "      <td>20.06</td>\n",
       "      <td>55.52</td>\n",
       "      <td>29.74</td>\n",
       "      <td>65.88</td>\n",
       "    </tr>\n",
       "  </tbody>\n",
       "</table>\n",
       "</div>"
      ],
      "text/plain": [
       "            petal_width  petal_length  sepal_width  sepal_length\n",
       "species                                                         \n",
       "setosa             2.46         14.62        34.28         50.10\n",
       "versicolor        13.26         43.22        27.64         59.36\n",
       "virginica         20.06         55.52        29.74         65.88"
      ]
     },
     "execution_count": 39,
     "metadata": {},
     "output_type": "execute_result"
    }
   ],
   "source": [
    "# We make our groups using the dataframe.groupby syntax, and then can use it to calculate \n",
    "# descriptive statistics on our variables.\n",
    "\n",
    "groups = df.groupby(by='species')\n",
    "groups.mean()"
   ]
  },
  {
   "cell_type": "code",
   "execution_count": 40,
   "metadata": {},
   "outputs": [
    {
     "data": {
      "text/plain": [
       "species\n",
       "setosa        14.62\n",
       "versicolor    43.22\n",
       "virginica     55.52\n",
       "Name: petal_length, dtype: float64"
      ]
     },
     "execution_count": 40,
     "metadata": {},
     "output_type": "execute_result"
    }
   ],
   "source": [
    "# We ask for specific columns like this\n",
    "\n",
    "groups = df.groupby(by='species')\n",
    "means = groups['petal_length'].mean()\n",
    "means"
   ]
  },
  {
   "cell_type": "code",
   "execution_count": 41,
   "metadata": {},
   "outputs": [
    {
     "data": {
      "text/plain": [
       "Text(0, 0.5, 'Mean Petal Length')"
      ]
     },
     "execution_count": 41,
     "metadata": {},
     "output_type": "execute_result"
    },
    {
     "data": {
      "image/png": "[encoded data removed]",
      "text/plain": [
       "<Figure size 432x288 with 1 Axes>"
      ]
     },
     "metadata": {
      "needs_background": "light"
     },
     "output_type": "display_data"
    }
   ],
   "source": [
    "# And can make bar plots, too.\n",
    "\n",
    "groups = df.groupby(by='species')\n",
    "means = groups['petal_length'].mean()\n",
    "plt.bar(means.index,means)\n",
    "plt.ylabel('Mean Petal Length')"
   ]
  },
  {
   "cell_type": "markdown",
   "metadata": {},
   "source": [
    "# Adding and Deleting Rows and Columns"
   ]
  },
  {
   "cell_type": "markdown",
   "metadata": {},
   "source": [
    "### Calculating (Adding Fields)"
   ]
  },
  {
   "cell_type": "code",
   "execution_count": 42,
   "metadata": {},
   "outputs": [
    {
     "data": {
      "text/html": [
       "<div>\n",
       "<style scoped>\n",
       "    .dataframe tbody tr th:only-of-type {\n",
       "        vertical-align: middle;\n",
       "    }\n",
       "\n",
       "    .dataframe tbody tr th {\n",
       "        vertical-align: top;\n",
       "    }\n",
       "\n",
       "    .dataframe thead th {\n",
       "        text-align: right;\n",
       "    }\n",
       "</style>\n",
       "<table border=\"1\" class=\"dataframe\">\n",
       "  <thead>\n",
       "    <tr style=\"text-align: right;\">\n",
       "      <th></th>\n",
       "      <th>species</th>\n",
       "      <th>petal_width</th>\n",
       "      <th>petal_length</th>\n",
       "      <th>sepal_width</th>\n",
       "      <th>sepal_length</th>\n",
       "      <th>leaf_thinness</th>\n",
       "    </tr>\n",
       "  </thead>\n",
       "  <tbody>\n",
       "    <tr>\n",
       "      <td>77</td>\n",
       "      <td>versicolor</td>\n",
       "      <td>10</td>\n",
       "      <td>35</td>\n",
       "      <td>20</td>\n",
       "      <td>50</td>\n",
       "      <td>3.500000</td>\n",
       "    </tr>\n",
       "    <tr>\n",
       "      <td>67</td>\n",
       "      <td>versicolor</td>\n",
       "      <td>15</td>\n",
       "      <td>45</td>\n",
       "      <td>22</td>\n",
       "      <td>62</td>\n",
       "      <td>3.000000</td>\n",
       "    </tr>\n",
       "    <tr>\n",
       "      <td>110</td>\n",
       "      <td>virginica</td>\n",
       "      <td>15</td>\n",
       "      <td>50</td>\n",
       "      <td>22</td>\n",
       "      <td>60</td>\n",
       "      <td>3.333333</td>\n",
       "    </tr>\n",
       "    <tr>\n",
       "      <td>79</td>\n",
       "      <td>versicolor</td>\n",
       "      <td>10</td>\n",
       "      <td>50</td>\n",
       "      <td>22</td>\n",
       "      <td>60</td>\n",
       "      <td>5.000000</td>\n",
       "    </tr>\n",
       "    <tr>\n",
       "      <td>31</td>\n",
       "      <td>setosa</td>\n",
       "      <td>3</td>\n",
       "      <td>13</td>\n",
       "      <td>23</td>\n",
       "      <td>45</td>\n",
       "      <td>4.333333</td>\n",
       "    </tr>\n",
       "  </tbody>\n",
       "</table>\n",
       "</div>"
      ],
      "text/plain": [
       "        species  petal_width  petal_length  sepal_width  sepal_length  \\\n",
       "77   versicolor           10            35           20            50   \n",
       "67   versicolor           15            45           22            62   \n",
       "110   virginica           15            50           22            60   \n",
       "79   versicolor           10            50           22            60   \n",
       "31       setosa            3            13           23            45   \n",
       "\n",
       "     leaf_thinness  \n",
       "77        3.500000  \n",
       "67        3.000000  \n",
       "110       3.333333  \n",
       "79        5.000000  \n",
       "31        4.333333  "
      ]
     },
     "execution_count": 42,
     "metadata": {},
     "output_type": "execute_result"
    }
   ],
   "source": [
    "# Calculating fields is easy!  Remember that although we can access fields using dots.and_fields or brackets['and_strings']\n",
    "# we have to use the brackets when we make a new column\n",
    "\n",
    "df['leaf_thinness'] = df.petal_length / df.petal_width\n",
    "df.head()"
   ]
  },
  {
   "cell_type": "code",
   "execution_count": 43,
   "metadata": {},
   "outputs": [
    {
     "data": {
      "text/html": [
       "<div>\n",
       "<style scoped>\n",
       "    .dataframe tbody tr th:only-of-type {\n",
       "        vertical-align: middle;\n",
       "    }\n",
       "\n",
       "    .dataframe tbody tr th {\n",
       "        vertical-align: top;\n",
       "    }\n",
       "\n",
       "    .dataframe thead th {\n",
       "        text-align: right;\n",
       "    }\n",
       "</style>\n",
       "<table border=\"1\" class=\"dataframe\">\n",
       "  <thead>\n",
       "    <tr style=\"text-align: right;\">\n",
       "      <th></th>\n",
       "      <th>species</th>\n",
       "      <th>petal_width</th>\n",
       "      <th>petal_length</th>\n",
       "      <th>sepal_width</th>\n",
       "      <th>sepal_length</th>\n",
       "      <th>leaf_thinness</th>\n",
       "      <th>new_field</th>\n",
       "    </tr>\n",
       "  </thead>\n",
       "  <tbody>\n",
       "    <tr>\n",
       "      <td>77</td>\n",
       "      <td>versicolor</td>\n",
       "      <td>10</td>\n",
       "      <td>35</td>\n",
       "      <td>20</td>\n",
       "      <td>50</td>\n",
       "      <td>3.500000</td>\n",
       "      <td>5</td>\n",
       "    </tr>\n",
       "    <tr>\n",
       "      <td>67</td>\n",
       "      <td>versicolor</td>\n",
       "      <td>15</td>\n",
       "      <td>45</td>\n",
       "      <td>22</td>\n",
       "      <td>62</td>\n",
       "      <td>3.000000</td>\n",
       "      <td>5</td>\n",
       "    </tr>\n",
       "    <tr>\n",
       "      <td>110</td>\n",
       "      <td>virginica</td>\n",
       "      <td>15</td>\n",
       "      <td>50</td>\n",
       "      <td>22</td>\n",
       "      <td>60</td>\n",
       "      <td>3.333333</td>\n",
       "      <td>5</td>\n",
       "    </tr>\n",
       "    <tr>\n",
       "      <td>79</td>\n",
       "      <td>versicolor</td>\n",
       "      <td>10</td>\n",
       "      <td>50</td>\n",
       "      <td>22</td>\n",
       "      <td>60</td>\n",
       "      <td>5.000000</td>\n",
       "      <td>5</td>\n",
       "    </tr>\n",
       "    <tr>\n",
       "      <td>31</td>\n",
       "      <td>setosa</td>\n",
       "      <td>3</td>\n",
       "      <td>13</td>\n",
       "      <td>23</td>\n",
       "      <td>45</td>\n",
       "      <td>4.333333</td>\n",
       "      <td>5</td>\n",
       "    </tr>\n",
       "  </tbody>\n",
       "</table>\n",
       "</div>"
      ],
      "text/plain": [
       "        species  petal_width  petal_length  sepal_width  sepal_length  \\\n",
       "77   versicolor           10            35           20            50   \n",
       "67   versicolor           15            45           22            62   \n",
       "110   virginica           15            50           22            60   \n",
       "79   versicolor           10            50           22            60   \n",
       "31       setosa            3            13           23            45   \n",
       "\n",
       "     leaf_thinness  new_field  \n",
       "77        3.500000          5  \n",
       "67        3.000000          5  \n",
       "110       3.333333          5  \n",
       "79        5.000000          5  \n",
       "31        4.333333          5  "
      ]
     },
     "execution_count": 43,
     "metadata": {},
     "output_type": "execute_result"
    }
   ],
   "source": [
    "# We can also add a constant value\n",
    "\n",
    "df['new_field'] = 5\n",
    "df.head()"
   ]
  },
  {
   "cell_type": "code",
   "execution_count": 44,
   "metadata": {},
   "outputs": [
    {
     "data": {
      "text/html": [
       "<div>\n",
       "<style scoped>\n",
       "    .dataframe tbody tr th:only-of-type {\n",
       "        vertical-align: middle;\n",
       "    }\n",
       "\n",
       "    .dataframe tbody tr th {\n",
       "        vertical-align: top;\n",
       "    }\n",
       "\n",
       "    .dataframe thead th {\n",
       "        text-align: right;\n",
       "    }\n",
       "</style>\n",
       "<table border=\"1\" class=\"dataframe\">\n",
       "  <thead>\n",
       "    <tr style=\"text-align: right;\">\n",
       "      <th></th>\n",
       "      <th>species</th>\n",
       "      <th>petal_width</th>\n",
       "      <th>petal_length</th>\n",
       "      <th>sepal_width</th>\n",
       "      <th>sepal_length</th>\n",
       "      <th>leaf_thinness</th>\n",
       "      <th>new_field</th>\n",
       "    </tr>\n",
       "  </thead>\n",
       "  <tbody>\n",
       "    <tr>\n",
       "      <td>77</td>\n",
       "      <td>versicolor</td>\n",
       "      <td>10</td>\n",
       "      <td>35</td>\n",
       "      <td>20</td>\n",
       "      <td>50</td>\n",
       "      <td>3.500000</td>\n",
       "      <td>0.093503</td>\n",
       "    </tr>\n",
       "    <tr>\n",
       "      <td>67</td>\n",
       "      <td>versicolor</td>\n",
       "      <td>15</td>\n",
       "      <td>45</td>\n",
       "      <td>22</td>\n",
       "      <td>62</td>\n",
       "      <td>3.000000</td>\n",
       "      <td>2.221267</td>\n",
       "    </tr>\n",
       "    <tr>\n",
       "      <td>110</td>\n",
       "      <td>virginica</td>\n",
       "      <td>15</td>\n",
       "      <td>50</td>\n",
       "      <td>22</td>\n",
       "      <td>60</td>\n",
       "      <td>3.333333</td>\n",
       "      <td>1.518381</td>\n",
       "    </tr>\n",
       "    <tr>\n",
       "      <td>79</td>\n",
       "      <td>versicolor</td>\n",
       "      <td>10</td>\n",
       "      <td>50</td>\n",
       "      <td>22</td>\n",
       "      <td>60</td>\n",
       "      <td>5.000000</td>\n",
       "      <td>-1.269732</td>\n",
       "    </tr>\n",
       "    <tr>\n",
       "      <td>31</td>\n",
       "      <td>setosa</td>\n",
       "      <td>3</td>\n",
       "      <td>13</td>\n",
       "      <td>23</td>\n",
       "      <td>45</td>\n",
       "      <td>4.333333</td>\n",
       "      <td>1.042877</td>\n",
       "    </tr>\n",
       "  </tbody>\n",
       "</table>\n",
       "</div>"
      ],
      "text/plain": [
       "        species  petal_width  petal_length  sepal_width  sepal_length  \\\n",
       "77   versicolor           10            35           20            50   \n",
       "67   versicolor           15            45           22            62   \n",
       "110   virginica           15            50           22            60   \n",
       "79   versicolor           10            50           22            60   \n",
       "31       setosa            3            13           23            45   \n",
       "\n",
       "     leaf_thinness  new_field  \n",
       "77        3.500000   0.093503  \n",
       "67        3.000000   2.221267  \n",
       "110       3.333333   1.518381  \n",
       "79        5.000000  -1.269732  \n",
       "31        4.333333   1.042877  "
      ]
     },
     "execution_count": 44,
     "metadata": {},
     "output_type": "execute_result"
    }
   ],
   "source": [
    "# Or use numpy arrays, if they are of the same length as our dataframe\n",
    "\n",
    "n = len(df)\n",
    "df['new_field'] = np.random.randn(n)\n",
    "df.head()"
   ]
  },
  {
   "cell_type": "markdown",
   "metadata": {},
   "source": [
    "### Deleting Columns"
   ]
  },
  {
   "cell_type": "code",
   "execution_count": 45,
   "metadata": {},
   "outputs": [
    {
     "data": {
      "text/html": [
       "<div>\n",
       "<style scoped>\n",
       "    .dataframe tbody tr th:only-of-type {\n",
       "        vertical-align: middle;\n",
       "    }\n",
       "\n",
       "    .dataframe tbody tr th {\n",
       "        vertical-align: top;\n",
       "    }\n",
       "\n",
       "    .dataframe thead th {\n",
       "        text-align: right;\n",
       "    }\n",
       "</style>\n",
       "<table border=\"1\" class=\"dataframe\">\n",
       "  <thead>\n",
       "    <tr style=\"text-align: right;\">\n",
       "      <th></th>\n",
       "      <th>species</th>\n",
       "      <th>petal_width</th>\n",
       "      <th>petal_length</th>\n",
       "      <th>sepal_width</th>\n",
       "      <th>sepal_length</th>\n",
       "      <th>leaf_thinness</th>\n",
       "    </tr>\n",
       "  </thead>\n",
       "  <tbody>\n",
       "    <tr>\n",
       "      <td>77</td>\n",
       "      <td>versicolor</td>\n",
       "      <td>10</td>\n",
       "      <td>35</td>\n",
       "      <td>20</td>\n",
       "      <td>50</td>\n",
       "      <td>3.500000</td>\n",
       "    </tr>\n",
       "    <tr>\n",
       "      <td>67</td>\n",
       "      <td>versicolor</td>\n",
       "      <td>15</td>\n",
       "      <td>45</td>\n",
       "      <td>22</td>\n",
       "      <td>62</td>\n",
       "      <td>3.000000</td>\n",
       "    </tr>\n",
       "    <tr>\n",
       "      <td>110</td>\n",
       "      <td>virginica</td>\n",
       "      <td>15</td>\n",
       "      <td>50</td>\n",
       "      <td>22</td>\n",
       "      <td>60</td>\n",
       "      <td>3.333333</td>\n",
       "    </tr>\n",
       "    <tr>\n",
       "      <td>79</td>\n",
       "      <td>versicolor</td>\n",
       "      <td>10</td>\n",
       "      <td>50</td>\n",
       "      <td>22</td>\n",
       "      <td>60</td>\n",
       "      <td>5.000000</td>\n",
       "    </tr>\n",
       "    <tr>\n",
       "      <td>31</td>\n",
       "      <td>setosa</td>\n",
       "      <td>3</td>\n",
       "      <td>13</td>\n",
       "      <td>23</td>\n",
       "      <td>45</td>\n",
       "      <td>4.333333</td>\n",
       "    </tr>\n",
       "  </tbody>\n",
       "</table>\n",
       "</div>"
      ],
      "text/plain": [
       "        species  petal_width  petal_length  sepal_width  sepal_length  \\\n",
       "77   versicolor           10            35           20            50   \n",
       "67   versicolor           15            45           22            62   \n",
       "110   virginica           15            50           22            60   \n",
       "79   versicolor           10            50           22            60   \n",
       "31       setosa            3            13           23            45   \n",
       "\n",
       "     leaf_thinness  \n",
       "77        3.500000  \n",
       "67        3.000000  \n",
       "110       3.333333  \n",
       "79        5.000000  \n",
       "31        4.333333  "
      ]
     },
     "execution_count": 45,
     "metadata": {},
     "output_type": "execute_result"
    }
   ],
   "source": [
    "# Deleting columns is done with drop.  You can also specify multiple columns to drop using a list of columns\n",
    "\n",
    "df = df.drop(columns='new_field')\n",
    "df.head()"
   ]
  },
  {
   "cell_type": "code",
   "execution_count": 46,
   "metadata": {},
   "outputs": [
    {
     "data": {
      "text/html": [
       "<div>\n",
       "<style scoped>\n",
       "    .dataframe tbody tr th:only-of-type {\n",
       "        vertical-align: middle;\n",
       "    }\n",
       "\n",
       "    .dataframe tbody tr th {\n",
       "        vertical-align: top;\n",
       "    }\n",
       "\n",
       "    .dataframe thead th {\n",
       "        text-align: right;\n",
       "    }\n",
       "</style>\n",
       "<table border=\"1\" class=\"dataframe\">\n",
       "  <thead>\n",
       "    <tr style=\"text-align: right;\">\n",
       "      <th></th>\n",
       "      <th>species</th>\n",
       "      <th>petal_width</th>\n",
       "      <th>petal_length</th>\n",
       "      <th>sepal_width</th>\n",
       "      <th>sepal_length</th>\n",
       "    </tr>\n",
       "  </thead>\n",
       "  <tbody>\n",
       "    <tr>\n",
       "      <td>77</td>\n",
       "      <td>versicolor</td>\n",
       "      <td>10</td>\n",
       "      <td>35</td>\n",
       "      <td>20</td>\n",
       "      <td>50</td>\n",
       "    </tr>\n",
       "    <tr>\n",
       "      <td>67</td>\n",
       "      <td>versicolor</td>\n",
       "      <td>15</td>\n",
       "      <td>45</td>\n",
       "      <td>22</td>\n",
       "      <td>62</td>\n",
       "    </tr>\n",
       "    <tr>\n",
       "      <td>110</td>\n",
       "      <td>virginica</td>\n",
       "      <td>15</td>\n",
       "      <td>50</td>\n",
       "      <td>22</td>\n",
       "      <td>60</td>\n",
       "    </tr>\n",
       "    <tr>\n",
       "      <td>79</td>\n",
       "      <td>versicolor</td>\n",
       "      <td>10</td>\n",
       "      <td>50</td>\n",
       "      <td>22</td>\n",
       "      <td>60</td>\n",
       "    </tr>\n",
       "    <tr>\n",
       "      <td>31</td>\n",
       "      <td>setosa</td>\n",
       "      <td>3</td>\n",
       "      <td>13</td>\n",
       "      <td>23</td>\n",
       "      <td>45</td>\n",
       "    </tr>\n",
       "  </tbody>\n",
       "</table>\n",
       "</div>"
      ],
      "text/plain": [
       "        species  petal_width  petal_length  sepal_width  sepal_length\n",
       "77   versicolor           10            35           20            50\n",
       "67   versicolor           15            45           22            62\n",
       "110   virginica           15            50           22            60\n",
       "79   versicolor           10            50           22            60\n",
       "31       setosa            3            13           23            45"
      ]
     },
     "execution_count": 46,
     "metadata": {},
     "output_type": "execute_result"
    }
   ],
   "source": [
    "# If you have a lot of columns to drop, you can \"keep\" columns instead using selection:\n",
    "\n",
    "df = df.loc[:,['species','petal_width','petal_length','sepal_width','sepal_length']]\n",
    "df.head()"
   ]
  },
  {
   "cell_type": "markdown",
   "metadata": {},
   "source": [
    "### Deleting Rows"
   ]
  },
  {
   "cell_type": "code",
   "execution_count": 47,
   "metadata": {},
   "outputs": [
    {
     "data": {
      "text/html": [
       "<div>\n",
       "<style scoped>\n",
       "    .dataframe tbody tr th:only-of-type {\n",
       "        vertical-align: middle;\n",
       "    }\n",
       "\n",
       "    .dataframe tbody tr th {\n",
       "        vertical-align: top;\n",
       "    }\n",
       "\n",
       "    .dataframe thead th {\n",
       "        text-align: right;\n",
       "    }\n",
       "</style>\n",
       "<table border=\"1\" class=\"dataframe\">\n",
       "  <thead>\n",
       "    <tr style=\"text-align: right;\">\n",
       "      <th></th>\n",
       "      <th>species</th>\n",
       "      <th>petal_width</th>\n",
       "      <th>petal_length</th>\n",
       "      <th>sepal_width</th>\n",
       "      <th>sepal_length</th>\n",
       "    </tr>\n",
       "  </thead>\n",
       "  <tbody>\n",
       "    <tr>\n",
       "      <td>2</td>\n",
       "      <td>setosa</td>\n",
       "      <td>2</td>\n",
       "      <td>16</td>\n",
       "      <td>31</td>\n",
       "      <td>48</td>\n",
       "    </tr>\n",
       "    <tr>\n",
       "      <td>3</td>\n",
       "      <td>setosa</td>\n",
       "      <td>1</td>\n",
       "      <td>14</td>\n",
       "      <td>36</td>\n",
       "      <td>49</td>\n",
       "    </tr>\n",
       "    <tr>\n",
       "      <td>4</td>\n",
       "      <td>setosa</td>\n",
       "      <td>2</td>\n",
       "      <td>13</td>\n",
       "      <td>32</td>\n",
       "      <td>44</td>\n",
       "    </tr>\n",
       "    <tr>\n",
       "      <td>5</td>\n",
       "      <td>setosa</td>\n",
       "      <td>2</td>\n",
       "      <td>16</td>\n",
       "      <td>38</td>\n",
       "      <td>51</td>\n",
       "    </tr>\n",
       "    <tr>\n",
       "      <td>6</td>\n",
       "      <td>setosa</td>\n",
       "      <td>2</td>\n",
       "      <td>16</td>\n",
       "      <td>30</td>\n",
       "      <td>50</td>\n",
       "    </tr>\n",
       "  </tbody>\n",
       "</table>\n",
       "</div>"
      ],
      "text/plain": [
       "  species  petal_width  petal_length  sepal_width  sepal_length\n",
       "2  setosa            2            16           31            48\n",
       "3  setosa            1            14           36            49\n",
       "4  setosa            2            13           32            44\n",
       "5  setosa            2            16           38            51\n",
       "6  setosa            2            16           30            50"
      ]
     },
     "execution_count": 47,
     "metadata": {},
     "output_type": "execute_result"
    }
   ],
   "source": [
    "# You can delete rows with drop as well by specifying a list of indices to drop\n",
    "\n",
    "# Reload the data\n",
    "df = pd.read_csv('data/fisher_iris_data.csv')\n",
    "df = df.drop([0,1])\n",
    "df.head()"
   ]
  },
  {
   "cell_type": "code",
   "execution_count": 48,
   "metadata": {},
   "outputs": [
    {
     "data": {
      "text/html": [
       "<div>\n",
       "<style scoped>\n",
       "    .dataframe tbody tr th:only-of-type {\n",
       "        vertical-align: middle;\n",
       "    }\n",
       "\n",
       "    .dataframe tbody tr th {\n",
       "        vertical-align: top;\n",
       "    }\n",
       "\n",
       "    .dataframe thead th {\n",
       "        text-align: right;\n",
       "    }\n",
       "</style>\n",
       "<table border=\"1\" class=\"dataframe\">\n",
       "  <thead>\n",
       "    <tr style=\"text-align: right;\">\n",
       "      <th></th>\n",
       "      <th>species</th>\n",
       "      <th>petal_width</th>\n",
       "      <th>petal_length</th>\n",
       "      <th>sepal_width</th>\n",
       "      <th>sepal_length</th>\n",
       "    </tr>\n",
       "  </thead>\n",
       "  <tbody>\n",
       "    <tr>\n",
       "      <td>50</td>\n",
       "      <td>versicolor</td>\n",
       "      <td>13</td>\n",
       "      <td>45</td>\n",
       "      <td>28</td>\n",
       "      <td>57</td>\n",
       "    </tr>\n",
       "    <tr>\n",
       "      <td>51</td>\n",
       "      <td>versicolor</td>\n",
       "      <td>16</td>\n",
       "      <td>47</td>\n",
       "      <td>33</td>\n",
       "      <td>63</td>\n",
       "    </tr>\n",
       "    <tr>\n",
       "      <td>52</td>\n",
       "      <td>versicolor</td>\n",
       "      <td>14</td>\n",
       "      <td>47</td>\n",
       "      <td>32</td>\n",
       "      <td>70</td>\n",
       "    </tr>\n",
       "    <tr>\n",
       "      <td>53</td>\n",
       "      <td>versicolor</td>\n",
       "      <td>12</td>\n",
       "      <td>40</td>\n",
       "      <td>26</td>\n",
       "      <td>58</td>\n",
       "    </tr>\n",
       "    <tr>\n",
       "      <td>54</td>\n",
       "      <td>versicolor</td>\n",
       "      <td>10</td>\n",
       "      <td>33</td>\n",
       "      <td>23</td>\n",
       "      <td>50</td>\n",
       "    </tr>\n",
       "  </tbody>\n",
       "</table>\n",
       "</div>"
      ],
      "text/plain": [
       "       species  petal_width  petal_length  sepal_width  sepal_length\n",
       "50  versicolor           13            45           28            57\n",
       "51  versicolor           16            47           33            63\n",
       "52  versicolor           14            47           32            70\n",
       "53  versicolor           12            40           26            58\n",
       "54  versicolor           10            33           23            50"
      ]
     },
     "execution_count": 48,
     "metadata": {},
     "output_type": "execute_result"
    }
   ],
   "source": [
    "# Or use .loc with a boolean selector.  Note the odd syntax!\n",
    "\n",
    "df = pd.read_csv('data/fisher_iris_data.csv')\n",
    "idx = df.species == 'setosa'\n",
    "\n",
    "df = df.drop(df[idx].index)\n",
    "df.head()"
   ]
  },
  {
   "cell_type": "code",
   "execution_count": 49,
   "metadata": {},
   "outputs": [
    {
     "data": {
      "text/html": [
       "<div>\n",
       "<style scoped>\n",
       "    .dataframe tbody tr th:only-of-type {\n",
       "        vertical-align: middle;\n",
       "    }\n",
       "\n",
       "    .dataframe tbody tr th {\n",
       "        vertical-align: top;\n",
       "    }\n",
       "\n",
       "    .dataframe thead th {\n",
       "        text-align: right;\n",
       "    }\n",
       "</style>\n",
       "<table border=\"1\" class=\"dataframe\">\n",
       "  <thead>\n",
       "    <tr style=\"text-align: right;\">\n",
       "      <th></th>\n",
       "      <th>species</th>\n",
       "      <th>petal_width</th>\n",
       "      <th>petal_length</th>\n",
       "      <th>sepal_width</th>\n",
       "      <th>sepal_length</th>\n",
       "    </tr>\n",
       "  </thead>\n",
       "  <tbody>\n",
       "    <tr>\n",
       "      <td>50</td>\n",
       "      <td>versicolor</td>\n",
       "      <td>13</td>\n",
       "      <td>45</td>\n",
       "      <td>28</td>\n",
       "      <td>57</td>\n",
       "    </tr>\n",
       "    <tr>\n",
       "      <td>51</td>\n",
       "      <td>versicolor</td>\n",
       "      <td>16</td>\n",
       "      <td>47</td>\n",
       "      <td>33</td>\n",
       "      <td>63</td>\n",
       "    </tr>\n",
       "    <tr>\n",
       "      <td>52</td>\n",
       "      <td>versicolor</td>\n",
       "      <td>14</td>\n",
       "      <td>47</td>\n",
       "      <td>32</td>\n",
       "      <td>70</td>\n",
       "    </tr>\n",
       "    <tr>\n",
       "      <td>53</td>\n",
       "      <td>versicolor</td>\n",
       "      <td>12</td>\n",
       "      <td>40</td>\n",
       "      <td>26</td>\n",
       "      <td>58</td>\n",
       "    </tr>\n",
       "    <tr>\n",
       "      <td>54</td>\n",
       "      <td>versicolor</td>\n",
       "      <td>10</td>\n",
       "      <td>33</td>\n",
       "      <td>23</td>\n",
       "      <td>50</td>\n",
       "    </tr>\n",
       "  </tbody>\n",
       "</table>\n",
       "</div>"
      ],
      "text/plain": [
       "       species  petal_width  petal_length  sepal_width  sepal_length\n",
       "50  versicolor           13            45           28            57\n",
       "51  versicolor           16            47           33            63\n",
       "52  versicolor           14            47           32            70\n",
       "53  versicolor           12            40           26            58\n",
       "54  versicolor           10            33           23            50"
      ]
     },
     "execution_count": 49,
     "metadata": {},
     "output_type": "execute_result"
    }
   ],
   "source": [
    "# An easier way is to \"keep\" rows that satisfy the inverse of the condition you want to drop\n",
    "\n",
    "df = pd.read_csv('data/fisher_iris_data.csv')\n",
    "idx = df.species!='setosa'\n",
    "df = df[idx]\n",
    "df.head()"
   ]
  },
  {
   "cell_type": "markdown",
   "metadata": {},
   "source": [
    "### Adding Rows"
   ]
  },
  {
   "cell_type": "code",
   "execution_count": 50,
   "metadata": {},
   "outputs": [
    {
     "name": "stdout",
     "output_type": "stream",
     "text": [
      "The original data had 150 rows.\n",
      "The new data has 300 rows.\n"
     ]
    }
   ],
   "source": [
    "# Adding data is done with append.  If not all columns are present, it will assign null values.\n",
    "\n",
    "df = pd.read_csv('data/fisher_iris_data.csv')\n",
    "print('The original data had',len(df),'rows.')\n",
    "\n",
    "df2 = pd.read_excel('data/fisher_iris_data.xlsx')\n",
    "\n",
    "# Adding a copy of the data... these could have been real data from another source.\n",
    "df = df.append(df2)\n",
    "\n",
    "print('The new data has',len(df),'rows.')"
   ]
  },
  {
   "cell_type": "code",
   "execution_count": 51,
   "metadata": {},
   "outputs": [
    {
     "name": "stdout",
     "output_type": "stream",
     "text": [
      "Now there are 600 rows.\n"
     ]
    }
   ],
   "source": [
    "df = pd.read_csv('data/fisher_iris_data.csv')\n",
    "df2 = pd.read_excel('data/fisher_iris_data.xlsx')\n",
    "\n",
    "# You can also append more than one dataframe at a time, using a list\n",
    "df = df.append([df2,df,df2])\n",
    "\n",
    "print('Now there are',len(df),'rows.')"
   ]
  },
  {
   "cell_type": "code",
   "execution_count": 52,
   "metadata": {},
   "outputs": [
    {
     "name": "stdout",
     "output_type": "stream",
     "text": [
      "Now there are 300 rows.\n"
     ]
    }
   ],
   "source": [
    "# Another way to do this is by using the .concat command, this time attached to pandas (pd) not a dataframe\n",
    "\n",
    "df1 = pd.read_csv('data/fisher_iris_data.csv')\n",
    "df2 = pd.read_excel('data/fisher_iris_data.xlsx')\n",
    "\n",
    "df = pd.concat([df1,df2])\n",
    "\n",
    "print('Now there are',len(df),'rows.')"
   ]
  },
  {
   "cell_type": "markdown",
   "metadata": {},
   "source": [
    "## Joining Data"
   ]
  },
  {
   "cell_type": "markdown",
   "metadata": {},
   "source": [
    "In many cases for data analysis, we're pulling in data from multiple sources"
   ]
  },
  {
   "cell_type": "code",
   "execution_count": 53,
   "metadata": {},
   "outputs": [
    {
     "data": {
      "text/html": [
       "<div>\n",
       "<style scoped>\n",
       "    .dataframe tbody tr th:only-of-type {\n",
       "        vertical-align: middle;\n",
       "    }\n",
       "\n",
       "    .dataframe tbody tr th {\n",
       "        vertical-align: top;\n",
       "    }\n",
       "\n",
       "    .dataframe thead th {\n",
       "        text-align: right;\n",
       "    }\n",
       "</style>\n",
       "<table border=\"1\" class=\"dataframe\">\n",
       "  <thead>\n",
       "    <tr style=\"text-align: right;\">\n",
       "      <th></th>\n",
       "      <th>state</th>\n",
       "      <th>state_po</th>\n",
       "      <th>state_fips</th>\n",
       "      <th>gop_1976_votes</th>\n",
       "      <th>dem_1976_votes</th>\n",
       "      <th>totalvotes_1976</th>\n",
       "      <th>gop_1976_prc</th>\n",
       "      <th>dem_1976_prc</th>\n",
       "      <th>gop_minus_dem_prc_1976</th>\n",
       "      <th>gop_1980_votes</th>\n",
       "      <th>...</th>\n",
       "      <th>totalvotes_2012</th>\n",
       "      <th>gop_2012_prc</th>\n",
       "      <th>dem_2012_prc</th>\n",
       "      <th>gop_minus_dem_prc_2012</th>\n",
       "      <th>gop_2016_votes</th>\n",
       "      <th>dem_2016_votes</th>\n",
       "      <th>totalvotes_2016</th>\n",
       "      <th>gop_2016_prc</th>\n",
       "      <th>dem_2016_prc</th>\n",
       "      <th>gop_minus_dem_prc_2016</th>\n",
       "    </tr>\n",
       "  </thead>\n",
       "  <tbody>\n",
       "    <tr>\n",
       "      <td>0</td>\n",
       "      <td>Alabama</td>\n",
       "      <td>AL</td>\n",
       "      <td>1</td>\n",
       "      <td>504070</td>\n",
       "      <td>659170</td>\n",
       "      <td>1182850</td>\n",
       "      <td>42.61</td>\n",
       "      <td>55.73</td>\n",
       "      <td>-13.12</td>\n",
       "      <td>654192</td>\n",
       "      <td>...</td>\n",
       "      <td>2074338</td>\n",
       "      <td>60.55</td>\n",
       "      <td>38.36</td>\n",
       "      <td>22.19</td>\n",
       "      <td>1318255</td>\n",
       "      <td>729547</td>\n",
       "      <td>2123372</td>\n",
       "      <td>62.08</td>\n",
       "      <td>34.36</td>\n",
       "      <td>27.72</td>\n",
       "    </tr>\n",
       "    <tr>\n",
       "      <td>1</td>\n",
       "      <td>Alaska</td>\n",
       "      <td>AK</td>\n",
       "      <td>2</td>\n",
       "      <td>71555</td>\n",
       "      <td>44058</td>\n",
       "      <td>123574</td>\n",
       "      <td>57.90</td>\n",
       "      <td>35.65</td>\n",
       "      <td>22.25</td>\n",
       "      <td>86112</td>\n",
       "      <td>...</td>\n",
       "      <td>300495</td>\n",
       "      <td>54.80</td>\n",
       "      <td>40.81</td>\n",
       "      <td>13.99</td>\n",
       "      <td>163387</td>\n",
       "      <td>116454</td>\n",
       "      <td>318608</td>\n",
       "      <td>51.28</td>\n",
       "      <td>36.55</td>\n",
       "      <td>14.73</td>\n",
       "    </tr>\n",
       "    <tr>\n",
       "      <td>2</td>\n",
       "      <td>Arizona</td>\n",
       "      <td>AZ</td>\n",
       "      <td>4</td>\n",
       "      <td>418642</td>\n",
       "      <td>295602</td>\n",
       "      <td>742719</td>\n",
       "      <td>56.37</td>\n",
       "      <td>39.80</td>\n",
       "      <td>16.57</td>\n",
       "      <td>529688</td>\n",
       "      <td>...</td>\n",
       "      <td>2299254</td>\n",
       "      <td>53.65</td>\n",
       "      <td>44.59</td>\n",
       "      <td>9.06</td>\n",
       "      <td>1252401</td>\n",
       "      <td>1161167</td>\n",
       "      <td>2573165</td>\n",
       "      <td>48.67</td>\n",
       "      <td>45.13</td>\n",
       "      <td>3.54</td>\n",
       "    </tr>\n",
       "    <tr>\n",
       "      <td>3</td>\n",
       "      <td>Arkansas</td>\n",
       "      <td>AR</td>\n",
       "      <td>5</td>\n",
       "      <td>267903</td>\n",
       "      <td>498604</td>\n",
       "      <td>767535</td>\n",
       "      <td>34.90</td>\n",
       "      <td>64.96</td>\n",
       "      <td>-30.06</td>\n",
       "      <td>403164</td>\n",
       "      <td>...</td>\n",
       "      <td>1069468</td>\n",
       "      <td>60.57</td>\n",
       "      <td>36.88</td>\n",
       "      <td>23.69</td>\n",
       "      <td>684872</td>\n",
       "      <td>380494</td>\n",
       "      <td>1130635</td>\n",
       "      <td>60.57</td>\n",
       "      <td>33.65</td>\n",
       "      <td>26.92</td>\n",
       "    </tr>\n",
       "    <tr>\n",
       "      <td>4</td>\n",
       "      <td>California</td>\n",
       "      <td>CA</td>\n",
       "      <td>6</td>\n",
       "      <td>3882244</td>\n",
       "      <td>3742284</td>\n",
       "      <td>7803770</td>\n",
       "      <td>49.75</td>\n",
       "      <td>47.95</td>\n",
       "      <td>1.80</td>\n",
       "      <td>4522994</td>\n",
       "      <td>...</td>\n",
       "      <td>13038547</td>\n",
       "      <td>37.12</td>\n",
       "      <td>60.24</td>\n",
       "      <td>-23.12</td>\n",
       "      <td>4483810</td>\n",
       "      <td>8753788</td>\n",
       "      <td>14181595</td>\n",
       "      <td>31.62</td>\n",
       "      <td>61.73</td>\n",
       "      <td>-30.11</td>\n",
       "    </tr>\n",
       "  </tbody>\n",
       "</table>\n",
       "<p>5 rows × 69 columns</p>\n",
       "</div>"
      ],
      "text/plain": [
       "        state state_po  state_fips  gop_1976_votes  dem_1976_votes  \\\n",
       "0     Alabama       AL           1          504070          659170   \n",
       "1      Alaska       AK           2           71555           44058   \n",
       "2     Arizona       AZ           4          418642          295602   \n",
       "3    Arkansas       AR           5          267903          498604   \n",
       "4  California       CA           6         3882244         3742284   \n",
       "\n",
       "   totalvotes_1976  gop_1976_prc  dem_1976_prc  gop_minus_dem_prc_1976  \\\n",
       "0          1182850         42.61         55.73                  -13.12   \n",
       "1           123574         57.90         35.65                   22.25   \n",
       "2           742719         56.37         39.80                   16.57   \n",
       "3           767535         34.90         64.96                  -30.06   \n",
       "4          7803770         49.75         47.95                    1.80   \n",
       "\n",
       "   gop_1980_votes  ...  totalvotes_2012  gop_2012_prc  dem_2012_prc  \\\n",
       "0          654192  ...          2074338         60.55         38.36   \n",
       "1           86112  ...           300495         54.80         40.81   \n",
       "2          529688  ...          2299254         53.65         44.59   \n",
       "3          403164  ...          1069468         60.57         36.88   \n",
       "4         4522994  ...         13038547         37.12         60.24   \n",
       "\n",
       "   gop_minus_dem_prc_2012  gop_2016_votes  dem_2016_votes  totalvotes_2016  \\\n",
       "0                   22.19         1318255          729547          2123372   \n",
       "1                   13.99          163387          116454           318608   \n",
       "2                    9.06         1252401         1161167          2573165   \n",
       "3                   23.69          684872          380494          1130635   \n",
       "4                  -23.12         4483810         8753788         14181595   \n",
       "\n",
       "   gop_2016_prc  dem_2016_prc  gop_minus_dem_prc_2016  \n",
       "0         62.08         34.36                   27.72  \n",
       "1         51.28         36.55                   14.73  \n",
       "2         48.67         45.13                    3.54  \n",
       "3         60.57         33.65                   26.92  \n",
       "4         31.62         61.73                  -30.11  \n",
       "\n",
       "[5 rows x 69 columns]"
      ]
     },
     "execution_count": 53,
     "metadata": {},
     "output_type": "execute_result"
    }
   ],
   "source": [
    "url = 'https://raw.githubusercontent.com/thomaspingel/geodata/master/election/state_election_data_1976-2016.csv'\n",
    "election_df = pd.read_csv(url)\n",
    "election_df.head()"
   ]
  },
  {
   "cell_type": "code",
   "execution_count": 54,
   "metadata": {},
   "outputs": [
    {
     "data": {
      "text/html": [
       "<div>\n",
       "<style scoped>\n",
       "    .dataframe tbody tr th:only-of-type {\n",
       "        vertical-align: middle;\n",
       "    }\n",
       "\n",
       "    .dataframe tbody tr th {\n",
       "        vertical-align: top;\n",
       "    }\n",
       "\n",
       "    .dataframe thead th {\n",
       "        text-align: right;\n",
       "    }\n",
       "</style>\n",
       "<table border=\"1\" class=\"dataframe\">\n",
       "  <thead>\n",
       "    <tr style=\"text-align: right;\">\n",
       "      <th></th>\n",
       "      <th>state</th>\n",
       "      <th>fips</th>\n",
       "      <th>code</th>\n",
       "      <th>region</th>\n",
       "      <th>division</th>\n",
       "    </tr>\n",
       "  </thead>\n",
       "  <tbody>\n",
       "    <tr>\n",
       "      <td>0</td>\n",
       "      <td>Alabama</td>\n",
       "      <td>1</td>\n",
       "      <td>AL</td>\n",
       "      <td>South</td>\n",
       "      <td>East South Central</td>\n",
       "    </tr>\n",
       "    <tr>\n",
       "      <td>1</td>\n",
       "      <td>Alaska</td>\n",
       "      <td>2</td>\n",
       "      <td>AK</td>\n",
       "      <td>West</td>\n",
       "      <td>Pacific</td>\n",
       "    </tr>\n",
       "    <tr>\n",
       "      <td>2</td>\n",
       "      <td>Arizona</td>\n",
       "      <td>4</td>\n",
       "      <td>AZ</td>\n",
       "      <td>West</td>\n",
       "      <td>Mountain</td>\n",
       "    </tr>\n",
       "    <tr>\n",
       "      <td>3</td>\n",
       "      <td>Arkansas</td>\n",
       "      <td>5</td>\n",
       "      <td>AR</td>\n",
       "      <td>South</td>\n",
       "      <td>West South Central</td>\n",
       "    </tr>\n",
       "    <tr>\n",
       "      <td>4</td>\n",
       "      <td>California</td>\n",
       "      <td>6</td>\n",
       "      <td>CA</td>\n",
       "      <td>West</td>\n",
       "      <td>Pacific</td>\n",
       "    </tr>\n",
       "  </tbody>\n",
       "</table>\n",
       "</div>"
      ],
      "text/plain": [
       "        state  fips code region            division\n",
       "0     Alabama     1   AL  South  East South Central\n",
       "1      Alaska     2   AK   West             Pacific\n",
       "2     Arizona     4   AZ   West            Mountain\n",
       "3    Arkansas     5   AR  South  West South Central\n",
       "4  California     6   CA   West             Pacific"
      ]
     },
     "execution_count": 54,
     "metadata": {},
     "output_type": "execute_result"
    }
   ],
   "source": [
    "url = 'https://raw.githubusercontent.com/thomaspingel/geodata/master/state_groups.csv'\n",
    "state_groups = pd.read_csv(url)\n",
    "state_groups.head()"
   ]
  },
  {
   "cell_type": "markdown",
   "metadata": {},
   "source": [
    "### Joining"
   ]
  },
  {
   "cell_type": "markdown",
   "metadata": {},
   "source": [
    "Suppose we want to analyze the election results by region.   This data isn't in our election file, but we could find such a file from the Census or other sources"
   ]
  },
  {
   "cell_type": "code",
   "execution_count": 55,
   "metadata": {},
   "outputs": [
    {
     "data": {
      "text/html": [
       "<div>\n",
       "<style scoped>\n",
       "    .dataframe tbody tr th:only-of-type {\n",
       "        vertical-align: middle;\n",
       "    }\n",
       "\n",
       "    .dataframe tbody tr th {\n",
       "        vertical-align: top;\n",
       "    }\n",
       "\n",
       "    .dataframe thead th {\n",
       "        text-align: right;\n",
       "    }\n",
       "</style>\n",
       "<table border=\"1\" class=\"dataframe\">\n",
       "  <thead>\n",
       "    <tr style=\"text-align: right;\">\n",
       "      <th></th>\n",
       "      <th>state</th>\n",
       "      <th>state_po</th>\n",
       "      <th>state_fips</th>\n",
       "      <th>gop_1976_votes</th>\n",
       "      <th>dem_1976_votes</th>\n",
       "      <th>totalvotes_1976</th>\n",
       "      <th>gop_1976_prc</th>\n",
       "      <th>dem_1976_prc</th>\n",
       "      <th>gop_minus_dem_prc_1976</th>\n",
       "      <th>gop_1980_votes</th>\n",
       "      <th>...</th>\n",
       "      <th>gop_2016_votes</th>\n",
       "      <th>dem_2016_votes</th>\n",
       "      <th>totalvotes_2016</th>\n",
       "      <th>gop_2016_prc</th>\n",
       "      <th>dem_2016_prc</th>\n",
       "      <th>gop_minus_dem_prc_2016</th>\n",
       "      <th>fips</th>\n",
       "      <th>code</th>\n",
       "      <th>region</th>\n",
       "      <th>division</th>\n",
       "    </tr>\n",
       "  </thead>\n",
       "  <tbody>\n",
       "    <tr>\n",
       "      <td>0</td>\n",
       "      <td>Alabama</td>\n",
       "      <td>AL</td>\n",
       "      <td>1</td>\n",
       "      <td>504070</td>\n",
       "      <td>659170</td>\n",
       "      <td>1182850</td>\n",
       "      <td>42.61</td>\n",
       "      <td>55.73</td>\n",
       "      <td>-13.12</td>\n",
       "      <td>654192</td>\n",
       "      <td>...</td>\n",
       "      <td>1318255</td>\n",
       "      <td>729547</td>\n",
       "      <td>2123372</td>\n",
       "      <td>62.08</td>\n",
       "      <td>34.36</td>\n",
       "      <td>27.72</td>\n",
       "      <td>1</td>\n",
       "      <td>AL</td>\n",
       "      <td>South</td>\n",
       "      <td>East South Central</td>\n",
       "    </tr>\n",
       "    <tr>\n",
       "      <td>1</td>\n",
       "      <td>Alaska</td>\n",
       "      <td>AK</td>\n",
       "      <td>2</td>\n",
       "      <td>71555</td>\n",
       "      <td>44058</td>\n",
       "      <td>123574</td>\n",
       "      <td>57.90</td>\n",
       "      <td>35.65</td>\n",
       "      <td>22.25</td>\n",
       "      <td>86112</td>\n",
       "      <td>...</td>\n",
       "      <td>163387</td>\n",
       "      <td>116454</td>\n",
       "      <td>318608</td>\n",
       "      <td>51.28</td>\n",
       "      <td>36.55</td>\n",
       "      <td>14.73</td>\n",
       "      <td>2</td>\n",
       "      <td>AK</td>\n",
       "      <td>West</td>\n",
       "      <td>Pacific</td>\n",
       "    </tr>\n",
       "    <tr>\n",
       "      <td>2</td>\n",
       "      <td>Arizona</td>\n",
       "      <td>AZ</td>\n",
       "      <td>4</td>\n",
       "      <td>418642</td>\n",
       "      <td>295602</td>\n",
       "      <td>742719</td>\n",
       "      <td>56.37</td>\n",
       "      <td>39.80</td>\n",
       "      <td>16.57</td>\n",
       "      <td>529688</td>\n",
       "      <td>...</td>\n",
       "      <td>1252401</td>\n",
       "      <td>1161167</td>\n",
       "      <td>2573165</td>\n",
       "      <td>48.67</td>\n",
       "      <td>45.13</td>\n",
       "      <td>3.54</td>\n",
       "      <td>4</td>\n",
       "      <td>AZ</td>\n",
       "      <td>West</td>\n",
       "      <td>Mountain</td>\n",
       "    </tr>\n",
       "    <tr>\n",
       "      <td>3</td>\n",
       "      <td>Arkansas</td>\n",
       "      <td>AR</td>\n",
       "      <td>5</td>\n",
       "      <td>267903</td>\n",
       "      <td>498604</td>\n",
       "      <td>767535</td>\n",
       "      <td>34.90</td>\n",
       "      <td>64.96</td>\n",
       "      <td>-30.06</td>\n",
       "      <td>403164</td>\n",
       "      <td>...</td>\n",
       "      <td>684872</td>\n",
       "      <td>380494</td>\n",
       "      <td>1130635</td>\n",
       "      <td>60.57</td>\n",
       "      <td>33.65</td>\n",
       "      <td>26.92</td>\n",
       "      <td>5</td>\n",
       "      <td>AR</td>\n",
       "      <td>South</td>\n",
       "      <td>West South Central</td>\n",
       "    </tr>\n",
       "    <tr>\n",
       "      <td>4</td>\n",
       "      <td>California</td>\n",
       "      <td>CA</td>\n",
       "      <td>6</td>\n",
       "      <td>3882244</td>\n",
       "      <td>3742284</td>\n",
       "      <td>7803770</td>\n",
       "      <td>49.75</td>\n",
       "      <td>47.95</td>\n",
       "      <td>1.80</td>\n",
       "      <td>4522994</td>\n",
       "      <td>...</td>\n",
       "      <td>4483810</td>\n",
       "      <td>8753788</td>\n",
       "      <td>14181595</td>\n",
       "      <td>31.62</td>\n",
       "      <td>61.73</td>\n",
       "      <td>-30.11</td>\n",
       "      <td>6</td>\n",
       "      <td>CA</td>\n",
       "      <td>West</td>\n",
       "      <td>Pacific</td>\n",
       "    </tr>\n",
       "  </tbody>\n",
       "</table>\n",
       "<p>5 rows × 73 columns</p>\n",
       "</div>"
      ],
      "text/plain": [
       "        state state_po  state_fips  gop_1976_votes  dem_1976_votes  \\\n",
       "0     Alabama       AL           1          504070          659170   \n",
       "1      Alaska       AK           2           71555           44058   \n",
       "2     Arizona       AZ           4          418642          295602   \n",
       "3    Arkansas       AR           5          267903          498604   \n",
       "4  California       CA           6         3882244         3742284   \n",
       "\n",
       "   totalvotes_1976  gop_1976_prc  dem_1976_prc  gop_minus_dem_prc_1976  \\\n",
       "0          1182850         42.61         55.73                  -13.12   \n",
       "1           123574         57.90         35.65                   22.25   \n",
       "2           742719         56.37         39.80                   16.57   \n",
       "3           767535         34.90         64.96                  -30.06   \n",
       "4          7803770         49.75         47.95                    1.80   \n",
       "\n",
       "   gop_1980_votes  ...  gop_2016_votes  dem_2016_votes  totalvotes_2016  \\\n",
       "0          654192  ...         1318255          729547          2123372   \n",
       "1           86112  ...          163387          116454           318608   \n",
       "2          529688  ...         1252401         1161167          2573165   \n",
       "3          403164  ...          684872          380494          1130635   \n",
       "4         4522994  ...         4483810         8753788         14181595   \n",
       "\n",
       "   gop_2016_prc  dem_2016_prc  gop_minus_dem_prc_2016  fips  code  region  \\\n",
       "0         62.08         34.36                   27.72     1    AL   South   \n",
       "1         51.28         36.55                   14.73     2    AK    West   \n",
       "2         48.67         45.13                    3.54     4    AZ    West   \n",
       "3         60.57         33.65                   26.92     5    AR   South   \n",
       "4         31.62         61.73                  -30.11     6    CA    West   \n",
       "\n",
       "             division  \n",
       "0  East South Central  \n",
       "1             Pacific  \n",
       "2            Mountain  \n",
       "3  West South Central  \n",
       "4             Pacific  \n",
       "\n",
       "[5 rows x 73 columns]"
      ]
     },
     "execution_count": 55,
     "metadata": {},
     "output_type": "execute_result"
    }
   ],
   "source": [
    "# Use merge to join one dataframe to another\n",
    "\n",
    "df = election_df.merge(state_groups,how='left',on='state')\n",
    "df.head()"
   ]
  },
  {
   "cell_type": "code",
   "execution_count": 56,
   "metadata": {},
   "outputs": [
    {
     "data": {
      "text/html": [
       "<div>\n",
       "<style scoped>\n",
       "    .dataframe tbody tr th:only-of-type {\n",
       "        vertical-align: middle;\n",
       "    }\n",
       "\n",
       "    .dataframe tbody tr th {\n",
       "        vertical-align: top;\n",
       "    }\n",
       "\n",
       "    .dataframe thead th {\n",
       "        text-align: right;\n",
       "    }\n",
       "</style>\n",
       "<table border=\"1\" class=\"dataframe\">\n",
       "  <thead>\n",
       "    <tr style=\"text-align: right;\">\n",
       "      <th></th>\n",
       "      <th>state_x</th>\n",
       "      <th>state_po</th>\n",
       "      <th>state_fips</th>\n",
       "      <th>gop_1976_votes</th>\n",
       "      <th>dem_1976_votes</th>\n",
       "      <th>totalvotes_1976</th>\n",
       "      <th>gop_1976_prc</th>\n",
       "      <th>dem_1976_prc</th>\n",
       "      <th>gop_minus_dem_prc_1976</th>\n",
       "      <th>gop_1980_votes</th>\n",
       "      <th>...</th>\n",
       "      <th>dem_2016_votes</th>\n",
       "      <th>totalvotes_2016</th>\n",
       "      <th>gop_2016_prc</th>\n",
       "      <th>dem_2016_prc</th>\n",
       "      <th>gop_minus_dem_prc_2016</th>\n",
       "      <th>state_y</th>\n",
       "      <th>fips</th>\n",
       "      <th>code</th>\n",
       "      <th>region</th>\n",
       "      <th>division</th>\n",
       "    </tr>\n",
       "  </thead>\n",
       "  <tbody>\n",
       "    <tr>\n",
       "      <td>0</td>\n",
       "      <td>Alabama</td>\n",
       "      <td>AL</td>\n",
       "      <td>1</td>\n",
       "      <td>504070</td>\n",
       "      <td>659170</td>\n",
       "      <td>1182850</td>\n",
       "      <td>42.61</td>\n",
       "      <td>55.73</td>\n",
       "      <td>-13.12</td>\n",
       "      <td>654192</td>\n",
       "      <td>...</td>\n",
       "      <td>729547</td>\n",
       "      <td>2123372</td>\n",
       "      <td>62.08</td>\n",
       "      <td>34.36</td>\n",
       "      <td>27.72</td>\n",
       "      <td>Alabama</td>\n",
       "      <td>1</td>\n",
       "      <td>AL</td>\n",
       "      <td>South</td>\n",
       "      <td>East South Central</td>\n",
       "    </tr>\n",
       "    <tr>\n",
       "      <td>1</td>\n",
       "      <td>Alaska</td>\n",
       "      <td>AK</td>\n",
       "      <td>2</td>\n",
       "      <td>71555</td>\n",
       "      <td>44058</td>\n",
       "      <td>123574</td>\n",
       "      <td>57.90</td>\n",
       "      <td>35.65</td>\n",
       "      <td>22.25</td>\n",
       "      <td>86112</td>\n",
       "      <td>...</td>\n",
       "      <td>116454</td>\n",
       "      <td>318608</td>\n",
       "      <td>51.28</td>\n",
       "      <td>36.55</td>\n",
       "      <td>14.73</td>\n",
       "      <td>Alaska</td>\n",
       "      <td>2</td>\n",
       "      <td>AK</td>\n",
       "      <td>West</td>\n",
       "      <td>Pacific</td>\n",
       "    </tr>\n",
       "    <tr>\n",
       "      <td>2</td>\n",
       "      <td>Arizona</td>\n",
       "      <td>AZ</td>\n",
       "      <td>4</td>\n",
       "      <td>418642</td>\n",
       "      <td>295602</td>\n",
       "      <td>742719</td>\n",
       "      <td>56.37</td>\n",
       "      <td>39.80</td>\n",
       "      <td>16.57</td>\n",
       "      <td>529688</td>\n",
       "      <td>...</td>\n",
       "      <td>1161167</td>\n",
       "      <td>2573165</td>\n",
       "      <td>48.67</td>\n",
       "      <td>45.13</td>\n",
       "      <td>3.54</td>\n",
       "      <td>Arizona</td>\n",
       "      <td>4</td>\n",
       "      <td>AZ</td>\n",
       "      <td>West</td>\n",
       "      <td>Mountain</td>\n",
       "    </tr>\n",
       "    <tr>\n",
       "      <td>3</td>\n",
       "      <td>Arkansas</td>\n",
       "      <td>AR</td>\n",
       "      <td>5</td>\n",
       "      <td>267903</td>\n",
       "      <td>498604</td>\n",
       "      <td>767535</td>\n",
       "      <td>34.90</td>\n",
       "      <td>64.96</td>\n",
       "      <td>-30.06</td>\n",
       "      <td>403164</td>\n",
       "      <td>...</td>\n",
       "      <td>380494</td>\n",
       "      <td>1130635</td>\n",
       "      <td>60.57</td>\n",
       "      <td>33.65</td>\n",
       "      <td>26.92</td>\n",
       "      <td>Arkansas</td>\n",
       "      <td>5</td>\n",
       "      <td>AR</td>\n",
       "      <td>South</td>\n",
       "      <td>West South Central</td>\n",
       "    </tr>\n",
       "    <tr>\n",
       "      <td>4</td>\n",
       "      <td>California</td>\n",
       "      <td>CA</td>\n",
       "      <td>6</td>\n",
       "      <td>3882244</td>\n",
       "      <td>3742284</td>\n",
       "      <td>7803770</td>\n",
       "      <td>49.75</td>\n",
       "      <td>47.95</td>\n",
       "      <td>1.80</td>\n",
       "      <td>4522994</td>\n",
       "      <td>...</td>\n",
       "      <td>8753788</td>\n",
       "      <td>14181595</td>\n",
       "      <td>31.62</td>\n",
       "      <td>61.73</td>\n",
       "      <td>-30.11</td>\n",
       "      <td>California</td>\n",
       "      <td>6</td>\n",
       "      <td>CA</td>\n",
       "      <td>West</td>\n",
       "      <td>Pacific</td>\n",
       "    </tr>\n",
       "  </tbody>\n",
       "</table>\n",
       "<p>5 rows × 74 columns</p>\n",
       "</div>"
      ],
      "text/plain": [
       "      state_x state_po  state_fips  gop_1976_votes  dem_1976_votes  \\\n",
       "0     Alabama       AL           1          504070          659170   \n",
       "1      Alaska       AK           2           71555           44058   \n",
       "2     Arizona       AZ           4          418642          295602   \n",
       "3    Arkansas       AR           5          267903          498604   \n",
       "4  California       CA           6         3882244         3742284   \n",
       "\n",
       "   totalvotes_1976  gop_1976_prc  dem_1976_prc  gop_minus_dem_prc_1976  \\\n",
       "0          1182850         42.61         55.73                  -13.12   \n",
       "1           123574         57.90         35.65                   22.25   \n",
       "2           742719         56.37         39.80                   16.57   \n",
       "3           767535         34.90         64.96                  -30.06   \n",
       "4          7803770         49.75         47.95                    1.80   \n",
       "\n",
       "   gop_1980_votes  ...  dem_2016_votes  totalvotes_2016  gop_2016_prc  \\\n",
       "0          654192  ...          729547          2123372         62.08   \n",
       "1           86112  ...          116454           318608         51.28   \n",
       "2          529688  ...         1161167          2573165         48.67   \n",
       "3          403164  ...          380494          1130635         60.57   \n",
       "4         4522994  ...         8753788         14181595         31.62   \n",
       "\n",
       "   dem_2016_prc  gop_minus_dem_prc_2016     state_y  fips  code  region  \\\n",
       "0         34.36                   27.72     Alabama     1    AL   South   \n",
       "1         36.55                   14.73      Alaska     2    AK    West   \n",
       "2         45.13                    3.54     Arizona     4    AZ    West   \n",
       "3         33.65                   26.92    Arkansas     5    AR   South   \n",
       "4         61.73                  -30.11  California     6    CA    West   \n",
       "\n",
       "             division  \n",
       "0  East South Central  \n",
       "1             Pacific  \n",
       "2            Mountain  \n",
       "3  West South Central  \n",
       "4             Pacific  \n",
       "\n",
       "[5 rows x 74 columns]"
      ]
     },
     "execution_count": 56,
     "metadata": {},
     "output_type": "execute_result"
    }
   ],
   "source": [
    "# Sometimes our fields don't have the same name.  Notice that it's \"state_fips\" in the election data, but \"fips\" on\n",
    "# the state group data.  In this case we specify \"left_on\" and \"right_on\", instead of \"on\"\n",
    "\n",
    "url = 'https://raw.githubusercontent.com/thomaspingel/geodata/master/election/state_election_data_1976-2016.csv'\n",
    "election_df = pd.read_csv(url)\n",
    "url = 'https://raw.githubusercontent.com/thomaspingel/geodata/master/state_groups.csv'\n",
    "state_groups = pd.read_csv(url)\n",
    "\n",
    "df = election_df.merge(state_groups,how='left',left_on='state_fips',right_on='fips')\n",
    "df.head()"
   ]
  },
  {
   "cell_type": "markdown",
   "metadata": {},
   "source": [
    "### Join Repair for FIPS codes"
   ]
  },
  {
   "cell_type": "markdown",
   "metadata": {},
   "source": [
    "Fips codes are particularly prone to being read as integers rather than strings, with leading zeros being omitted.  Sometimes this won't break your data (there isn't a difference here between 1 and 01, for instance) but it can be a particular problem if one FIPS was read as a string (with leading zeros included) and one FIPS code as an integer (with leading zeros omitted)."
   ]
  },
  {
   "cell_type": "code",
   "execution_count": 57,
   "metadata": {},
   "outputs": [],
   "source": [
    "# One way to fix this is by reading them in correctly, by specifying the dtype flag on read:\n",
    "\n",
    "url = 'https://raw.githubusercontent.com/thomaspingel/geodata/master/election/state_election_data_1976-2016.csv'\n",
    "election_df = pd.read_csv(url,dtype={'state_fips':str})\n",
    "url = 'https://raw.githubusercontent.com/thomaspingel/geodata/master/state_groups.csv'\n",
    "state_groups = pd.read_csv(url,dtype={'fips':str})\n",
    "\n",
    "df = election_df.merge(state_groups,how='left',left_on='state_fips',right_on='fips')"
   ]
  },
  {
   "cell_type": "code",
   "execution_count": 58,
   "metadata": {},
   "outputs": [
    {
     "name": "stdout",
     "output_type": "stream",
     "text": [
      "Before Repair:\n",
      "state                  Alabama\n",
      "fips                         1\n",
      "code                        AL\n",
      "region                   South\n",
      "division    East South Central\n",
      "Name: 0, dtype: object\n",
      "After repair:\n",
      "state                  Alabama\n",
      "fips                        01\n",
      "code                        AL\n",
      "region                   South\n",
      "division    East South Central\n",
      "Name: 0, dtype: object\n"
     ]
    }
   ],
   "source": [
    "# Alternatively if one has been read in, and you just want to repair, the python function zfill will do the job.\n",
    "# The argument for zfill specifies how many digits it should be, so it knows how many zeroes to pad with.\n",
    "\n",
    "# Reading the data in, but intentionally reading in one as a string and one as an int\n",
    "url = 'https://raw.githubusercontent.com/thomaspingel/geodata/master/election/state_election_data_1976-2016.csv'\n",
    "election_df = pd.read_csv(url,dtype={'state_fips':str})\n",
    "url = 'https://raw.githubusercontent.com/thomaspingel/geodata/master/state_groups.csv'\n",
    "state_groups = pd.read_csv(url,dtype={'fips':int})\n",
    "\n",
    "# Cast to a string\n",
    "state_groups['fips'] = state_groups.fips.astype(str)\n",
    "\n",
    "print('Before Repair:')\n",
    "print(state_groups.iloc[0])\n",
    "\n",
    "# And then apply zfill to make 2 digits\n",
    "state_groups['fips'] = state_groups.fips.str.zfill(2)\n",
    "print('After repair:')\n",
    "print(state_groups.iloc[0])\n"
   ]
  },
  {
   "cell_type": "markdown",
   "metadata": {},
   "source": [
    "### Using a join to drive a group analysis"
   ]
  },
  {
   "cell_type": "code",
   "execution_count": 59,
   "metadata": {},
   "outputs": [
    {
     "data": {
      "image/png": "[encoded data removed]",
      "text/plain": [
       "<Figure size 432x288 with 1 Axes>"
      ]
     },
     "metadata": {
      "needs_background": "light"
     },
     "output_type": "display_data"
    }
   ],
   "source": [
    "# With this, you can run a simple analysis:\n",
    "\n",
    "grp = df.groupby(by='region')\n",
    "sums = grp.sum()\n",
    "plt.bar(sums.index,100 * sums.gop_2016_votes / sums.totalvotes_2016)\n",
    "_ = plt.ylabel('GOP vote %')"
   ]
  },
  {
   "cell_type": "markdown",
   "metadata": {},
   "source": [
    "## Manufacturing DataFrames"
   ]
  },
  {
   "cell_type": "code",
   "execution_count": 60,
   "metadata": {},
   "outputs": [
    {
     "data": {
      "text/plain": [
       "[<matplotlib.lines.Line2D at 0x215168123c8>]"
      ]
     },
     "execution_count": 60,
     "metadata": {},
     "output_type": "execute_result"
    },
    {
     "data": {
      "image/png": "[encoded data removed]",
      "text/plain": [
       "<Figure size 432x288 with 1 Axes>"
      ]
     },
     "metadata": {
      "needs_background": "light"
     },
     "output_type": "display_data"
    }
   ],
   "source": [
    "# Sometimes it's nice to be able to make a dataframe for testing:\n",
    "\n",
    "n = 1000\n",
    "\n",
    "y = 180*np.random.rand(n) - 90    # latitude?\n",
    "x = 360*np.random.rand(n) - 180   # longitude? \n",
    "df = pd.DataFrame(data={'latitude':y,'longitude':x})\n",
    "plt.plot(df.longitude,df.latitude,'m^')"
   ]
  }
 ],
 "metadata": {
  "kernelspec": {
   "display_name": "Python 3",
   "language": "python",
   "name": "python3"
  },
  "language_info": {
   "codemirror_mode": {
    "name": "ipython",
    "version": 3
   },
   "file_extension": ".py",
   "mimetype": "text/x-python",
   "name": "python",
   "nbconvert_exporter": "python",
   "pygments_lexer": "ipython3",
   "version": "3.7.4"
  }
 },
 "nbformat": 4,
 "nbformat_minor": 2
}
