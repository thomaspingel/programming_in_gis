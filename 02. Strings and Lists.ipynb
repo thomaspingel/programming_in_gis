{
 "cells": [
  {
   "cell_type": "markdown",
   "metadata": {},
   "source": [
    "# Strings"
   ]
  },
  {
   "cell_type": "markdown",
   "metadata": {},
   "source": [
    "<font color=\"red\">Strings</font> are collections of <font color=\"red\">characters</font>.  \n",
    "A character is any specific letter, number, or symbol.  \"a\"  \"6\" and \"%\" are all characters, for instance."
   ]
  },
  {
   "cell_type": "code",
   "execution_count": null,
   "metadata": {
    "collapsed": true
   },
   "outputs": [],
   "source": [
    "s = \"Hello World\""
   ]
  },
  {
   "cell_type": "code",
   "execution_count": null,
   "metadata": {
    "collapsed": true
   },
   "outputs": [],
   "source": [
    "# You can use either single or double quotes, but don't mix them!\n",
    "s = \"Hello World\"\n",
    "t = 'Hello World'"
   ]
  },
  {
   "cell_type": "markdown",
   "metadata": {},
   "source": [
    "The plus sign adds two numbers together.  For strings, it <font color=\"red\">concatenates</font> them, or sticks one on the end of the other."
   ]
  },
  {
   "cell_type": "code",
   "execution_count": null,
   "metadata": {
    "collapsed": false
   },
   "outputs": [],
   "source": [
    "a = \"Hello\"\n",
    "b = \"World\"\n",
    "c = a + b\n",
    "print(c)\n",
    "\n",
    "# or without variables:\n",
    "print(\"Hello\" + \"World\")\n",
    "\n",
    "# Notice that there isn't a space between these words.\n",
    "# Play along!  Why not?"
   ]
  },
  {
   "cell_type": "code",
   "execution_count": null,
   "metadata": {
    "collapsed": true
   },
   "outputs": [],
   "source": [
    "# Play along!  Use concatenation (with or without variables) to create/print 5 strings."
   ]
  },
  {
   "cell_type": "code",
   "execution_count": null,
   "metadata": {
    "collapsed": true
   },
   "outputs": [],
   "source": [
    "# In addition to addition, you can use a multiplication to add multiple \"copies\" of a string.\n",
    "\n",
    "a = \"yes \"\n",
    "b = 3*a\n",
    "print(b)"
   ]
  },
  {
   "cell_type": "code",
   "execution_count": 7,
   "metadata": {
    "collapsed": false
   },
   "outputs": [
    {
     "name": "stdout",
     "output_type": "stream",
     "text": [
      "I think that I shall never see\n",
      "A poem as lovely as a tree.\n"
     ]
    }
   ],
   "source": [
    "# ***\n",
    "# There are a number of special characters in Python, and you have to indicate these in a special way.\n",
    "#\n",
    "# One way is to use a backslash before the character like this:\n",
    "stanza = \"I think that I shall never see\\nA poem as lovely as a tree.\"\n",
    "print(stanza)\n",
    "\n",
    "# In this case the \"\\n\" indicates a \"newline character\" and acts to \"break\" the string\n",
    "# onto the next line.  Sometimes \"\\r\" is used in addition to, or instead of the newline character\n",
    "# https://en.wikipedia.org/wiki/Newline"
   ]
  },
  {
   "cell_type": "code",
   "execution_count": 9,
   "metadata": {
    "collapsed": false
   },
   "outputs": [
    {
     "name": "stdout",
     "output_type": "stream",
     "text": [
      "²\n"
     ]
    }
   ],
   "source": [
    "# Python has access to all the UTF-8 characters (https://en.wikipedia.org/wiki/UTF-8) as well\n",
    "# making it possible to write characters in different languages, mathematical formulae, etc.\n",
    "\n",
    "# This is the character for superscript 2 (like an exponent)\n",
    "ss2 = u\"\\u00B2\"\n",
    "print(ss2)"
   ]
  },
  {
   "cell_type": "code",
   "execution_count": 11,
   "metadata": {
    "collapsed": false
   },
   "outputs": [
    {
     "name": "stdout",
     "output_type": "stream",
     "text": [
      "2² = 4\n"
     ]
    }
   ],
   "source": [
    "# Notice that the embedding is similar.  A \"u\" precedes the string definition, and the backslash-u\n",
    "# is used to \"escape\" to a unicode, 4-character definition.  Here's how you could use it:\n",
    "formula = u\"2\\u00B2 = 4\"\n",
    "print(formula)"
   ]
  },
  {
   "cell_type": "code",
   "execution_count": null,
   "metadata": {
    "collapsed": true
   },
   "outputs": [],
   "source": [
    "# When you need special characters, you can Google for them.  I found this one here:\n",
    "# http://www.fileformat.info/info/unicode/char/b2/index.htm\n",
    "# Which includes \"Python Source Code\" that you can copy and paste\n",
    "\n",
    "# Play along!\n",
    "# Define a python string that includes:\n",
    "# \"enye\" the spanish n with a tilde over it: https://en.wikipedia.org/wiki/%C3%91"
   ]
  },
  {
   "cell_type": "code",
   "execution_count": 23,
   "metadata": {
    "collapsed": false
   },
   "outputs": [
    {
     "name": "stdout",
     "output_type": "stream",
     "text": [
      "John Snow says, \"Winter is Coming.\"\n"
     ]
    }
   ],
   "source": [
    "# ***\n",
    "# You can even put quotation marks in your string, but you have to play a bit:\n",
    "quote = 'John Snow says, \"Winter is Coming.\"'\n",
    "print(quote)"
   ]
  },
  {
   "cell_type": "markdown",
   "metadata": {},
   "source": [
    "## Built in String Methods\n",
    "Strings are actually <font color=\"red\">objects</font>, and have <font color=\"red\">methods</font> attached to them.  Methods are a lot like functions - they perform a specific task.\n",
    "\n",
    "You can access these methods by using the period (or <font color=\"red\">dot</font>).  Some methods take variables as input (parameters) but some methods don't.\n",
    "\n",
    "Calling a method usually looks like this:\n",
    "<B>object.method(variable1,variable2)</b>\n",
    "<BR>or like this, if it doesn't require any information:\n",
    "<B>object.method()</b>"
   ]
  },
  {
   "cell_type": "code",
   "execution_count": null,
   "metadata": {
    "collapsed": false
   },
   "outputs": [],
   "source": [
    "# Here's an example:\n",
    "a = \"Hello\"\n",
    "a.swapcase()"
   ]
  },
  {
   "cell_type": "code",
   "execution_count": null,
   "metadata": {
    "collapsed": false
   },
   "outputs": [],
   "source": [
    "# And two more, each wrapped in a print statement\n",
    "print(a.lower())\n",
    "print(a.upper())"
   ]
  },
  {
   "cell_type": "code",
   "execution_count": null,
   "metadata": {
    "collapsed": true
   },
   "outputs": [],
   "source": [
    "# Play along!  In your own words, what did each of these three string methods do?"
   ]
  },
  {
   "cell_type": "code",
   "execution_count": null,
   "metadata": {
    "collapsed": true
   },
   "outputs": [],
   "source": [
    "# Play along!  Use each of these three string methods on a string you define."
   ]
  },
  {
   "cell_type": "markdown",
   "metadata": {},
   "source": [
    "# Indexing"
   ]
  },
  {
   "cell_type": "markdown",
   "metadata": {},
   "source": [
    "You can grab (or <font color=\"red\">slice</font>) parts of a string by using its <font color=\"red\">index</font>.\n",
    "\n",
    "Like most languages, Python is <font color=\"red\">zero-based</font>, meaning the first item in a list, array, etc., has the number ZERO, not ONE.\n",
    "\n",
    "H E L L O\n",
    "<p>0 1 2 3 4\n",
    "\n",
    "H is the 0th character here, O is the 4th, etc."
   ]
  },
  {
   "cell_type": "code",
   "execution_count": null,
   "metadata": {
    "collapsed": false
   },
   "outputs": [],
   "source": [
    "# You can find out how many characters are in a string by using the len() function.\n",
    "\n",
    "x = \"cat\"\n",
    "len(x)"
   ]
  },
  {
   "cell_type": "code",
   "execution_count": null,
   "metadata": {
    "collapsed": false
   },
   "outputs": [],
   "source": [
    "x = \"supercalifragilisticexpialidocious\"\n",
    "len(x)"
   ]
  },
  {
   "cell_type": "code",
   "execution_count": null,
   "metadata": {
    "collapsed": true
   },
   "outputs": [],
   "source": [
    "# Play along!  Define three strings, each a short sentence, and find out how long they are."
   ]
  },
  {
   "cell_type": "code",
   "execution_count": null,
   "metadata": {
    "collapsed": false
   },
   "outputs": [],
   "source": [
    "my_string = \"The lazy dog jumped over the quick brown fox.\"\n",
    "print(len(my_string))"
   ]
  },
  {
   "cell_type": "markdown",
   "metadata": {},
   "source": [
    "## How to index\n",
    "\n",
    "Use <font color=\"red\">square brackets</font> to index into a string:"
   ]
  },
  {
   "cell_type": "code",
   "execution_count": null,
   "metadata": {
    "collapsed": false
   },
   "outputs": [],
   "source": [
    "x = \"Hello\"\n",
    "\n",
    "# Grab the 0th character\n",
    "x[0]"
   ]
  },
  {
   "cell_type": "code",
   "execution_count": null,
   "metadata": {
    "collapsed": false
   },
   "outputs": [],
   "source": [
    "# Grab the 4th character\n",
    "x[4]"
   ]
  },
  {
   "cell_type": "code",
   "execution_count": null,
   "metadata": {
    "collapsed": false
   },
   "outputs": [],
   "source": [
    "# Keep in mind that while indexes are zero-based, lengths are not!\n",
    "# \"Hello\" has five characters:\n",
    "len(\"Hello\")"
   ]
  },
  {
   "cell_type": "code",
   "execution_count": null,
   "metadata": {
    "collapsed": false
   },
   "outputs": [],
   "source": [
    "# But you can't grab the \"5th\" character, because it doesn't exist!\n",
    "\"Hello\"[5]"
   ]
  },
  {
   "cell_type": "code",
   "execution_count": null,
   "metadata": {
    "collapsed": true
   },
   "outputs": [],
   "source": [
    "# Note the error you're getting: \"String index out of range\"\n",
    "# This is an easy mistake to make, and you'll probably make it often.\n",
    "\n",
    "# Play along!  Make three of these errors on purpose."
   ]
  },
  {
   "cell_type": "code",
   "execution_count": null,
   "metadata": {
    "collapsed": false
   },
   "outputs": [],
   "source": [
    "# Play along!\n",
    "# Define a string of 10-15 characters, and grab specific characters using zero or positive integer\n",
    "# indices (0, 5, 7, etc.)\n",
    "# Be sure you know which letter you're trying to grab!  If I define:\n",
    "a = \"Billy_Goat.\"\n",
    "# I might say, I want to grab the \"y\"\n",
    "print(a[5])\n",
    "# Oops, I missed!  I forgot Python is zero based.  Let me try again:\n",
    "(a[4])\n",
    "# Much better!\n"
   ]
  },
  {
   "cell_type": "code",
   "execution_count": null,
   "metadata": {
    "collapsed": false
   },
   "outputs": [],
   "source": [
    "# Negative numbers can also be used to index, they just reference from the \"back\" of the string\n",
    "# Negative one will grab the last character, for example.\n",
    "\n",
    "x = \"Hello\"\n",
    "x[-1]"
   ]
  },
  {
   "cell_type": "code",
   "execution_count": null,
   "metadata": {
    "collapsed": false
   },
   "outputs": [],
   "source": [
    "# -5 will grab the fifth character from the back.  Note that from this end, Python IS effectively\n",
    "# ONE-BASED.\n",
    "x[-5]"
   ]
  },
  {
   "cell_type": "code",
   "execution_count": null,
   "metadata": {
    "collapsed": true
   },
   "outputs": [],
   "source": [
    "# Play along!  Define a string of 10-15 characters, and use negative indices 5 five \n",
    "# times to grab characters based on their distance from the end of the string."
   ]
  },
  {
   "cell_type": "code",
   "execution_count": null,
   "metadata": {
    "collapsed": false
   },
   "outputs": [],
   "source": [
    "# You can also grab RANGES of data, using the COLON operator\n",
    "x = \"Pickle_Rick\"\n",
    "print(x[2:6])\n",
    "\n",
    "# This grabs from the 2nd character ('c') UP TO BUT NOT INCLUDING the 6th character ('_')\n",
    "# in other words, the 2nd, 3rd, 4th, and 5th characters.\n",
    "#\n",
    "# The UP TO BUT NOT INLUDING part is tricky, and easy to forget.  That's why we practice!"
   ]
  },
  {
   "cell_type": "code",
   "execution_count": null,
   "metadata": {
    "collapsed": true
   },
   "outputs": [],
   "source": [
    "# Play along!  Define a longish string, and print out five SLICES that you take from it."
   ]
  },
  {
   "cell_type": "code",
   "execution_count": null,
   "metadata": {
    "collapsed": true
   },
   "outputs": [],
   "source": [
    "# You don't have to fill in both sides of the colon.  If you leave the last one off,\n",
    "# it'll SLICE to the end.  If you leave the first one blank, it'll SLICE from the beginning.\n",
    "\n",
    "# Play along!  Define a string, and slice from the beginning and end.\n",
    "# What happens if you don't fill in either side of the colon?"
   ]
  },
  {
   "cell_type": "code",
   "execution_count": null,
   "metadata": {
    "collapsed": false
   },
   "outputs": [],
   "source": [
    "# STEPS\n",
    "# You can also define a STEP value, to grab every second character, or every third, and so on:\n",
    "\n",
    "# As before:\n",
    "# the index to the right of the colon is the START and\n",
    "# the second index is the STOP\n",
    "# The third is the STEP\n",
    "\n",
    "a = 'abcdefghijklmnopqrstuvwxyz'\n",
    "print(a[0:-1:2])"
   ]
  },
  {
   "cell_type": "code",
   "execution_count": null,
   "metadata": {
    "collapsed": true
   },
   "outputs": [],
   "source": [
    "# Play along!  Can you modify this code to grab every third character?  Every fifth?"
   ]
  },
  {
   "cell_type": "code",
   "execution_count": 13,
   "metadata": {
    "collapsed": false
   },
   "outputs": [
    {
     "name": "stdout",
     "output_type": "stream",
     "text": [
      "['afkpuz']\n"
     ]
    }
   ],
   "source": [
    "# If you just want to grab every nth character, you don't need to fill in the START or STOP, just\n",
    "# the STEP.\n",
    "#\n",
    "# It's a handy shortcut!\n",
    "\n",
    "a = 'abcdefghijklmnopqrstuvwxyz'\n",
    "print([a[::5]])"
   ]
  },
  {
   "cell_type": "code",
   "execution_count": null,
   "metadata": {
    "collapsed": false
   },
   "outputs": [],
   "source": [
    "# What happens if your second value (the STOP) is too long?  \n",
    "a = 'Pickle_Rick'\n",
    "print(a[0:999])"
   ]
  },
  {
   "cell_type": "code",
   "execution_count": null,
   "metadata": {
    "collapsed": true
   },
   "outputs": [],
   "source": [
    "# Play along!  \n",
    "# How is this behavior different than what we saw before?  \n",
    "# What happens if you try to grab ONLY the 999th character?"
   ]
  },
  {
   "cell_type": "code",
   "execution_count": null,
   "metadata": {
    "collapsed": false
   },
   "outputs": [],
   "source": [
    "# So far we've grabbed regular patterns, but what if we want some specific characters?\n",
    "x = \"The lazy dog jumped over the quick brown fox.\"\n",
    "x[4,15,16]"
   ]
  },
  {
   "cell_type": "code",
   "execution_count": null,
   "metadata": {
    "collapsed": false
   },
   "outputs": [],
   "source": [
    "# This doesn't work, but we can use a built in tool to do it.\n",
    "\n",
    "# First, we IMPORT the tool, which is found in the OPERATOR package\n",
    "from operator import itemgetter\n",
    "\n",
    "# Then we can use the tool to grab what we want\n",
    "x = \"The lazy dog jumped over the quick brown fox.\"\n",
    "itemgetter(4,15,16)(x)\n",
    "\n",
    "# This doesn't need to make a lot of sense yet!  This is just good to have seen once, and I'm leaving\n",
    "# it here for when you might need it later."
   ]
  },
  {
   "cell_type": "markdown",
   "metadata": {},
   "source": [
    "## Strings are immutable\n",
    "\n",
    "Unlike <font color=\"red\">lists</font>, which we'll see in a moment, strings cannot be changed directly. "
   ]
  },
  {
   "cell_type": "code",
   "execution_count": null,
   "metadata": {
    "collapsed": false
   },
   "outputs": [],
   "source": [
    "a = \"heblo\"\n",
    "# This won't work, for example:\n",
    "a[2] = \"l\""
   ]
  },
  {
   "cell_type": "code",
   "execution_count": null,
   "metadata": {
    "collapsed": false
   },
   "outputs": [],
   "source": [
    "# As we've seen, you can use the DOT OPERATOR to transform a string\n",
    "# \n",
    "\n",
    "a = 'hello'\n",
    "print(a.capitalize())\n",
    "\n",
    "# But notice that it doesn't change the original string:\n",
    "print(a)\n",
    "\n",
    "# To make this change \"stick\", you need to reassign back to the original (or new) variable\n",
    "a = a.capitalize()\n",
    "print(a)"
   ]
  },
  {
   "cell_type": "code",
   "execution_count": null,
   "metadata": {
    "collapsed": false
   },
   "outputs": [],
   "source": [
    "# Play along!  \n",
    "# First take a look at this page:\n",
    "# https://docs.python.org/3.6/library/stdtypes.html#textseq\n",
    "# \n",
    "# What google search terms could you use to find that page?  (Try it out, don't just guess!)\n",
    "\n",
    "# Now, define a string with 10-15 characters.  Use three methods (see below)\n",
    "# you haven't yet used to transform\n",
    "# the string using syntax like: x= x.method() and print it out.  See the example:\n",
    "a = \"My feet are cold.\"\n",
    "a = a.title()\n",
    "print(a)\n",
    "\n",
    "# In three codeblocks, demonstrate \"replace\", \"capitalize\", and \"upper\""
   ]
  },
  {
   "cell_type": "code",
   "execution_count": null,
   "metadata": {
    "collapsed": false
   },
   "outputs": [],
   "source": [
    "# Play along!\n",
    "\n",
    "# Many of the methods here are useful for returning a boolean, testing whether something is true:\n",
    "\n",
    "print(\"5\".isdigit())\n",
    "print(\"a\".isdigit())\n"
   ]
  },
  {
   "cell_type": "code",
   "execution_count": null,
   "metadata": {
    "collapsed": false
   },
   "outputs": [],
   "source": [
    "print(\" \".isspace())\n",
    "print(\"q\".isspace())"
   ]
  },
  {
   "cell_type": "code",
   "execution_count": null,
   "metadata": {
    "collapsed": true
   },
   "outputs": [],
   "source": [
    "# Play along!  Demonstrate 2 more \"is\" methods here"
   ]
  },
  {
   "cell_type": "code",
   "execution_count": null,
   "metadata": {
    "collapsed": false
   },
   "outputs": [],
   "source": [
    "# Many methods are also useful to search for substrings:\n",
    "\n",
    "pets = \"cat, dog, rat, bear\"\n",
    "\n",
    "# One easy one is the IN operator\n",
    "\"bear\" in pets"
   ]
  },
  {
   "cell_type": "code",
   "execution_count": null,
   "metadata": {
    "collapsed": false
   },
   "outputs": [],
   "source": [
    "# You can check at the end, or the beginning:\n",
    "pets.endswith(\"bear\")"
   ]
  },
  {
   "cell_type": "code",
   "execution_count": null,
   "metadata": {
    "collapsed": false
   },
   "outputs": [],
   "source": [
    "pets.startswith(\"dog\")"
   ]
  },
  {
   "cell_type": "code",
   "execution_count": null,
   "metadata": {
    "collapsed": false
   },
   "outputs": [],
   "source": [
    "# Sometimes user input can be unreliable, especially with capitalization.  See this example:\n",
    "\n",
    "x = input(\"What is your quest?\")\n",
    "print(\"You said your quest was to: \",x)\n",
    "\n",
    "if \"grail\" in x.lower():\n",
    "    print(\"Enter!\")\n",
    "else:\n",
    "    print(\"You are thrown off the bridge.\")\n",
    "    \n",
    "# Play along!  Why is it helpful to have the \"lower\" method here?\n"
   ]
  },
  {
   "cell_type": "code",
   "execution_count": null,
   "metadata": {
    "collapsed": false
   },
   "outputs": [],
   "source": [
    "# You can import the \"string\" module to get access to some useful strings.\n",
    "# These predefined strings are examples of CONSTANTS, or variables that have been defined but will\n",
    "# not change.  There are many constants already defined for you!\n",
    "\n",
    "import string\n",
    "all_the_digits = string.digits\n",
    "print(all_the_digits)"
   ]
  },
  {
   "cell_type": "code",
   "execution_count": null,
   "metadata": {
    "collapsed": true
   },
   "outputs": [],
   "source": [
    "# Play along!  What kinds of constants (for example \"pi\") might you need at some point?\n",
    "# Name three.  (You don't need to find them.)"
   ]
  },
  {
   "cell_type": "markdown",
   "metadata": {},
   "source": [
    "# Lists"
   ]
  },
  {
   "cell_type": "markdown",
   "metadata": {},
   "source": [
    "<Font color=\"red\">Lists</font> are ordered sequences of values.  These are often numbers, but can be characters, strings, booleans, or any other objects.  <font color=\"red\">Square brackets</font> mark them, and individual values are separated by commas."
   ]
  },
  {
   "cell_type": "code",
   "execution_count": null,
   "metadata": {
    "collapsed": false
   },
   "outputs": [],
   "source": [
    "# List examples:\n",
    "x = [5,1,9,10,12]\n",
    "print(x)\n",
    "\n",
    "x = ['Sam',4,\"cat\",True]\n",
    "print(x)"
   ]
  },
  {
   "cell_type": "code",
   "execution_count": null,
   "metadata": {
    "collapsed": true
   },
   "outputs": [],
   "source": [
    "# Play along!  Define five lists."
   ]
  },
  {
   "cell_type": "code",
   "execution_count": null,
   "metadata": {
    "collapsed": false
   },
   "outputs": [],
   "source": [
    "# Strings and lists are related!  A string is just a sequence of characters, after all.\n",
    "p = \"Thomas\"\n",
    "q = ['T','h','o','m','a','s']\n",
    "print(p)\n",
    "print(q)"
   ]
  },
  {
   "cell_type": "code",
   "execution_count": null,
   "metadata": {
    "collapsed": false
   },
   "outputs": [],
   "source": [
    "# It's easy to turn a string into a list:\n",
    "name = 'Thomas'\n",
    "name_as_list = list(name)\n",
    "print(name)\n",
    "print(name_as_list)"
   ]
  },
  {
   "cell_type": "code",
   "execution_count": null,
   "metadata": {
    "collapsed": true
   },
   "outputs": [],
   "source": [
    "# Play along!\n",
    "# What is casting?  Look back in your notes, and write code to cast \"5\" as a float.\n",
    "\n",
    "# How is what we just saw with changing a string to a list like casting?"
   ]
  },
  {
   "cell_type": "code",
   "execution_count": null,
   "metadata": {
    "collapsed": false
   },
   "outputs": [],
   "source": [
    "# You can go the other way, too, but the syntax is odd.\n",
    "# You take an empty string, and join the list you want to turn into a string\n",
    "x = ['c','a','t']\n",
    "print(x)\n",
    "x = ''.join(x)\n",
    "print(x)"
   ]
  },
  {
   "cell_type": "code",
   "execution_count": null,
   "metadata": {
    "collapsed": false
   },
   "outputs": [],
   "source": [
    "# This may not be doing what you think.  Try this:\n",
    "# **x = ['c','a','t']\n",
    "x = 'x'.join(x)\n",
    "print(x)\n",
    "\n",
    "# Play along!\n",
    "# In your own words, what did this do?"
   ]
  },
  {
   "cell_type": "code",
   "execution_count": 15,
   "metadata": {
    "collapsed": false
   },
   "outputs": [
    {
     "name": "stdout",
     "output_type": "stream",
     "text": [
      "['My', 'name', 'is', 'Luka.', 'I', 'live', 'on', 'the', 'second', 'floor.']\n"
     ]
    }
   ],
   "source": [
    "# ***\n",
    "# One particularly handy method to turn strings into lists is the \"split\" method.\n",
    "# \n",
    "# In this case, you give the method a character (or string) you'd like to use as a \n",
    "# DELIMITER, and it will cut there like scissors, with each piece of the string an element in \n",
    "# list.\n",
    "# \n",
    "# For those of you with programming experience, this is a string tokenizer.\n",
    "# (A TOKEN is a piece of the list.)\n",
    "\n",
    "a = \"My name is Luka. I live on the second floor.\"\n",
    "a_in_pieces = a.split(\" \")  # Using the space character (\" \") as a delimiter\n",
    "print(a_in_pieces)"
   ]
  },
  {
   "cell_type": "code",
   "execution_count": 16,
   "metadata": {
    "collapsed": false
   },
   "outputs": [
    {
     "name": "stdout",
     "output_type": "stream",
     "text": [
      "['My', 'name', 'is', 'Luka.', '', 'I', 'live', 'on', 'the', 'second', 'floor.']\n"
     ]
    }
   ],
   "source": [
    "# Notice that here I've put in two spaces after the period\n",
    "# Play along!\n",
    "# What happens when you split it?  How is it different than the previous example?\n",
    "a = \"My name is Luka.  I live on the second floor.\""
   ]
  },
  {
   "cell_type": "code",
   "execution_count": 19,
   "metadata": {
    "collapsed": false
   },
   "outputs": [
    {
     "name": "stdout",
     "output_type": "stream",
     "text": [
      "['Milk', 'eggs', 'butter', 'bread']\n"
     ]
    }
   ],
   "source": [
    "# You can use other characters, or even multiple characters to split:\n",
    "\n",
    "groceries = 'Milk, eggs, butter, bread'\n",
    "grocery_list = groceries.split(', ')  # Here I split on a comma FOLLOWED BY a space\n",
    "print(grocery_list)"
   ]
  },
  {
   "cell_type": "code",
   "execution_count": null,
   "metadata": {
    "collapsed": false
   },
   "outputs": [],
   "source": [
    "# We don't typically create lists manually, though.  We'll often use other functions to make \n",
    "# a bit list of numbers all at once.  We'll use NUMPY to do that soon, but for now, we'll use \n",
    "# range\n",
    "x = list(range(0,10))\n",
    "print(x)"
   ]
  },
  {
   "cell_type": "code",
   "execution_count": null,
   "metadata": {
    "collapsed": false
   },
   "outputs": [],
   "source": [
    "# Range works exactly like indexing, but instead of colons, you use commas.  \n",
    "# range(START, STOP, STEP).  With no step, 1 is assumed.\n",
    "x = list(range(5,12))\n",
    "print(x)\n",
    "y = list(range(3,21,3))\n",
    "print(y)"
   ]
  },
  {
   "cell_type": "code",
   "execution_count": null,
   "metadata": {
    "collapsed": true
   },
   "outputs": [],
   "source": [
    "# Play along!  \n",
    "# Use range to define 5 lists of numbers, and play with start, stop, and step.\n",
    "# Be sure to check to see if they match your expectation!"
   ]
  },
  {
   "cell_type": "code",
   "execution_count": null,
   "metadata": {
    "collapsed": true
   },
   "outputs": [],
   "source": [
    "# Play along!\n",
    "# What is the output of this code?  Write your answer before you run the codeblock\n",
    "\n",
    "x = list(range(5,6,11))\n",
    "print(x)"
   ]
  },
  {
   "cell_type": "code",
   "execution_count": null,
   "metadata": {
    "collapsed": false
   },
   "outputs": [],
   "source": [
    "# Lists are easy to modify.  We can change specific values:\n",
    "\n",
    "x = [0,1,99,3,4]\n",
    "print(x)\n",
    "x[2] = 2\n",
    "print(x)"
   ]
  },
  {
   "cell_type": "code",
   "execution_count": null,
   "metadata": {
    "collapsed": false
   },
   "outputs": [],
   "source": [
    "# We can also APPEND and EXTEND lists\n",
    "\n",
    "x = [0,2,4]\n",
    "print(x)\n",
    "x.append(6)\n",
    "print(x)"
   ]
  },
  {
   "cell_type": "code",
   "execution_count": null,
   "metadata": {
    "collapsed": false
   },
   "outputs": [],
   "source": [
    "# What happens here?\n",
    "x = [0,2,4]\n",
    "print(x)\n",
    "x.append([6,8,10])\n",
    "print(x)\n",
    "\n",
    "# Play along!  \n",
    "# What is the length of this list?\n",
    "# \n",
    "# What happened?"
   ]
  },
  {
   "cell_type": "code",
   "execution_count": null,
   "metadata": {
    "collapsed": false
   },
   "outputs": [],
   "source": [
    "# In this case, you want to use EXTEND, not APPEND:\n",
    "x = [0,2,4]\n",
    "print(x)\n",
    "x.extend([6,8,10])\n",
    "print(x)\n",
    "print(len(x))"
   ]
  },
  {
   "cell_type": "code",
   "execution_count": null,
   "metadata": {
    "collapsed": false
   },
   "outputs": [],
   "source": [
    "# Notice that the format for extending strings and lists are different:\n",
    "\n",
    "# For a list:\n",
    "my_list = list(range(10))\n",
    "# Since you're operating on the list itself, you just extend it.\n",
    "my_list.extend(list(range(10,20)))\n",
    "print(my_list)\n",
    "\n",
    "# But for a string, it's different.  Remember, strings are IMMUTABLE so you have to do\n",
    "# something like this\n",
    "my_string = 'Super'\n",
    "my_string = my_string + ' Duper'\n",
    "print(my_string)"
   ]
  },
  {
   "cell_type": "code",
   "execution_count": null,
   "metadata": {
    "collapsed": true
   },
   "outputs": [],
   "source": [
    "# What happens if you try that on a list?\n",
    "\n",
    "# Compare this:\n",
    "my_list = list(range(10))\n",
    "my_list.extend(list(range(10,20)))\n",
    "print('Example 1:')\n",
    "print(my_list)\n",
    "\n",
    "# With this:\n",
    "my_list = list(range(10))\n",
    "my_list = my_list.extend(list(range(10,20)))\n",
    "print('Example 2:')\n",
    "print(my_list)\n",
    "\n",
    "# Play along!\n",
    "# What's different about these two sections?  \n",
    "# Did it work?"
   ]
  },
  {
   "cell_type": "code",
   "execution_count": null,
   "metadata": {
    "collapsed": false
   },
   "outputs": [],
   "source": [
    "# As with strings, you can use IN to test membership\n",
    "\n",
    "x = [6,3,9,11]\n",
    "\n",
    "print(3 in x)\n",
    "print(77 in x)"
   ]
  },
  {
   "cell_type": "markdown",
   "metadata": {},
   "source": [
    "# Equality and Objects"
   ]
  },
  {
   "cell_type": "code",
   "execution_count": null,
   "metadata": {
    "collapsed": false
   },
   "outputs": [],
   "source": [
    "# For simple variables I can do something like this:\n",
    "\n",
    "x = 5\n",
    "y = x  # y now has the value of x (5)\n",
    "\n",
    "# If I add five to x:\n",
    "x = x + 5\n",
    "\n",
    "# x is now 10, but y is still 5\n",
    "print(x)\n",
    "print(y)"
   ]
  },
  {
   "cell_type": "code",
   "execution_count": null,
   "metadata": {
    "collapsed": false
   },
   "outputs": [],
   "source": [
    "# But watch what happens when I do the same to a list:\n",
    "\n",
    "x = [4,9,10]\n",
    "y = x\n",
    "\n",
    "x.append(15)\n",
    "\n",
    "print(x)\n",
    "print(y)\n",
    "\n",
    "# If things worked as they did with simple variables, x would have \"15\" on the end\n",
    "# but Y wouldnt.  \n",
    "#\n",
    "# The reason is that objects work differently than simple variables.\n",
    "# When you use \"equals\", it doesn't COPY the value, it POINTS TO the value.\n",
    "# \n",
    "# It isn't a copy, it's a REFERENCE.  (\"What I do to Trump, I also do to The President.\")"
   ]
  },
  {
   "cell_type": "code",
   "execution_count": null,
   "metadata": {
    "collapsed": false
   },
   "outputs": [],
   "source": [
    "# If you want to make a copy, you have to use the copy() METHOD:\n",
    "\n",
    "x = [1,2,3]\n",
    "y = x.copy()\n",
    "\n",
    "x.append(8)\n",
    "\n",
    "print(x)\n",
    "print(y)"
   ]
  },
  {
   "cell_type": "code",
   "execution_count": null,
   "metadata": {
    "collapsed": true
   },
   "outputs": [],
   "source": [
    "# Play along!\n",
    "# Using the 11 methods below, demonstrate how each works, complete with a description.\n",
    "# You'll need to look these up! https://docs.python.org/3/tutorial/datastructures.html as a start.\n",
    "# Each should be in its own codeblock.\n",
    "# append, extend, insert, remove, pop, clear, index, count, sort, reverse, copy"
   ]
  },
  {
   "cell_type": "code",
   "execution_count": null,
   "metadata": {
    "collapsed": true
   },
   "outputs": [],
   "source": [
    "# Play along!\n",
    "# Answer these questions:\n",
    "# What is the difference between extend and append?\n",
    "# When would you want to use copy?  (Why can’t you just say: list_b = list_a?)\n",
    "# What happens when you use index and the item you’re looking for isn’t there?  "
   ]
  }
 ],
 "metadata": {
  "anaconda-cloud": {},
  "kernelspec": {
   "display_name": "Python [conda root]",
   "language": "python",
   "name": "conda-root-py"
  },
  "language_info": {
   "codemirror_mode": {
    "name": "ipython",
    "version": 3
   },
   "file_extension": ".py",
   "mimetype": "text/x-python",
   "name": "python",
   "nbconvert_exporter": "python",
   "pygments_lexer": "ipython3",
   "version": "3.5.2"
  }
 },
 "nbformat": 4,
 "nbformat_minor": 1
}
