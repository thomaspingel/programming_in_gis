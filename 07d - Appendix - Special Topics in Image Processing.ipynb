{
 "cells": [
  {
   "cell_type": "code",
   "execution_count": 1,
   "id": "e96bfe19",
   "metadata": {},
   "outputs": [],
   "source": [
    "import numpy as np\n",
    "\n",
    "from skimage.util import view_as_blocks\n",
    "from skimage.transform import rescale, resize, downscale_local_mean\n",
    "from skimage.measure import block_reduce"
   ]
  },
  {
   "cell_type": "markdown",
   "id": "e5f5d265",
   "metadata": {},
   "source": [
    "# Resizing\n",
    "\n",
    "Broadly speaking, resizing an image can either work as an interpolator or an aggregator.  Many functions are available in Python to do this including:\n",
    "\n",
    "* [Numpy-based methods](https://www.w3resource.com/python-exercises/numpy/python-numpy-exercise-191.php)\n",
    "* [OpenCV's resize](https://www.tutorialkart.com/opencv/python/opencv-python-resize-image/)\n",
    "* Skimage's [rescale](https://scikit-image.org/docs/stable/api/skimage.transform.html#skimage.transform.rescale), [resize](https://scikit-image.org/docs/stable/api/skimage.transform.html#skimage.transform.resize), [downscale_local_mean](https://scikit-image.org/docs/stable/api/skimage.transform.html#skimage.transform.downscale_local_mean), [block_reduce](https://scikit-image.org/docs/stable/api/skimage.measure.html#skimage.measure.block_reduce)\n",
    "* Ndimage's [zoom](https://docs.scipy.org/doc/scipy/reference/generated/scipy.ndimage.zoom.html)\n",
    "* Scipy's [decimate](https://docs.scipy.org/doc/scipy/reference/generated/scipy.signal.decimate.html) and [resample](https://docs.scipy.org/doc/scipy/reference/generated/scipy.signal.resample.html#scipy.signal.resample)\n",
    "* Rasterio's [resample](https://rasterio.readthedocs.io/en/stable/topics/resampling.html) tools"
   ]
  },
  {
   "cell_type": "markdown",
   "id": "c18f324e",
   "metadata": {},
   "source": [
    "# Block Sum"
   ]
  },
  {
   "cell_type": "code",
   "execution_count": 9,
   "id": "a5de2c4c",
   "metadata": {},
   "outputs": [
    {
     "data": {
      "text/plain": [
       "array([[25., 25., 25., 25., 25.],\n",
       "       [25., 25., 25., 25., 25.],\n",
       "       [25., 25., 25., 25., 25.],\n",
       "       [25., 25., 25., 25., 25.],\n",
       "       [25., 25., 25., 25., 25.]])"
      ]
     },
     "execution_count": 9,
     "metadata": {},
     "output_type": "execute_result"
    }
   ],
   "source": [
    "# Using skimage.measure.block_reduce\n",
    "\n",
    "pixels = np.ones((25,25))\n",
    "block_reduce(pixels, block_size=(5,5), func=np.sum)"
   ]
  },
  {
   "cell_type": "code",
   "execution_count": 4,
   "id": "5b0f2097",
   "metadata": {},
   "outputs": [
    {
     "name": "stdout",
     "output_type": "stream",
     "text": [
      "[[25. 25. 25. 25. 25.]\n",
      " [25. 25. 25. 25. 25.]\n",
      " [25. 25. 25. 25. 25.]\n",
      " [25. 25. 25. 25. 25.]\n",
      " [25. 25. 25. 25. 25.]]\n"
     ]
    }
   ],
   "source": [
    "# Using numpy\n",
    "\n",
    "arra1 = np.ones((25,25))\n",
    "k = 5\n",
    "\n",
    "result = np.add.reduceat(np.add.reduceat(arra1, np.arange(0, arra1.shape[0], k), axis=0),\n",
    "                                      np.arange(0, arra1.shape[1], k), axis=1)\n",
    "print(result)"
   ]
  },
  {
   "cell_type": "code",
   "execution_count": 5,
   "id": "6bc55e2d",
   "metadata": {},
   "outputs": [
    {
     "name": "stdout",
     "output_type": "stream",
     "text": [
      "[[25. 25. 25. 25. 25.]\n",
      " [25. 25. 25. 25. 25.]\n",
      " [25. 25. 25. 25. 25.]\n",
      " [25. 25. 25. 25. 25.]\n",
      " [25. 25. 25. 25. 25.]]\n"
     ]
    }
   ],
   "source": [
    "# Using skimage.util.view_as_blocks\n",
    "\n",
    "pixels = np.ones((25,25))\n",
    "block_size = (5, 5)\n",
    "blocks = view_as_blocks(pixels, block_size)\n",
    "block_sum = np.sum(blocks,axis=(0,1))\n",
    "\n",
    "print(block_sum)"
   ]
  },
  {
   "cell_type": "code",
   "execution_count": 7,
   "id": "fd83da56",
   "metadata": {},
   "outputs": [
    {
     "name": "stdout",
     "output_type": "stream",
     "text": [
      "[[1. 1. 1. 1. 1.]\n",
      " [1. 1. 1. 1. 1.]\n",
      " [1. 1. 1. 1. 1.]\n",
      " [1. 1. 1. 1. 1.]\n",
      " [1. 1. 1. 1. 1.]]\n",
      "[[25. 25. 25. 25. 25.]\n",
      " [25. 25. 25. 25. 25.]\n",
      " [25. 25. 25. 25. 25.]\n",
      " [25. 25. 25. 25. 25.]\n",
      " [25. 25. 25. 25. 25.]]\n"
     ]
    }
   ],
   "source": [
    "# Using skimage.transform.downscale_local_mean\n",
    "\n",
    "pixels = np.ones((25,25))\n",
    "\n",
    "block_size = (5, 5)\n",
    "block_average = downscale_local_mean(pixels,block_size)\n",
    "print(block_average)\n",
    "\n",
    "# Of course the average is related to the sum!\n",
    "print(np.prod(block_size)*block_average)"
   ]
  },
  {
   "cell_type": "markdown",
   "id": "082e240f",
   "metadata": {},
   "source": [
    "In a netcdf:\n",
    "    \n",
    "~~~\n",
    "image = rioxarray.open_rasterio(fn).squeeze(drop=True)\n",
    "pixels = (image.data).astype(float)\n",
    "pixels[pixels==-1] = np.nan\n",
    "\n",
    "block_size = (10, 10)\n",
    "blocks = view_as_blocks(pixels, block_size)\n",
    "block_sum = np.sum(blocks, axis=(2, 3))\n",
    "~~~"
   ]
  }
 ],
 "metadata": {
  "kernelspec": {
   "display_name": "Python 3 (ipykernel)",
   "language": "python",
   "name": "python3"
  },
  "language_info": {
   "codemirror_mode": {
    "name": "ipython",
    "version": 3
   },
   "file_extension": ".py",
   "mimetype": "text/x-python",
   "name": "python",
   "nbconvert_exporter": "python",
   "pygments_lexer": "ipython3",
   "version": "3.9.12"
  }
 },
 "nbformat": 4,
 "nbformat_minor": 5
}
