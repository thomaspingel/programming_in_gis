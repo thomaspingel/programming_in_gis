{
 "cells": [
  {
   "cell_type": "code",
   "execution_count": 3,
   "id": "e96bfe19",
   "metadata": {},
   "outputs": [],
   "source": [
    "import numpy as np\n",
    "\n",
    "from skimage.util import view_as_blocks\n",
    "from skimage.transform import rescale, resize, downscale_local_mean\n",
    "from skimage.measure import block_reduce"
   ]
  },
  {
   "cell_type": "markdown",
   "id": "e5f5d265",
   "metadata": {},
   "source": [
    "# Resizing\n",
    "\n",
    "Broadly speaking, resizing an image can either work as an interpolator or an aggregator.  Many functions are available in Python to do this including:\n",
    "\n",
    "* [OpenCV's resize](https://www.tutorialkart.com/opencv/python/opencv-python-resize-image/)\n",
    "* Skimage's [rescale](https://scikit-image.org/docs/stable/api/skimage.transform.html#skimage.transform.rescale), [resize](https://scikit-image.org/docs/stable/api/skimage.transform.html#skimage.transform.resize), [downscale_local_mean](https://scikit-image.org/docs/stable/api/skimage.transform.html#skimage.transform.downscale_local_mean), [block_reduce](https://scikit-image.org/docs/stable/api/skimage.measure.html#skimage.measure.block_reduce)\n",
    "* Ndimage's [zoom](https://docs.scipy.org/doc/scipy/reference/generated/scipy.ndimage.zoom.html)\n",
    "* Scipy's [decimate](https://docs.scipy.org/doc/scipy/reference/generated/scipy.signal.decimate.html) and [resample](https://docs.scipy.org/doc/scipy/reference/generated/scipy.signal.resample.html#scipy.signal.resample)\n",
    "* Rasterio's [resample](https://rasterio.readthedocs.io/en/stable/topics/resampling.html) tools"
   ]
  },
  {
   "cell_type": "markdown",
   "id": "2b82064a",
   "metadata": {},
   "source": [
    "# Block Sum\n",
    "\n",
    "A block sum adds the values in an array with a given shape"
   ]
  },
  {
   "cell_type": "code",
   "execution_count": 14,
   "id": "6bc55e2d",
   "metadata": {},
   "outputs": [],
   "source": [
    "# As a simple example, take a 25x25 array of ones.\n",
    "\n",
    "pixels = np.ones((25,25))\n",
    "\n",
    "block_size = (5, 5)\n",
    "blocks = view_as_blocks(pixels, block_size)\n",
    "block_sum = np.sum(blocks,axis=(0,1))"
   ]
  },
  {
   "cell_type": "code",
   "execution_count": 15,
   "id": "11e55bd7",
   "metadata": {},
   "outputs": [
    {
     "data": {
      "text/plain": [
       "array([[25., 25., 25., 25., 25.],\n",
       "       [25., 25., 25., 25., 25.],\n",
       "       [25., 25., 25., 25., 25.],\n",
       "       [25., 25., 25., 25., 25.],\n",
       "       [25., 25., 25., 25., 25.]])"
      ]
     },
     "execution_count": 15,
     "metadata": {},
     "output_type": "execute_result"
    }
   ],
   "source": [
    "block_sum"
   ]
  },
  {
   "cell_type": "markdown",
   "id": "082e240f",
   "metadata": {},
   "source": [
    "In a netcdf:\n",
    "    \n",
    "~~~\n",
    "image = rioxarray.open_rasterio(fn).squeeze(drop=True)\n",
    "pixels = (image.data).astype(float)\n",
    "pixels[pixels==-1] = np.nan\n",
    "\n",
    "block_size = (10, 10)\n",
    "blocks = view_as_blocks(pixels, block_size)\n",
    "block_sum = np.sum(blocks, axis=(2, 3))\n",
    "~~~"
   ]
  },
  {
   "cell_type": "markdown",
   "id": "b8d71d89",
   "metadata": {},
   "source": [
    "# skimage downscaled_local_mean\n",
    "\n",
    "scikit image can provide a [downscaled local mean](https://scikit-image.org/docs/stable/api/skimage.transform.html#skimage.transform.downscale_local_mean), and related a [rescale](https://scikit-image.org/docs/stable/api/skimage.transform.html#skimage.transform.rescale) and [resize](https://scikit-image.org/docs/stable/api/skimage.transform.html#skimage.transform.resize)."
   ]
  },
  {
   "cell_type": "code",
   "execution_count": 18,
   "id": "933a4a60",
   "metadata": {},
   "outputs": [
    {
     "name": "stdout",
     "output_type": "stream",
     "text": [
      "[[1. 1. 1. 1. 1.]\n",
      " [1. 1. 1. 1. 1.]\n",
      " [1. 1. 1. 1. 1.]\n",
      " [1. 1. 1. 1. 1.]\n",
      " [1. 1. 1. 1. 1.]]\n"
     ]
    }
   ],
   "source": [
    "pixels = np.ones((25,25))\n",
    "\n",
    "block_size = (5, 5)\n",
    "block_average = downscale_local_mean(pixels,block_size)\n",
    "print(block_average)"
   ]
  },
  {
   "cell_type": "code",
   "execution_count": 20,
   "id": "6d431042",
   "metadata": {},
   "outputs": [
    {
     "name": "stdout",
     "output_type": "stream",
     "text": [
      "[[25. 25. 25. 25. 25.]\n",
      " [25. 25. 25. 25. 25.]\n",
      " [25. 25. 25. 25. 25.]\n",
      " [25. 25. 25. 25. 25.]\n",
      " [25. 25. 25. 25. 25.]]\n"
     ]
    }
   ],
   "source": [
    "# Of course the average is related to the sum!\n",
    "\n",
    "print(np.prod(block_size)*block_average)"
   ]
  },
  {
   "cell_type": "markdown",
   "id": "b1d6a45d",
   "metadata": {},
   "source": [
    "## Block Reduce"
   ]
  },
  {
   "cell_type": "code",
   "execution_count": 4,
   "id": "e23c3607",
   "metadata": {},
   "outputs": [
    {
     "data": {
      "text/plain": [
       "array([[25., 25., 25., 25., 25.],\n",
       "       [25., 25., 25., 25., 25.],\n",
       "       [25., 25., 25., 25., 25.],\n",
       "       [25., 25., 25., 25., 25.],\n",
       "       [25., 25., 25., 25., 25.]])"
      ]
     },
     "execution_count": 4,
     "metadata": {},
     "output_type": "execute_result"
    }
   ],
   "source": [
    "from skimage.measure import block_reduce\n",
    "\n",
    "pixels = np.ones((25,25))\n",
    "block_reduce(pixels, block_size=(5,5), func=np.sum)"
   ]
  },
  {
   "cell_type": "code",
   "execution_count": null,
   "id": "f8956f46",
   "metadata": {},
   "outputs": [],
   "source": []
  }
 ],
 "metadata": {
  "kernelspec": {
   "display_name": "Python 3 (ipykernel)",
   "language": "python",
   "name": "python3"
  },
  "language_info": {
   "codemirror_mode": {
    "name": "ipython",
    "version": 3
   },
   "file_extension": ".py",
   "mimetype": "text/x-python",
   "name": "python",
   "nbconvert_exporter": "python",
   "pygments_lexer": "ipython3",
   "version": "3.9.0"
  }
 },
 "nbformat": 4,
 "nbformat_minor": 5
}
