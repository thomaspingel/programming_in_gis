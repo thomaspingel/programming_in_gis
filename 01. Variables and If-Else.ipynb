{
 "cells": [
  {
   "cell_type": "markdown",
   "metadata": {},
   "source": [
    "Welcome to the first Jupyter notebook.  We're going to go over some basic concepts surrounding variables and if/else structures."
   ]
  },
  {
   "cell_type": "markdown",
   "metadata": {},
   "source": [
    "# Variables"
   ]
  },
  {
   "cell_type": "markdown",
   "metadata": {},
   "source": [
    "<font color=\"red\">Variables</font> are the primary way we store information in memory.  Variable assignment in Python is very easy!"
   ]
  },
  {
   "cell_type": "code",
   "execution_count": null,
   "metadata": {
    "collapsed": true
   },
   "outputs": [],
   "source": [
    "# This is a comment.  It's preceded by the # character, which tells the interpreter not to run\n",
    "# it as code.  This is a handy way to annotate your work.  Comments work everywhere, but Markdown\n",
    "# Code is only for your Jupyter Notebooks."
   ]
  },
  {
   "cell_type": "code",
   "execution_count": 1,
   "metadata": {
    "collapsed": true
   },
   "outputs": [],
   "source": [
    "# You can assign data to variables like so:\n",
    "\n",
    "x = 5"
   ]
  },
  {
   "cell_type": "code",
   "execution_count": 2,
   "metadata": {
    "collapsed": false
   },
   "outputs": [
    {
     "name": "stdout",
     "output_type": "stream",
     "text": [
      "5\n"
     ]
    }
   ],
   "source": [
    "# One common way to check the contents of a variable (to see its value) is to print it out\n",
    "\n",
    "print(x)"
   ]
  },
  {
   "cell_type": "markdown",
   "metadata": {},
   "source": [
    "You can assign some basic kinds of information types to a variable.  Very commonly, we use:\n",
    "<font color=\"red\">Integers</font> - Positive or negative whole numbers\n",
    "<font color=\"red\">Floats</font> - Positive or negative decimal numbers\n",
    "<font color=\"red\">Strings</font> - Text like the word \"dog\" or \"five\" or even \"5\". \n",
    "<font color=\"red\">Booleans</font> - True or False values, equivalent to 1 and 0 or colloquially, \"yes\" or \"no\"\n"
   ]
  },
  {
   "cell_type": "code",
   "execution_count": 3,
   "metadata": {
    "collapsed": true
   },
   "outputs": [],
   "source": [
    "# Here are some examples:\n",
    "\n",
    "a = 5\n",
    "b = 123.123123\n",
    "c = \"Fred\"\n",
    "d = True"
   ]
  },
  {
   "cell_type": "code",
   "execution_count": null,
   "metadata": {
    "collapsed": true
   },
   "outputs": [],
   "source": [
    "# Play Along!\n",
    "# Try printing each of the variables above here:\n"
   ]
  },
  {
   "cell_type": "markdown",
   "metadata": {},
   "source": [
    "In Python, you don't have to explicitly declare what kind of a variable it is.  Python will guess based on what you give it, and store it as the appropriate type (integer, float, string, or boolean).  You can use the <font color=\"red\">type</font> command to see:"
   ]
  },
  {
   "cell_type": "code",
   "execution_count": 5,
   "metadata": {
    "collapsed": false
   },
   "outputs": [
    {
     "data": {
      "text/plain": [
       "str"
      ]
     },
     "execution_count": 5,
     "metadata": {},
     "output_type": "execute_result"
    }
   ],
   "source": [
    "name = \"Fred\"\n",
    "type(name)"
   ]
  },
  {
   "cell_type": "code",
   "execution_count": null,
   "metadata": {
    "collapsed": true
   },
   "outputs": [],
   "source": [
    "# In this case, the variable \"name\" has a value of \"Fred\" which is a string.\n",
    "\n",
    "# Play Along!\n",
    "# Try defining 6 variables here, and find out what their type is."
   ]
  },
  {
   "cell_type": "code",
   "execution_count": 1,
   "metadata": {
    "collapsed": false
   },
   "outputs": [
    {
     "name": "stdout",
     "output_type": "stream",
     "text": [
      "a was of type <class 'str'>\n",
      "b was of type <class 'int'>\n",
      "c was of type <class 'float'>\n",
      "d was of type <class 'float'>\n"
     ]
    }
   ],
   "source": [
    "# Play Along!\n",
    "\n",
    "# Add a comment above each line indicating what you think each type will be.  Don't run the code until\n",
    "# you've made a guess!\n",
    "\n",
    "a = \"five\"\n",
    "print(\"a was of type\",type(a))\n",
    "\n",
    "b = 5\n",
    "print(\"b was of type\",type(b))\n",
    "\n",
    "c = 5.0\n",
    "print(\"c was of type\",type(c))\n",
    "\n",
    "d = 5.\n",
    "print(\"d was of type\",type(d))\n",
    "\n",
    "# Were your guesses right?  If not, write a short statement about what you learned."
   ]
  },
  {
   "cell_type": "markdown",
   "metadata": {},
   "source": [
    "You can force Python into using a specific datatype.\n",
    "This is called <font color=\"red\">casting</font> (like pouring molten metal into a plaster cast to make it take a shape):"
   ]
  },
  {
   "cell_type": "code",
   "execution_count": 12,
   "metadata": {
    "collapsed": false
   },
   "outputs": [
    {
     "data": {
      "text/plain": [
       "float"
      ]
     },
     "execution_count": 12,
     "metadata": {},
     "output_type": "execute_result"
    }
   ],
   "source": [
    "# This is an int\n",
    "x = 5\n",
    "type(x)\n",
    "\n",
    "# This will force Python to store it as a float\n",
    "x = float(5)\n",
    "type(x)\n",
    "\n",
    "# Play along!\n",
    "# Can you force Python to store 5 as a string?"
   ]
  },
  {
   "cell_type": "code",
   "execution_count": 11,
   "metadata": {
    "collapsed": false
   },
   "outputs": [],
   "source": [
    "# Play Along!\n",
    "# You can't cast everything, though.  What happens if you try to cast the string \"cat\" as a int?\n"
   ]
  },
  {
   "cell_type": "code",
   "execution_count": 13,
   "metadata": {
    "collapsed": true
   },
   "outputs": [],
   "source": [
    "#Variables don't need to be just a single character.  In fact, in many cases, they shouldn't be!  \n",
    "#Try to use descriptive names:\n",
    "\n",
    "my_name = \"Thomas Pingel\"\n",
    "your_name = \"Ted Theodore Logan\"\n",
    "my_favorite_number = 5\n",
    "likes_pizza = True\n",
    "dollars_in_pocket = 12.45"
   ]
  },
  {
   "cell_type": "code",
   "execution_count": 14,
   "metadata": {
    "collapsed": false
   },
   "outputs": [
    {
     "ename": "SyntaxError",
     "evalue": "invalid syntax (<ipython-input-14-76f071cb55a6>, line 6)",
     "output_type": "error",
     "traceback": [
      "\u001b[0;36m  File \u001b[0;32m\"<ipython-input-14-76f071cb55a6>\"\u001b[0;36m, line \u001b[0;32m6\u001b[0m\n\u001b[0;31m    0_car = \"Ferrari\"\u001b[0m\n\u001b[0m        ^\u001b[0m\n\u001b[0;31mSyntaxError\u001b[0m\u001b[0;31m:\u001b[0m invalid syntax\n"
     ]
    }
   ],
   "source": [
    "# There are a few rules.  You can use numbers in the variable name, but you can't start with them.\n",
    "\n",
    "# This works:\n",
    "car_0 = \"Ferrari\"\n",
    "\n",
    "# But this doesn't:\n",
    "0_car = \"Ferrari\""
   ]
  },
  {
   "cell_type": "code",
   "execution_count": 16,
   "metadata": {
    "collapsed": false
   },
   "outputs": [
    {
     "name": "stdout",
     "output_type": "stream",
     "text": [
      "The Three Musketeers\n"
     ]
    },
    {
     "ename": "NameError",
     "evalue": "name 'my_favorite_book' is not defined",
     "output_type": "error",
     "traceback": [
      "\u001b[0;31m---------------------------------------------------------------------------\u001b[0m",
      "\u001b[0;31mNameError\u001b[0m                                 Traceback (most recent call last)",
      "\u001b[0;32m<ipython-input-16-41fd3dab1240>\u001b[0m in \u001b[0;36m<module>\u001b[0;34m()\u001b[0m\n\u001b[1;32m      6\u001b[0m \u001b[1;33m\u001b[0m\u001b[0m\n\u001b[1;32m      7\u001b[0m \u001b[1;31m# But I need to make sure my case is right, or it won't work:\u001b[0m\u001b[1;33m\u001b[0m\u001b[1;33m\u001b[0m\u001b[0m\n\u001b[0;32m----> 8\u001b[0;31m \u001b[0mprint\u001b[0m\u001b[1;33m(\u001b[0m\u001b[0mmy_favorite_book\u001b[0m\u001b[1;33m)\u001b[0m\u001b[1;33m\u001b[0m\u001b[0m\n\u001b[0m",
      "\u001b[0;31mNameError\u001b[0m: name 'my_favorite_book' is not defined"
     ]
    }
   ],
   "source": [
    "# You can start with a capital letter, but variables are case sensitive:\n",
    "\n",
    "# This variable name works just fine:\n",
    "My_favorite_book = \"The Three Musketeers\"\n",
    "print(My_favorite_book)\n",
    "\n",
    "# But I need to make sure my case is right, or it won't work:\n",
    "print(my_favorite_book)"
   ]
  },
  {
   "cell_type": "code",
   "execution_count": 17,
   "metadata": {
    "collapsed": false
   },
   "outputs": [
    {
     "name": "stdout",
     "output_type": "stream",
     "text": [
      "5\n",
      "6\n"
     ]
    }
   ],
   "source": [
    "# So \"x\" and \"X\" are entirely different variables:\n",
    "\n",
    "x = 5\n",
    "X = 6\n",
    "\n",
    "print(x)\n",
    "print(X)"
   ]
  },
  {
   "cell_type": "markdown",
   "metadata": {},
   "source": [
    "# Operating on Variables - Arithmetic"
   ]
  },
  {
   "cell_type": "markdown",
   "metadata": {},
   "source": [
    "Python can do simple arithmetic without needing to <font color=\"red\">import</font> any other modules.  Plus and minus work on numbers like you'd expect."
   ]
  },
  {
   "cell_type": "markdown",
   "metadata": {},
   "source": [
    "## Plus and Minus"
   ]
  },
  {
   "cell_type": "code",
   "execution_count": 18,
   "metadata": {
    "collapsed": false
   },
   "outputs": [
    {
     "name": "stdout",
     "output_type": "stream",
     "text": [
      "12\n"
     ]
    }
   ],
   "source": [
    "print(5 + 7)"
   ]
  },
  {
   "cell_type": "code",
   "execution_count": 19,
   "metadata": {
    "collapsed": false
   },
   "outputs": [
    {
     "name": "stdout",
     "output_type": "stream",
     "text": [
      "7\n"
     ]
    }
   ],
   "source": [
    "# Spacing sometimes matters, and sometimes doesn't.  You'll get the hang of it.  This works just fine.\n",
    "print(10-3)"
   ]
  },
  {
   "cell_type": "code",
   "execution_count": 20,
   "metadata": {
    "collapsed": false
   },
   "outputs": [
    {
     "name": "stdout",
     "output_type": "stream",
     "text": [
      "7\n"
     ]
    }
   ],
   "source": [
    "# And you can do the same thing with variables:\n",
    "a = 10\n",
    "b = 3\n",
    "print(a - b)"
   ]
  },
  {
   "cell_type": "code",
   "execution_count": 21,
   "metadata": {
    "collapsed": false
   },
   "outputs": [
    {
     "name": "stdout",
     "output_type": "stream",
     "text": [
      "5\n"
     ]
    }
   ],
   "source": [
    "# Or you can use a combination of variables and numbers:\n",
    "print(a - 5)"
   ]
  },
  {
   "cell_type": "code",
   "execution_count": null,
   "metadata": {
    "collapsed": true
   },
   "outputs": [],
   "source": [
    "# Play along!\n",
    "# Write code to find out:\n",
    "\n",
    "# What is 234 plus 92834?\n",
    "# What is 999 minus 17?\n",
    "# What is 9234 plus 99 minus 77 plus 123 minus 84 minus 6?"
   ]
  },
  {
   "cell_type": "markdown",
   "metadata": {},
   "source": [
    "## Multiply and Divide"
   ]
  },
  {
   "cell_type": "code",
   "execution_count": 22,
   "metadata": {
    "collapsed": false
   },
   "outputs": [
    {
     "name": "stdout",
     "output_type": "stream",
     "text": [
      "32\n",
      "16.0\n"
     ]
    }
   ],
   "source": [
    "# We use the * character to multiply and the / character to divide:\n",
    "print(4*8)\n",
    "print(32/2)"
   ]
  },
  {
   "cell_type": "code",
   "execution_count": 26,
   "metadata": {
    "collapsed": false
   },
   "outputs": [
    {
     "name": "stdout",
     "output_type": "stream",
     "text": [
      "4.75\n",
      "4\n"
     ]
    }
   ],
   "source": [
    "# In Python 3, dividing two integers will yield a float, but be careful!  In Python 2\n",
    "# you would get an integer.  In this case, it would always round down.\n",
    "# \n",
    "# There are plenty of blog posts about this, such as \n",
    "# http://www.informit.com/articles/article.aspx?p=1439189\n",
    "# \n",
    "# It matters more for geographers, because ArcGIS Desktop still uses Python 2!\n",
    "#\n",
    "# You can see what the behavior is like by casting the decimal result as an int\n",
    "\n",
    "x = 57/12\n",
    "print(x)\n",
    "\n",
    "print(int(x))"
   ]
  },
  {
   "cell_type": "code",
   "execution_count": null,
   "metadata": {
    "collapsed": true
   },
   "outputs": [],
   "source": [
    "# Play along!\n",
    "# What happens if you cast 3.2 as an int?  What about 3.8?  Write a sentence or two\n",
    "# in your own words that describes what's going on."
   ]
  },
  {
   "cell_type": "markdown",
   "metadata": {},
   "source": [
    "## Exponentiation and Mod"
   ]
  },
  {
   "cell_type": "code",
   "execution_count": null,
   "metadata": {
    "collapsed": true
   },
   "outputs": [],
   "source": [
    "# Unlike a lot of other languages that use the \"caret\" symbol (^), Python uses two\n",
    "# asterisks to indicate an exponent:\n",
    "\n",
    "print(5**5)\n",
    "\n",
    "# Play along!\n",
    "# Solve five simple exponent problems here."
   ]
  },
  {
   "cell_type": "code",
   "execution_count": null,
   "metadata": {
    "collapsed": true
   },
   "outputs": [],
   "source": [
    "# Play along!\n",
    "# The exponents don't need to be whole numbers!  Try using decimals, especially decimals less than\n",
    "# one, to find square roots, cube roots, etc."
   ]
  },
  {
   "cell_type": "code",
   "execution_count": 27,
   "metadata": {
    "collapsed": false
   },
   "outputs": [
    {
     "name": "stdout",
     "output_type": "stream",
     "text": [
      "1\n",
      "0\n",
      "9\n"
     ]
    }
   ],
   "source": [
    "# You can find the remainder of a division problem by using the \"mod\" operator (%).  \n",
    "# You'll be surprised at how often this is useful in programming!\n",
    "\n",
    "# Run these and see if they make sense to you?\n",
    "print(9%2)\n",
    "print(9%3)\n",
    "print(100%13)"
   ]
  },
  {
   "cell_type": "code",
   "execution_count": null,
   "metadata": {
    "collapsed": true
   },
   "outputs": [],
   "source": [
    "# Play along! \n",
    "# What's the remainder of 123124 divided by 123?  999 by 2?  17 divided by 17?\n",
    "# Can the remainder ever be greater than the divisor?  Can it be equal to the divisor?  Why or why not?"
   ]
  },
  {
   "cell_type": "markdown",
   "metadata": {},
   "source": [
    "## Absolute Value"
   ]
  },
  {
   "cell_type": "code",
   "execution_count": 6,
   "metadata": {
    "collapsed": false
   },
   "outputs": [
    {
     "name": "stdout",
     "output_type": "stream",
     "text": [
      "abs():\n",
      "abs(-5) =  5\n",
      "abs(10-100) =  90\n"
     ]
    }
   ],
   "source": [
    "# There are plenty of other built in functions as well to perform calculations.  For a list, see\n",
    "# https://docs.python.org/3/library/functions.html\n",
    "\n",
    "# Here is one example:\n",
    "\n",
    "print('abs():')\n",
    "x = abs(-5)\n",
    "print('abs(-5) = ',x)\n",
    "\n",
    "x = abs(10-100)\n",
    "print('abs(10-100) = ',x)\n",
    "\n",
    "# Play along!  What does 'abs' do?"
   ]
  },
  {
   "cell_type": "code",
   "execution_count": 7,
   "metadata": {
    "collapsed": false
   },
   "outputs": [
    {
     "name": "stdout",
     "output_type": "stream",
     "text": [
      "33 1\n"
     ]
    }
   ],
   "source": [
    "# Play along!  Try using 'divmod', 'floor', 'ceil', and 'round', each in its own codeblock below.\n",
    "# Demonstrate their use (as above with 'abs'), and write a short sentance or two as a comment\n",
    "# in your own words describing what they do.  Note: divmod returns TWO pieces of information:\n",
    "\n",
    "a,b = divmod(100,3)\n",
    "print(a,b)"
   ]
  },
  {
   "cell_type": "markdown",
   "metadata": {},
   "source": [
    "## Operating on variables - comparisons"
   ]
  },
  {
   "cell_type": "markdown",
   "metadata": {},
   "source": [
    "Three commonly used operators are often use to test whether one variable is <font color=\"red\">greater than: ></font>, <font color=\"red\">less than: <</font>, or <font color=\"red\">equal to: ==</font> a second variable:"
   ]
  },
  {
   "cell_type": "code",
   "execution_count": 28,
   "metadata": {
    "collapsed": false
   },
   "outputs": [
    {
     "data": {
      "text/plain": [
       "True"
      ]
     },
     "execution_count": 28,
     "metadata": {},
     "output_type": "execute_result"
    }
   ],
   "source": [
    "5 < 7"
   ]
  },
  {
   "cell_type": "code",
   "execution_count": 29,
   "metadata": {
    "collapsed": false
   },
   "outputs": [
    {
     "data": {
      "text/plain": [
       "False"
      ]
     },
     "execution_count": 29,
     "metadata": {},
     "output_type": "execute_result"
    }
   ],
   "source": [
    "5 > 7"
   ]
  },
  {
   "cell_type": "code",
   "execution_count": 30,
   "metadata": {
    "collapsed": false
   },
   "outputs": [
    {
     "data": {
      "text/plain": [
       "True"
      ]
     },
     "execution_count": 30,
     "metadata": {},
     "output_type": "execute_result"
    }
   ],
   "source": [
    "# Notice that a test for equality requires two equal signs!\n",
    "# One equal sign is used, as we've seen before, to assign a value to a variable.\n",
    "5 == 5"
   ]
  },
  {
   "cell_type": "markdown",
   "metadata": {},
   "source": [
    "You can combine these to make \"greater than or equal to\", \"less than or equal to\", and use the \n",
    "exclamation point to test for inequality"
   ]
  },
  {
   "cell_type": "code",
   "execution_count": 32,
   "metadata": {
    "collapsed": false
   },
   "outputs": [
    {
     "name": "stdout",
     "output_type": "stream",
     "text": [
      "True\n",
      "True\n",
      "False\n"
     ]
    }
   ],
   "source": [
    "print(6 >= 5)\n",
    "print(6 >= 6)\n",
    "print(6 >= 7)"
   ]
  },
  {
   "cell_type": "code",
   "execution_count": null,
   "metadata": {
    "collapsed": true
   },
   "outputs": [],
   "source": [
    "# Play along!\n",
    "# Write 3 statements each to demonstrate (a) greater than or equal to, (b) less than or equal to\n",
    "# and (c) not equal to.  Put each one in a print statement as you see above."
   ]
  },
  {
   "cell_type": "code",
   "execution_count": 33,
   "metadata": {
    "collapsed": false
   },
   "outputs": [
    {
     "data": {
      "text/plain": [
       "True"
      ]
     },
     "execution_count": 33,
     "metadata": {},
     "output_type": "execute_result"
    }
   ],
   "source": [
    "# Of course, we typically do this with variables, and compare the variable state:\n",
    "\n",
    "a = 6\n",
    "b = 8\n",
    "a < b"
   ]
  },
  {
   "cell_type": "code",
   "execution_count": null,
   "metadata": {
    "collapsed": true
   },
   "outputs": [],
   "source": [
    "# Play along!\n",
    "# Defining the values of 3 variables, \n",
    "# and then write 10 comparisons each on its own codeblock"
   ]
  },
  {
   "cell_type": "markdown",
   "metadata": {},
   "source": [
    "## Multiple comparisons"
   ]
  },
  {
   "cell_type": "markdown",
   "metadata": {},
   "source": [
    "You can use the words \"and\" \"or\" and \"not\" to combine comparisons. \n",
    "\n",
    "AND: for an AND statement to evaluate True, both sides need to be True\n",
    "OR:  for an OR  statement to evaluate True, at least one side needs to be True\n",
    "\n",
    "NOT: for a NOT statement to evaluate True, it's enclosed statement needs to be False\n",
    "\n",
    "NOT acts like an inverter.  True becomes False, and False becomes True"
   ]
  },
  {
   "cell_type": "code",
   "execution_count": 34,
   "metadata": {
    "collapsed": false
   },
   "outputs": [
    {
     "data": {
      "text/plain": [
       "True"
      ]
     },
     "execution_count": 34,
     "metadata": {},
     "output_type": "execute_result"
    }
   ],
   "source": [
    "# Both of these are True, so it evaluates True:\n",
    "True and True"
   ]
  },
  {
   "cell_type": "code",
   "execution_count": 35,
   "metadata": {
    "collapsed": false
   },
   "outputs": [
    {
     "data": {
      "text/plain": [
       "False"
      ]
     },
     "execution_count": 35,
     "metadata": {},
     "output_type": "execute_result"
    }
   ],
   "source": [
    "# If one or both is False, AND will evaluate False\n",
    "True and False"
   ]
  },
  {
   "cell_type": "code",
   "execution_count": 36,
   "metadata": {
    "collapsed": false
   },
   "outputs": [
    {
     "data": {
      "text/plain": [
       "True"
      ]
     },
     "execution_count": 36,
     "metadata": {},
     "output_type": "execute_result"
    }
   ],
   "source": [
    "# If both sides of an OR are True, OR will evaluate True\n",
    "True or True"
   ]
  },
  {
   "cell_type": "code",
   "execution_count": 38,
   "metadata": {
    "collapsed": false
   },
   "outputs": [
    {
     "data": {
      "text/plain": [
       "True"
      ]
     },
     "execution_count": 38,
     "metadata": {},
     "output_type": "execute_result"
    }
   ],
   "source": [
    "# If at least one side is True, OR will evaluate True\n",
    "True or False"
   ]
  },
  {
   "cell_type": "code",
   "execution_count": 39,
   "metadata": {
    "collapsed": false
   },
   "outputs": [
    {
     "data": {
      "text/plain": [
       "False"
      ]
     },
     "execution_count": 39,
     "metadata": {},
     "output_type": "execute_result"
    }
   ],
   "source": [
    "# But if neither is True, OR will evaluate False\n",
    "False or False"
   ]
  },
  {
   "cell_type": "code",
   "execution_count": 40,
   "metadata": {
    "collapsed": false
   },
   "outputs": [
    {
     "data": {
      "text/plain": [
       "False"
      ]
     },
     "execution_count": 40,
     "metadata": {},
     "output_type": "execute_result"
    }
   ],
   "source": [
    "# NOT is an inverter.  True becomes False, and False becomes True\n",
    "not True"
   ]
  },
  {
   "cell_type": "code",
   "execution_count": 41,
   "metadata": {
    "collapsed": false
   },
   "outputs": [
    {
     "data": {
      "text/plain": [
       "True"
      ]
     },
     "execution_count": 41,
     "metadata": {},
     "output_type": "execute_result"
    }
   ],
   "source": [
    "not False"
   ]
  },
  {
   "cell_type": "code",
   "execution_count": null,
   "metadata": {
    "collapsed": true
   },
   "outputs": [],
   "source": [
    "# Try to guess what these evaluate to.  Write a comment with your guess before you run it!"
   ]
  },
  {
   "cell_type": "code",
   "execution_count": 42,
   "metadata": {
    "collapsed": false
   },
   "outputs": [
    {
     "data": {
      "text/plain": [
       "False"
      ]
     },
     "execution_count": 42,
     "metadata": {},
     "output_type": "execute_result"
    }
   ],
   "source": [
    "a = 7\n",
    "b = 10\n",
    "a < 7 and a > 7\n",
    "# My guess is: False"
   ]
  },
  {
   "cell_type": "code",
   "execution_count": null,
   "metadata": {
    "collapsed": true
   },
   "outputs": [],
   "source": [
    "a = 2\n",
    "b = 5\n",
    "c = 5\n",
    "a < b and c <= b\n",
    "# My guess is:"
   ]
  },
  {
   "cell_type": "code",
   "execution_count": null,
   "metadata": {
    "collapsed": true
   },
   "outputs": [],
   "source": [
    "name = \"Fred\"\n",
    "score = 9.8\n",
    "name == \"Fred\" and not score < 10\n",
    "# My guess is:"
   ]
  },
  {
   "cell_type": "code",
   "execution_count": null,
   "metadata": {
    "collapsed": true
   },
   "outputs": [],
   "source": [
    "# You can use parentheses just like in math to group items\n",
    "\n",
    "a = 2.2\n",
    "b = False\n",
    "\n",
    "a < 3 and (b==False and b!=True)\n",
    "\n",
    "# My guess is: "
   ]
  },
  {
   "cell_type": "code",
   "execution_count": null,
   "metadata": {
    "collapsed": true
   },
   "outputs": [],
   "source": [
    "a = 2.2\n",
    "b = False\n",
    "\n",
    "a > 3 or (b==False or b==True)\n",
    "\n",
    "# My guess is:"
   ]
  },
  {
   "cell_type": "code",
   "execution_count": 43,
   "metadata": {
    "collapsed": false
   },
   "outputs": [
    {
     "data": {
      "text/plain": [
       "False"
      ]
     },
     "execution_count": 43,
     "metadata": {},
     "output_type": "execute_result"
    }
   ],
   "source": [
    "# If a variable is a boolean, just writing it by itself with evaluate like \"==True\", in other words\n",
    "# it will just return its value\n",
    "\n",
    "a = True\n",
    "b = False\n",
    "\n",
    "a and b"
   ]
  },
  {
   "cell_type": "code",
   "execution_count": 44,
   "metadata": {
    "collapsed": false
   },
   "outputs": [
    {
     "data": {
      "text/plain": [
       "True"
      ]
     },
     "execution_count": 44,
     "metadata": {},
     "output_type": "execute_result"
    }
   ],
   "source": [
    "a or b"
   ]
  },
  {
   "cell_type": "code",
   "execution_count": 45,
   "metadata": {
    "collapsed": false
   },
   "outputs": [
    {
     "data": {
      "text/plain": [
       "False"
      ]
     },
     "execution_count": 45,
     "metadata": {},
     "output_type": "execute_result"
    }
   ],
   "source": [
    "a==True and b==True"
   ]
  },
  {
   "cell_type": "code",
   "execution_count": 46,
   "metadata": {
    "collapsed": false
   },
   "outputs": [
    {
     "data": {
      "text/plain": [
       "True"
      ]
     },
     "execution_count": 46,
     "metadata": {},
     "output_type": "execute_result"
    }
   ],
   "source": [
    "a==True or b==True"
   ]
  },
  {
   "cell_type": "code",
   "execution_count": null,
   "metadata": {
    "collapsed": true
   },
   "outputs": [],
   "source": [
    "# Play along!  \n",
    "# Write ten statements with 2 or more comparisons each.  Make sure YOU understand why they\n",
    "# evaluate the way they do"
   ]
  },
  {
   "cell_type": "markdown",
   "metadata": {},
   "source": [
    "# if statements"
   ]
  },
  {
   "cell_type": "markdown",
   "metadata": {},
   "source": [
    "<font color=\"red\">if statements</font> are used as control logic.  if the condition is true, it will execute some code, designated by indentation (in Python)"
   ]
  },
  {
   "cell_type": "code",
   "execution_count": 50,
   "metadata": {
    "collapsed": false
   },
   "outputs": [],
   "source": [
    "# Adjust the value of the variable in this code block to make the inner condition run\n",
    "a = 7\n",
    "if a < 5:\n",
    "    print(\"a is less than five!\")"
   ]
  },
  {
   "cell_type": "code",
   "execution_count": 51,
   "metadata": {
    "collapsed": false
   },
   "outputs": [
    {
     "name": "stdout",
     "output_type": "stream",
     "text": [
      "a is less than 10\n",
      "a is still less than 10!\n"
     ]
    }
   ],
   "source": [
    "# You can run more than one line of code.  In fact, you can run as much code as you wish!\n",
    "a = 5\n",
    "if a < 10:\n",
    "    print(\"a is less than 10\")\n",
    "    print(\"a is still less than 10!\")"
   ]
  },
  {
   "cell_type": "code",
   "execution_count": 56,
   "metadata": {
    "collapsed": false
   },
   "outputs": [
    {
     "name": "stdout",
     "output_type": "stream",
     "text": [
      "Your friend is Ted \n"
     ]
    }
   ],
   "source": [
    "# Any code not indented (or more acccurately, indented to the same degree as the if statement)\n",
    "# will run AFTER the if statement is through, no matter whether the if condition was True or False\n",
    "\n",
    "# First, set \"name\" equal to \"Sam\", and run.  Then...\n",
    "\n",
    "# Change name from \"Sam\" to your name and rerun it.  The second print statement ALWAYS runs, \n",
    "# because it's outside the \"if\" statement. But the first statement ONLY ones if name==\"Sam\".\n",
    "# Note that it is case sensitive!  \"sam\" won't work.\n",
    "\n",
    "name = \"\"   # <----- Fill in names here and \n",
    "friend = \"Ted\"\n",
    "if name == \"Sam\":\n",
    "    print(\"Your name is Sam!\")\n",
    "print(\"Your friend is\",friend,\"\")"
   ]
  },
  {
   "cell_type": "code",
   "execution_count": 60,
   "metadata": {
    "collapsed": false
   },
   "outputs": [
    {
     "name": "stdout",
     "output_type": "stream",
     "text": [
      "What's for dinner tonight? \n",
      "pizza !\n"
     ]
    }
   ],
   "source": [
    "# You can use \"if\" loops to do work, like change the values of a variable\n",
    "\n",
    "# Change the values of the variables here and rerun to understand what's going on in this code block\n",
    "\n",
    "dinner_tonight = \"ramen\"\n",
    "favorite_food = \"pizza\"\n",
    "money_in_pocket = 20\n",
    "\n",
    "if favorite_food==\"pizza\" and money_in_pocket > 15:\n",
    "    dinner_tonight = \"pizza\"\n",
    "\n",
    "print(\"What's for dinner tonight? \")\n",
    "print(dinner_tonight,\"!\")"
   ]
  },
  {
   "cell_type": "code",
   "execution_count": null,
   "metadata": {
    "collapsed": true
   },
   "outputs": [],
   "source": [
    "# Play along!\n",
    "# Write 3 \"if\" statements "
   ]
  },
  {
   "cell_type": "markdown",
   "metadata": {},
   "source": [
    "## What if not?  The \"else\" statement"
   ]
  },
  {
   "cell_type": "code",
   "execution_count": 62,
   "metadata": {
    "collapsed": false
   },
   "outputs": [
    {
     "name": "stdout",
     "output_type": "stream",
     "text": [
      "-4\n"
     ]
    }
   ],
   "source": [
    "a = 1\n",
    "b = 2\n",
    "if a > b:\n",
    "    a = a + 5\n",
    "else:\n",
    "    a = a - 5\n",
    "print(a)\n",
    "\n",
    "# Do you understand why this statement evaluates to a = -4?"
   ]
  },
  {
   "cell_type": "code",
   "execution_count": 70,
   "metadata": {
    "collapsed": false
   },
   "outputs": [
    {
     "name": "stdout",
     "output_type": "stream",
     "text": [
      "Rick and Morty for a Thousand Years!\n"
     ]
    }
   ],
   "source": [
    "# Edit name and grandson_name in this code block to help\n",
    "# you see how these cause the code to do one thing, or the other\n",
    "name = \"Rick\"\n",
    "grandson_name = \"Morty\"\n",
    "\n",
    "if name==\"Rick\" and grandson_name==\"Morty\":\n",
    "    print(\"Rick and Morty for a Thousand Years!\")\n",
    "else:\n",
    "    print(\"Move along,\",name)"
   ]
  },
  {
   "cell_type": "code",
   "execution_count": null,
   "metadata": {
    "collapsed": true
   },
   "outputs": [],
   "source": [
    "# Play along!\n",
    "# Write 3 if/else statements below:"
   ]
  },
  {
   "cell_type": "markdown",
   "metadata": {},
   "source": [
    "You can <font color=\"red\">nest</font> if statements for more complicated logic"
   ]
  },
  {
   "cell_type": "code",
   "execution_count": 80,
   "metadata": {
    "collapsed": false
   },
   "outputs": [
    {
     "name": "stdout",
     "output_type": "stream",
     "text": [
      "Dude, what happened to Rick?\n"
     ]
    }
   ],
   "source": [
    "# Compare this to the previous example.  \n",
    "# Change name and grandson_name to help you trace what's going on in this example\n",
    "\n",
    "name = \"Sam\"\n",
    "grandson_name = \"Morty\"\n",
    "\n",
    "if name==\"Rick\" and grandson_name==\"Morty\":\n",
    "    print(\"Rick and Morty for a Thousand Years!\")\n",
    "else:\n",
    "    if name==\"Rick\":\n",
    "        print(\"Dude, what happened to Morty?\")\n",
    "    else:\n",
    "        if grandson_name==\"Morty\":\n",
    "            print(\"Dude, what happened to Rick?\")\n",
    "        else:\n",
    "            print(\"Move along,\",name)\n"
   ]
  },
  {
   "cell_type": "code",
   "execution_count": null,
   "metadata": {
    "collapsed": true
   },
   "outputs": [],
   "source": [
    "# Play along!\n",
    "# Write one if/else statement nested in another if/else statement."
   ]
  }
 ],
 "metadata": {
  "anaconda-cloud": {},
  "kernelspec": {
   "display_name": "Python [conda root]",
   "language": "python",
   "name": "conda-root-py"
  },
  "language_info": {
   "codemirror_mode": {
    "name": "ipython",
    "version": 3
   },
   "file_extension": ".py",
   "mimetype": "text/x-python",
   "name": "python",
   "nbconvert_exporter": "python",
   "pygments_lexer": "ipython3",
   "version": "3.5.2"
  }
 },
 "nbformat": 4,
 "nbformat_minor": 1
}
