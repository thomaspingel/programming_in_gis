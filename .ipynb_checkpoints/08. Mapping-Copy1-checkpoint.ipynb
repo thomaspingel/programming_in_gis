{
 "cells": [
  {
   "cell_type": "code",
   "execution_count": null,
   "id": "52c53a1a",
   "metadata": {},
   "outputs": [],
   "source": [
    "import numpy as np\n",
    "import pandas as pd\n",
    "import matplotlib.pyplot as plt\n",
    "import matplotlib as mpl\n",
    "\n",
    "import os\n",
    "import glob\n",
    "\n",
    "import rasterio\n",
    "from rasterio.plot import show\n",
    "import geopandas"
   ]
  },
  {
   "cell_type": "markdown",
   "id": "31606cd1",
   "metadata": {},
   "source": [
    "To this point, we've focused mostly on the processing of data.  But Python can be used to create maps, both for exploratory analysis, and for polished, publication-ready maps.  Take a look at [pythonmaps.com](https://www.pythonmaps.com/) to see what Python can do.  Several plotting libraries have gone by the wayside over the past few years (e.g., [CARTOframes](https://carto.com/developers/cartoframes/)).  These aren't the only game in town.  See [Bokeh](https://bokeh.org/) and [Datashader](https://datashader.org/) (and [xarray.spatial](https://datashader.org/user_guide/Geography.html)) in particular.\n",
    "\n",
    "Let's look at a few of these:\n",
    "\n",
    "* [Pretty Maps](#Pretty-Maps)\n",
    "* [Geoplot](#Geoplot)\n",
    "* [Contextily](#Contextily)\n",
    "* [Cartopy](#Cartopy)\n",
    "* [Basemap](#Basemap) (effectively deprecated)"
   ]
  },
  {
   "cell_type": "markdown",
   "id": "7a99a2d3",
   "metadata": {},
   "source": [
    "# Geopandas and Rasterio\n",
    "\n",
    "Much of what you'll want to map can be done with the internal mapping capabilities of Geopandas and Rasterio, both of which depend on many of the packages you'll see here.  But for reference:"
   ]
  },
  {
   "cell_type": "code",
   "execution_count": null,
   "id": "e90e9d76",
   "metadata": {},
   "outputs": [],
   "source": [
    "df = geopandas.read_file('https://raw.githubusercontent.com/thomaspingel/geodata/master/natural_earth/ne_10m_populated_places.geojson')\n",
    "src = rasterio.open('https://github.com/thomaspingel/geodata/raw/master/terrain/hyspometric.tif')"
   ]
  },
  {
   "cell_type": "code",
   "execution_count": null,
   "id": "241dea50",
   "metadata": {},
   "outputs": [],
   "source": [
    "fig,ax = plt.subplots(figsize=(15,15))\n",
    "rasterio.plot.show(src, ax=ax)\n",
    "df.plot(ax=ax,color='red',markersize=3)"
   ]
  },
  {
   "cell_type": "code",
   "execution_count": null,
   "id": "01f3da2c",
   "metadata": {},
   "outputs": [],
   "source": [
    "src.close()"
   ]
  },
  {
   "cell_type": "code",
   "execution_count": null,
   "id": "29954db6",
   "metadata": {},
   "outputs": [],
   "source": [
    "## Remember that Geopandas has an explore function that can be used in combination with several elements below\n",
    "\n",
    "df.explore()"
   ]
  },
  {
   "cell_type": "markdown",
   "id": "9ab11369",
   "metadata": {},
   "source": [
    "# Pretty Maps\n",
    "\n",
    "[PrettyMaps](https://github.com/marceloprates/prettymaps) is a super fast way to make maps using [OpenStreetMap](https://www.openstreetmap.org/#map=12/11.0733/106.3078) data.  \n",
    "\n",
    "**Unfortunately, this doesn't seem to be running at the moment, so leaving this here as an example only.**"
   ]
  },
  {
   "cell_type": "code",
   "execution_count": null,
   "id": "55607823",
   "metadata": {},
   "outputs": [],
   "source": [
    "# Install, if necessary\n",
    "# !pip install prettymaps\n",
    "\n",
    "import prettymaps"
   ]
  },
  {
   "cell_type": "code",
   "execution_count": null,
   "id": "1f6e6370",
   "metadata": {},
   "outputs": [],
   "source": [
    "# A simple map of Blacksburg\n",
    "\n",
    "plot = prettymaps.plot('White House')"
   ]
  },
  {
   "cell_type": "markdown",
   "id": "9836cd64",
   "metadata": {},
   "source": [
    "# Geoplot\n",
    "\n",
    "[Geoplot](https://residentmario.github.io/geoplot/) comes installed with [Geopandas](https://geopandas.org/en/stable/), and is its mapping engine (so this should all look fairly familiar).  Geoplot builds on [cartopy](https://scitools.org.uk/cartopy/docs/latest/).  \n",
    "\n",
    "Be sure to review the [gallery](https://residentmario.github.io/geoplot/gallery/index.html) for more examples.\n",
    "\n",
    "If needed, install using:\n",
    "~~~\n",
    "conda install geoplot -c conda-forge\n",
    "~~~"
   ]
  },
  {
   "cell_type": "code",
   "execution_count": null,
   "id": "9d1827d7",
   "metadata": {},
   "outputs": [],
   "source": [
    "import geoplot as gplt\n",
    "import geoplot.crs as gcrs"
   ]
  },
  {
   "cell_type": "code",
   "execution_count": null,
   "id": "4c226ed2",
   "metadata": {},
   "outputs": [],
   "source": [
    "# A simple example: point plot\n",
    "\n",
    "usa_cities = geopandas.read_file(gplt.datasets.get_path('usa_cities'))\n",
    "continental_usa_cities = usa_cities.query('STATE not in [\"HI\", \"AK\", \"PR\"]')    # Note the nice query syntax\n",
    "gplt.pointplot(continental_usa_cities)"
   ]
  },
  {
   "cell_type": "code",
   "execution_count": null,
   "id": "899536b2",
   "metadata": {},
   "outputs": [],
   "source": [
    "# Polygon plot\n",
    "\n",
    "contiguous_usa = geopandas.read_file(gplt.datasets.get_path('contiguous_usa'))\n",
    "gplt.polyplot(contiguous_usa)"
   ]
  },
  {
   "cell_type": "code",
   "execution_count": null,
   "id": "9c3f49d3",
   "metadata": {},
   "outputs": [],
   "source": [
    "# Syntax for combining multiple layers (overplotting) follows what we've seen with geopandas\n",
    "\n",
    "ax = gplt.polyplot(contiguous_usa)\n",
    "gplt.pointplot(continental_usa_cities, ax=ax)"
   ]
  },
  {
   "cell_type": "code",
   "execution_count": null,
   "id": "677f50e2",
   "metadata": {},
   "outputs": [],
   "source": [
    "# Projections\n",
    "\n",
    "ax = gplt.polyplot(contiguous_usa, projection=gcrs.AlbersEqualArea())\n",
    "gplt.pointplot(continental_usa_cities, ax=ax)"
   ]
  },
  {
   "cell_type": "code",
   "execution_count": null,
   "id": "5eca2059",
   "metadata": {},
   "outputs": [],
   "source": [
    "# Adding basemaps\n",
    "\n",
    "ax = gplt.webmap(contiguous_usa, projection=gcrs.WebMercator(),figsize=(15,10))\n",
    "gplt.pointplot(continental_usa_cities, ax=ax, hue='ELEV_IN_FT', cmap='terrain', legend=True)"
   ]
  },
  {
   "cell_type": "markdown",
   "id": "f5fc9d45",
   "metadata": {},
   "source": [
    "## Choropleths"
   ]
  },
  {
   "cell_type": "code",
   "execution_count": null,
   "id": "eae8ab46",
   "metadata": {},
   "outputs": [],
   "source": [
    "df = geopandas.read_file('https://github.com/thomaspingel/geodata/raw/master/election/election_conus.gpkg')\n",
    "df.head()"
   ]
  },
  {
   "cell_type": "code",
   "execution_count": null,
   "id": "865a5b31",
   "metadata": {},
   "outputs": [],
   "source": [
    "# In Matplotlib, we can supply vmin and vmax arguments.  We can't do that here, and must instead follow\n",
    "# some slightly more sophisiticated techniques for normalization \n",
    "# https://matplotlib.org/3.1.1/tutorials/colors/colormapnorms.html\n",
    "\n",
    "norm = mpl.colors.Normalize(vmin=-30, vmax=30)\n",
    "cmap = mpl.cm.ScalarMappable(norm=norm, cmap='bwr').cmap\n",
    "\n",
    "gplt.choropleth(df, hue='gop_minus_dem_prc_2020', projection=gcrs.AlbersEqualArea(),cmap=cmap,norm=norm,\n",
    "                legend=True,figsize=(15,10),legend_kwargs={'orientation': 'horizontal'},edgecolor='k')"
   ]
  },
  {
   "cell_type": "markdown",
   "id": "f07b992b",
   "metadata": {},
   "source": [
    "## [KDE (Density) Plots](https://residentmario.github.io/geoplot/plot_references/plot_reference.html#kdeplot)"
   ]
  },
  {
   "cell_type": "code",
   "execution_count": null,
   "id": "3acd84b8",
   "metadata": {},
   "outputs": [],
   "source": [
    "boroughs = geopandas.read_file(gplt.datasets.get_path('nyc_boroughs'))\n",
    "collisions = geopandas.read_file(gplt.datasets.get_path('nyc_collision_factors'))\n",
    "\n",
    "ax = gplt.polyplot(boroughs, projection=gcrs.WebMercator(), zorder=1)\n",
    "gplt.kdeplot(collisions, cmap='Reds', shade=True, thresh=0.05,\n",
    "             clip=boroughs, ax=ax)"
   ]
  },
  {
   "cell_type": "markdown",
   "id": "f10d7a01",
   "metadata": {},
   "source": [
    "## Cartograms"
   ]
  },
  {
   "cell_type": "code",
   "execution_count": null,
   "id": "c644f546",
   "metadata": {},
   "outputs": [],
   "source": [
    "contiguous_usa = geopandas.read_file(gplt.datasets.get_path('contiguous_usa'))\n",
    "gplt.cartogram(contiguous_usa, scale='population', projection=gcrs.AlbersEqualArea())"
   ]
  },
  {
   "cell_type": "markdown",
   "id": "9634bf98",
   "metadata": {},
   "source": [
    "## Sankey Diagrams"
   ]
  },
  {
   "cell_type": "code",
   "execution_count": null,
   "id": "b6a58b0d",
   "metadata": {},
   "outputs": [],
   "source": [
    "# One of my all-time favorites: A Sankey plot of traffic in Washington DC\n",
    "\n",
    "dc_roads = geopandas.read_file(gplt.datasets.get_path('dc_roads'))\n",
    "\n",
    "gplt.sankey(\n",
    "    dc_roads, projection=gcrs.WebMercator(),\n",
    "    scale='aadt', limits=(0.1, 10), color='black',figsize=(15,15)\n",
    ")\n",
    "\n",
    "plt.title(\"Streets in Washington DC by Average Daily Traffic, 2015\")"
   ]
  },
  {
   "cell_type": "markdown",
   "id": "a63b2362",
   "metadata": {},
   "source": [
    "# Contextily\n",
    "\n",
    "GeoPlot uses [Contextily](https://contextily.readthedocs.io/en/latest/) to serve basemaps, and a little familiarity with it will help you see your options."
   ]
  },
  {
   "cell_type": "code",
   "execution_count": null,
   "id": "44f71e6a",
   "metadata": {},
   "outputs": [],
   "source": [
    "import contextily as cx"
   ]
  },
  {
   "cell_type": "code",
   "execution_count": null,
   "id": "737ef59e",
   "metadata": {},
   "outputs": [],
   "source": [
    "df = geopandas.read_file(gplt.datasets.get_path('usa_cities'))\n",
    "df = df.query('STATE not in [\"HI\", \"AK\", \"PR\"]')    # Note the nice query syntax\n",
    "df = df.to_crs(5070)\n",
    "\n",
    "ax = df.plot()\n",
    "cx.add_basemap(ax,crs=df.crs.to_string())"
   ]
  },
  {
   "cell_type": "code",
   "execution_count": null,
   "id": "53f2ce77",
   "metadata": {},
   "outputs": [],
   "source": [
    "# See a list of other providers\n",
    "\n",
    "cx.providers"
   ]
  },
  {
   "cell_type": "code",
   "execution_count": null,
   "id": "8ee46df8",
   "metadata": {},
   "outputs": [],
   "source": [
    "# specify the source to control the basemap\n",
    "\n",
    "ax = df.plot()\n",
    "cx.add_basemap(ax,crs=df.crs.to_string(),source=cx.providers.NASAGIBS.BlueMarble)"
   ]
  },
  {
   "cell_type": "code",
   "execution_count": null,
   "id": "346befa7",
   "metadata": {},
   "outputs": [],
   "source": [
    "# Experiment with providers to look at maps you're interested in\n",
    "\n",
    "provider = cx.providers.Stamen.Toner\n",
    "myplace = cx.Place(\"Ireland\", source=provider)\n",
    "myplace.plot()"
   ]
  },
  {
   "cell_type": "markdown",
   "id": "6205efce",
   "metadata": {},
   "source": [
    "# Cartopy"
   ]
  },
  {
   "cell_type": "markdown",
   "id": "1d7ac074",
   "metadata": {},
   "source": [
    "If you're interested for solid, static maps, [Cartopy](https://scitools.org.uk/cartopy/docs/latest/gallery/index.html) is a good place to start."
   ]
  },
  {
   "cell_type": "code",
   "execution_count": null,
   "id": "779f4b4e",
   "metadata": {},
   "outputs": [],
   "source": [
    "import cartopy.crs as ccrs"
   ]
  },
  {
   "cell_type": "code",
   "execution_count": null,
   "id": "d7459a0c",
   "metadata": {},
   "outputs": [],
   "source": [
    "# A simple basemap is easily done\n",
    "\n",
    "fig = plt.figure(figsize=(10, 5))\n",
    "ax = fig.add_subplot(1, 1, 1, projection=ccrs.Robinson())\n",
    "\n",
    "ax.set_global()\n",
    "ax.stock_img()\n",
    "ax.coastlines()"
   ]
  },
  {
   "cell_type": "code",
   "execution_count": null,
   "id": "929c97ac",
   "metadata": {},
   "outputs": [],
   "source": [
    "# Adding points manually is also quite simple.  Note the specification of the transform\n",
    "\n",
    "fig = plt.figure(figsize=(10, 5))\n",
    "ax = fig.add_subplot(1, 1, 1, projection=ccrs.Robinson())\n",
    "\n",
    "ax.set_global()\n",
    "ax.stock_img()\n",
    "ax.coastlines()\n",
    "\n",
    "ax.plot(-80.4139, 37.2296, 'ro', transform=ccrs.PlateCarree())"
   ]
  },
  {
   "cell_type": "code",
   "execution_count": null,
   "id": "6dd543de",
   "metadata": {},
   "outputs": [],
   "source": [
    "fig = plt.figure(figsize=(10, 5))\n",
    "ax = fig.add_subplot(1, 1, 1, projection=ccrs.Orthographic(0,0))\n",
    "\n",
    "ax.set_global()\n",
    "ax.stock_img()\n",
    "ax.coastlines()"
   ]
  },
  {
   "cell_type": "markdown",
   "id": "eb7f43e0",
   "metadata": {},
   "source": [
    "## Animations"
   ]
  },
  {
   "cell_type": "code",
   "execution_count": null,
   "id": "18ffec5c",
   "metadata": {},
   "outputs": [],
   "source": [
    "# Let's create an animation of the glove spinning!  Install with pip install moviepy if necessary.\n",
    "\n",
    "from moviepy import editor as mpy"
   ]
  },
  {
   "cell_type": "code",
   "execution_count": null,
   "id": "c00305d6",
   "metadata": {},
   "outputs": [],
   "source": [
    "outdir = 'out/animation/'\n",
    "if not os.path.exists(outdir):\n",
    "   os.makedirs(outdir)\n",
    "\n",
    "interval = 5 # degrees\n",
    "for i,lon in enumerate(range(0,-360,-interval)):\n",
    "    # Draw the basemap\n",
    "    fig = plt.figure(figsize=(5, 5))\n",
    "    ax = fig.add_subplot(1, 1, 1, projection=ccrs.Orthographic(lon,0))    \n",
    "    ax.set_global()\n",
    "    ax.stock_img()\n",
    "    ax.coastlines()\n",
    "\n",
    "    fig.savefig(outdir + str(i).zfill(2) + '.png',dpi=72)\n",
    "    plt.close('all')"
   ]
  },
  {
   "cell_type": "code",
   "execution_count": null,
   "id": "2d1a48d7",
   "metadata": {},
   "outputs": [],
   "source": [
    "infiles = glob.glob(outdir + '*.png')\n",
    "\n",
    "# Write out movie as an mp4 and as a gif\n",
    "clip = mpy.ImageSequenceClip(infiles, fps=10)\n",
    "clip.write_videofile('out/spinning_globe.mp4',bitrate='200000k')\n",
    "clip.write_gif(\"out/spinning_globe.gif\",fps=10)"
   ]
  },
  {
   "cell_type": "markdown",
   "id": "504b1c58",
   "metadata": {},
   "source": [
    "# Basemap\n",
    "\n",
    "Basemap is one of the oldest Python mapping libraries, so its interaction functionality is a bit limited.  However, it meshes perfectly well with standard geospatial packages like Geopandas, Shapely, and PyProj.  We use it to create static maps we might use in figures.  Much of this section can be found in an earlier form at the [previous version of the course](https://github.com/thomaspingel/intro_to_geospatial_python/blob/master/10.%20Open%20Source%20Geospatial%20Tools%20for%20Python.ipynb)."
   ]
  },
  {
   "cell_type": "code",
   "execution_count": null,
   "id": "244965e8",
   "metadata": {},
   "outputs": [],
   "source": [
    "# Installs, if necessary\n",
    "# !pip install moviepy\n",
    "# !pip install Basemap\n",
    "\n",
    "from mpl_toolkits.basemap import Basemap"
   ]
  },
  {
   "cell_type": "code",
   "execution_count": null,
   "id": "10420033",
   "metadata": {},
   "outputs": [],
   "source": [
    "# Look how easy it is to begin!\n",
    "map = Basemap()\n",
    "_ = map.fillcontinents()"
   ]
  },
  {
   "cell_type": "code",
   "execution_count": null,
   "id": "638d5b2e",
   "metadata": {},
   "outputs": [],
   "source": [
    "# Use resolution to draw finer or coarser maps\n",
    "# Options are 'c' (crude), 'l' (low), 'i' (intermediate), 'h' (high)\n",
    "# 'f' (full) or None\n",
    "# 'i' and above require the installation of an additional support package\n",
    "\n",
    "map = Basemap(resolution='l')\n",
    "_ = map.fillcontinents()"
   ]
  },
  {
   "cell_type": "code",
   "execution_count": null,
   "id": "48f0e25a",
   "metadata": {},
   "outputs": [],
   "source": [
    "# A somewhat annoying format can be used to select a particular bounding box\n",
    "# This is a nice way to get bounding boxes of popular geographic objects:\n",
    "# http://isithackday.com/geoplanet-explorer/index.php?woeid=24865673\n",
    "\n",
    "map = Basemap(llcrnrlat=-58, llcrnrlon=-90, urcrnrlat=15, urcrnrlon=-30)\n",
    "_ = map.fillcontinents(color='black')"
   ]
  },
  {
   "cell_type": "code",
   "execution_count": null,
   "id": "c47bfaf8",
   "metadata": {},
   "outputs": [],
   "source": [
    "# The Blue Marble is a nice backdrop, and easy to make\n",
    "\n",
    "map = Basemap()\n",
    "map.bluemarble()"
   ]
  },
  {
   "cell_type": "markdown",
   "id": "7a90fde3",
   "metadata": {},
   "source": [
    "# Projections"
   ]
  },
  {
   "cell_type": "code",
   "execution_count": null,
   "id": "47a5f1f8",
   "metadata": {},
   "outputs": [],
   "source": [
    "# It's often a good idea to define limits; the defaults for Mercator, for example\n",
    "# Will extend to 90/-90, which will cause big problems for an image-based backdrop\n",
    "# Like blue marble\n",
    "\n",
    "map = Basemap(projection='merc',urcrnrlat=84,llcrnrlat=-80,llcrnrlon=-180,urcrnrlon=180)\n",
    "_ = map.fillcontinents(color='black')"
   ]
  },
  {
   "cell_type": "code",
   "execution_count": null,
   "id": "ca74b77a",
   "metadata": {},
   "outputs": [],
   "source": [
    "# The defaults:\n",
    "\n",
    "map = Basemap(projection='merc')\n",
    "_ = map.fillcontinents(color='black')"
   ]
  },
  {
   "cell_type": "markdown",
   "id": "906655f3",
   "metadata": {},
   "source": [
    "## Built-in Layers"
   ]
  },
  {
   "cell_type": "code",
   "execution_count": null,
   "id": "8ae2c8dc",
   "metadata": {},
   "outputs": [],
   "source": [
    "# Many of the layers you're likely interested in are in Basemap already. \n",
    "\n",
    "map = Basemap(resolution='c')\n",
    "map.drawcoastlines(color='black')\n",
    "map.drawcountries(color='black')\n",
    "map.drawstates(color='red')"
   ]
  },
  {
   "cell_type": "markdown",
   "id": "e4b54226",
   "metadata": {},
   "source": [
    "## Two extended examples"
   ]
  },
  {
   "cell_type": "code",
   "execution_count": null,
   "id": "cb6382a5",
   "metadata": {},
   "outputs": [],
   "source": [
    "# Adapted from \n",
    "# https://borealperspectives.wordpress.com/2016/03/07/plotting-polygon-shapefiles-on-a-matplotlib-basemap-with-geopandas-shapely-and-descartes/\n",
    "\n",
    "water = 'lightskyblue'\n",
    "earth = 'cornsilk'\n",
    "juneau_lon, juneau_lat = -134.4167, 58.3\n",
    " \n",
    "fig, ax1 = plt.subplots(figsize=(12, 10))\n",
    "\n",
    "# We create an object that we'll use to draw more than one thing: mm\n",
    "mm = Basemap(resolution='l',projection='ortho',lon_0=juneau_lon, lat_0=juneau_lat)\n",
    "coast = mm.drawcoastlines()\n",
    "continents = mm.fillcontinents(color=earth,lake_color=water,zorder=5)\n",
    "bound= mm.drawmapboundary(fill_color=water)\n",
    "countries = mm.drawcountries(zorder=6)\n",
    "merid = mm.drawmeridians(np.arange(-180, 180, 15),zorder=2)\n",
    "parall = mm.drawparallels(np.arange(-90,90,15),zorder=2)\n",
    "\n",
    "# Convert lon,lat to map coordinates using the map object\n",
    "x, y = mm(juneau_lon, juneau_lat)\n",
    "juneau = mm.scatter(x, y, color='red', zorder=10)\n",
    "\n",
    "plt.savefig('out/basemap_example.png',dpi=300)"
   ]
  },
  {
   "cell_type": "code",
   "execution_count": null,
   "id": "416a545b",
   "metadata": {},
   "outputs": [],
   "source": [
    "# Load a shapefile, and randomly select 100 populated places\n",
    "# https://www.naturalearthdata.com/download/10m/cultural/ne_10m_populated_places.zip\n",
    "\n",
    "df = geopandas.read_file('https://raw.githubusercontent.com/thomaspingel/geodata/master/natural_earth/ne_10m_populated_places.geojson')\n",
    "idx = np.random.choice(len(df),100)\n",
    "df = df.iloc[idx,:]\n",
    "\n",
    "# Draw the basemap\n",
    "fig, ax1 = plt.subplots(figsize=(6,6))\n",
    "mm = Basemap(resolution='i',projection='ortho',lon_0=0, lat_0=0)\n",
    "mm.drawcoastlines()\n",
    "\n",
    "# Extract and convert the coordinates\n",
    "lon = [p.x for p in df.geometry]\n",
    "lat = [p.y for p in df.geometry]\n",
    "x,y = mm(lon,lat)\n",
    "\n",
    "# Add them to the map\n",
    "mm.scatter(x,y,color='red')\n",
    "\n",
    "# Save to disk\n",
    "fig.savefig('out/selected_populated_places.png')"
   ]
  }
 ],
 "metadata": {
  "kernelspec": {
   "display_name": "Python 3 (ipykernel)",
   "language": "python",
   "name": "python3"
  },
  "language_info": {
   "codemirror_mode": {
    "name": "ipython",
    "version": 3
   },
   "file_extension": ".py",
   "mimetype": "text/x-python",
   "name": "python",
   "nbconvert_exporter": "python",
   "pygments_lexer": "ipython3",
   "version": "3.9.0"
  }
 },
 "nbformat": 4,
 "nbformat_minor": 5
}
